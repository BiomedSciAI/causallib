{
 "cells": [
  {
   "cell_type": "markdown",
   "metadata": {},
   "source": [
    "# Comparing Effect Estimators on Fast-food Employment Data\n",
    "\n",
    "We look at the famous Card and Krueger study[1] of the impact of a minimum wage change on employment levels in fast food restaurants near the border of New Jersey and Pennsylvania. The treatment in this case was whether the restaurant was in a state which enacted a minimum wage increase (in this case NJ), the outcome is the total number of employees per branch after the change of the law and many covariates were collected for controlling, as detailed below. \n",
    "\n",
    "The naive estimation would show that raising the minimum wage causes a decrease in number of employees hired per restaurant. However, once we correct for the covariates we find that in fact there was no such effect and that there may have been an increase in employment following the minimum wage increase.\n",
    "\n",
    "This notebook demonstrates how `causallib` enables causal effect estimation using different methods easily, by utilizing a consistent API.\n",
    "\n",
    "[1] : Card, D. & Krueger, A. Minimum Wages and Employment: A Case Study of the Fast Food Industry in New Jersey and Pennsylvania. w4509 http://www.nber.org/papers/w4509.pdf (1993) doi:10.3386/w4509."
   ]
  },
  {
   "cell_type": "markdown",
   "metadata": {},
   "source": [
    "## Data \n",
    "\n",
    "We begin by obtaining the data from Card's website."
   ]
  },
  {
   "cell_type": "code",
   "execution_count": 1,
   "metadata": {},
   "outputs": [],
   "source": [
    "import pandas as pd\n",
    "import numpy as np\n",
    "import warnings\n",
    "\n",
    "\n",
    "def load_card_krueger(select_covariates=[\"EMPTOT\", \"WAGE_ST\", \"INCTIME\", \"BK\", \"KFC\", \"ROYS\", \"WENDYS\"], outcome=\"EMPTOT2\", dropna=True, include_managers=False):\n",
    "    \"\"\"\n",
    "    Load data on the effect of a change in minimum wage laws on fast food employment\n",
    "\n",
    "    Loads data from the study by Card and Krueger [1].  Data downloads from Card's website.\n",
    "\n",
    "    Args:\n",
    "        select_covariates (list) : List of covariates to return. The default list is based on the analysis by Imbens and Rubin [2].\n",
    "            To return all covariates pass an empty list: []\n",
    "        outcome (str) : Name of column to use as outcome. Defaults to total employees after minimum wage change.\n",
    "        dropna (bool) : Whether to remove columns with NaN in the select_covariates or outcome columns.\n",
    "        include_managers (bool) : Whether to include managers in employee count. Card & Krueger include them, Imbens & Rubin\n",
    "            do not include them. (default: False)\n",
    "\n",
    "    Returns:\n",
    "        databunch (Bunch) : Bunch with member `x`,`a`, `y` and descriptors corresponding to covariates, \n",
    "        treatment (New Jersey vs Pennsylvania), outcome, and descriptors as parsed \n",
    "        from the codebook file distributed by Card.\n",
    "\n",
    "    [1] : Card, D. & Krueger, A. Minimum Wages and Employment: A Case Study of the Fast Food Industry in New Jersey and Pennsylvania. \n",
    "        w4509 http://www.nber.org/papers/w4509.pdf (1993) doi:10.3386/w4509.\n",
    "    [2] : Imbens, G.W. & Rubin D.B., Causal Inference for Statistics, Social, and Biomedical Sciences: An Introduction, Chapter 18, \n",
    "        (Cambridge University Press, 2015)\n",
    "\n",
    "\n",
    "    \"\"\"\n",
    "    import requests\n",
    "    import zipfile\n",
    "    from io import BytesIO, TextIOWrapper\n",
    "    from sklearn.utils import Bunch\n",
    "\n",
    "    r = requests.get(\"https://davidcard.berkeley.edu/data_sets/njmin.zip\")\n",
    "    z = zipfile.ZipFile(BytesIO(r.content))\n",
    "    df = pd.read_csv(z.open(\"public.dat\"), engine=\"python\", sep=\"\\s+\",\n",
    "                     header=None).applymap(lambda x: pd.to_numeric(x, errors=\"coerce\"))\n",
    "\n",
    "    # Load column names and descriptions from `codebook`\n",
    "    codebook = [repr(line)\n",
    "                for line in TextIOWrapper(z.open(\"codebook\"), \"cp437\")]\n",
    "    # part of the codebook is not relevant\n",
    "    codes = codebook[7:11] + codebook[13:19] + \\\n",
    "        codebook[21:38] + codebook[40:59]\n",
    "    cols = [i.strip(\"'\\\" \").split()[0] for i in codes]\n",
    "    descriptions = [\" \".join(i.strip(\"'\\\" \").split()[\n",
    "                             4:]).rstrip('\\\\n') for i in codes]\n",
    "    column_descriptions = dict(zip(cols, descriptions))\n",
    "    df.columns = cols\n",
    "\n",
    "    # Calculate total employment following Card and Krueger's method\n",
    "    if include_managers:\n",
    "        df = df.assign(EMPTOT=df.EMPFT + 0.5 * df.EMPPT + df.NMGRS)\n",
    "        column_descriptions[\"EMPTOT\"] = \"Initial total employment (full_time_employees + managers + 0.5*part_time_employees)\"\n",
    "        df = df.assign(EMPTOT2=df.EMPFT2 + 0.5 * df.EMPPT2 + df.NMGRS2)\n",
    "        column_descriptions[\"EMPTOT2\"] = \"Final total employment (full_time_employees + managers + 0.5*part_time_employees)\"\n",
    "    else:\n",
    "        # Calculate total employment following Imbens and Rubin's method\n",
    "        df = df.assign(EMPTOT=df.EMPFT + 0.5 * df.EMPPT)\n",
    "        column_descriptions[\"EMPTOT\"] = \"Initial total employment (full_time_employees + 0.5*part_time_employees)\"\n",
    "        df = df.assign(EMPTOT2=df.EMPFT2 + 0.5 * df.EMPPT2)\n",
    "        column_descriptions[\"EMPTOT2\"] = \"Final total employment (full_time_employees + 0.5*part_time_employees)\"\n",
    "\n",
    "    #df = pd.get_dummies(df,prefix=\"name\",drop_first=True,columns=[\"CHAIN\"]).rename(columns=dict(name_1=\"KFC\",name_2=\"ROYS\",name_3=\"WENDYS\"))\n",
    "    df = pd.get_dummies(df, prefix=\"name\", drop_first=False, columns=[\"CHAIN\"]).rename(\n",
    "        columns=dict(name_1=\"BK\", name_2=\"KFC\", name_3=\"ROYS\", name_4=\"WENDYS\"))\n",
    "    column_descriptions.update(dict(BK=\"is branch of Burger King\", KFC=\"is branch of KFC\",\n",
    "                                    ROYS=\"is branch of Roy's\", WENDYS=\"is branch of Wendy's\"))\n",
    "    select_covariates = [i for i in select_covariates if i in df.columns]\n",
    "    if dropna:\n",
    "        if select_covariates:\n",
    "            df = df.dropna(subset=select_covariates + [\"STATE\", outcome])\n",
    "        else:\n",
    "            df = df.dropna()\n",
    "\n",
    "    # Divide data into pre-intervention and post-intervention variables\n",
    "    x = df[[c for c in df.columns if \"2\" not in c]]\n",
    "\n",
    "    y = df[[c for c in df.columns if \"2\" in c]]\n",
    "    y = df.pop(outcome)\n",
    "\n",
    "    a = x.pop(\"STATE\")\n",
    "\n",
    "    if select_covariates:\n",
    "        x = x[select_covariates]\n",
    "    return Bunch(X=x, a=a, y=y, descriptors=pd.Series(column_descriptions))"
   ]
  },
  {
   "cell_type": "markdown",
   "metadata": {},
   "source": [
    "Card and Krueger studied the impact of an increase in the minimum wage in NJ on levels of employment in NJ and the adjacent area in PA. They included many covariates in the survey. Here we will use the subset used by Imbens and Rubin in their analysis of this data in \"Causal Inference for Statistics, Social, and Biomedical Sciences\"."
   ]
  },
  {
   "cell_type": "code",
   "execution_count": 2,
   "metadata": {},
   "outputs": [
    {
     "data": {
      "text/html": [
       "<div>\n",
       "<style scoped>\n",
       "    .dataframe tbody tr th:only-of-type {\n",
       "        vertical-align: middle;\n",
       "    }\n",
       "\n",
       "    .dataframe tbody tr th {\n",
       "        vertical-align: top;\n",
       "    }\n",
       "\n",
       "    .dataframe thead th {\n",
       "        text-align: right;\n",
       "    }\n",
       "</style>\n",
       "<table border=\"1\" class=\"dataframe\">\n",
       "  <thead>\n",
       "    <tr style=\"text-align: right;\">\n",
       "      <th></th>\n",
       "      <th>EMPTOT</th>\n",
       "      <th>WAGE_ST</th>\n",
       "      <th>INCTIME</th>\n",
       "      <th>BK</th>\n",
       "      <th>KFC</th>\n",
       "      <th>ROYS</th>\n",
       "      <th>WENDYS</th>\n",
       "      <th>STATE</th>\n",
       "      <th>EMPTOT2</th>\n",
       "    </tr>\n",
       "  </thead>\n",
       "  <tbody>\n",
       "    <tr>\n",
       "      <th>3</th>\n",
       "      <td>30.0</td>\n",
       "      <td>5.00</td>\n",
       "      <td>26.0</td>\n",
       "      <td>0</td>\n",
       "      <td>0</td>\n",
       "      <td>0</td>\n",
       "      <td>1</td>\n",
       "      <td>0</td>\n",
       "      <td>18.0</td>\n",
       "    </tr>\n",
       "    <tr>\n",
       "      <th>4</th>\n",
       "      <td>19.0</td>\n",
       "      <td>5.50</td>\n",
       "      <td>52.0</td>\n",
       "      <td>0</td>\n",
       "      <td>0</td>\n",
       "      <td>0</td>\n",
       "      <td>1</td>\n",
       "      <td>0</td>\n",
       "      <td>29.5</td>\n",
       "    </tr>\n",
       "    <tr>\n",
       "      <th>6</th>\n",
       "      <td>67.5</td>\n",
       "      <td>5.00</td>\n",
       "      <td>26.0</td>\n",
       "      <td>1</td>\n",
       "      <td>0</td>\n",
       "      <td>0</td>\n",
       "      <td>0</td>\n",
       "      <td>0</td>\n",
       "      <td>24.0</td>\n",
       "    </tr>\n",
       "    <tr>\n",
       "      <th>7</th>\n",
       "      <td>18.5</td>\n",
       "      <td>5.00</td>\n",
       "      <td>52.0</td>\n",
       "      <td>1</td>\n",
       "      <td>0</td>\n",
       "      <td>0</td>\n",
       "      <td>0</td>\n",
       "      <td>0</td>\n",
       "      <td>30.5</td>\n",
       "    </tr>\n",
       "    <tr>\n",
       "      <th>8</th>\n",
       "      <td>6.0</td>\n",
       "      <td>5.25</td>\n",
       "      <td>13.0</td>\n",
       "      <td>0</td>\n",
       "      <td>1</td>\n",
       "      <td>0</td>\n",
       "      <td>0</td>\n",
       "      <td>0</td>\n",
       "      <td>9.0</td>\n",
       "    </tr>\n",
       "  </tbody>\n",
       "</table>\n",
       "</div>"
      ],
      "text/plain": [
       "   EMPTOT  WAGE_ST  INCTIME  BK  KFC  ROYS  WENDYS  STATE  EMPTOT2\n",
       "3    30.0     5.00     26.0   0    0     0       1      0     18.0\n",
       "4    19.0     5.50     52.0   0    0     0       1      0     29.5\n",
       "6    67.5     5.00     26.0   1    0     0       0      0     24.0\n",
       "7    18.5     5.00     52.0   1    0     0       0      0     30.5\n",
       "8     6.0     5.25     13.0   0    1     0       0      0      9.0"
      ]
     },
     "execution_count": 2,
     "metadata": {},
     "output_type": "execute_result"
    }
   ],
   "source": [
    "data = load_card_krueger()\n",
    "X, a, y = data.X, data.a, data.y\n",
    "data.X.join(data.a).join(data.y).head()"
   ]
  },
  {
   "cell_type": "code",
   "execution_count": 3,
   "metadata": {},
   "outputs": [
    {
     "data": {
      "text/plain": [
       "EMPTOT     Initial total employment (full_time_employees ...\n",
       "WAGE_ST                                 starting wage ($/hr)\n",
       "INCTIME                          months to usual first raise\n",
       "BK                                  is branch of Burger King\n",
       "KFC                                         is branch of KFC\n",
       "ROYS                                      is branch of Roy's\n",
       "WENDYS                                  is branch of Wendy's\n",
       "STATE                                      1 if NJ; 0 if Pa \n",
       "EMPTOT2    Final total employment (full_time_employees + ...\n",
       "dtype: object"
      ]
     },
     "execution_count": 3,
     "metadata": {},
     "output_type": "execute_result"
    }
   ],
   "source": [
    "data.descriptors.loc[data.X.join(data.a).join(data.y).columns]"
   ]
  },
  {
   "cell_type": "markdown",
   "metadata": {},
   "source": [
    "After loading the data, we begin by checking the association between treatment and outcome, without any causal inference."
   ]
  },
  {
   "cell_type": "code",
   "execution_count": 4,
   "metadata": {},
   "outputs": [
    {
     "name": "stdout",
     "output_type": "stream",
     "text": [
      "NJ fast food restaurants had a change of -0.21974 employees compared to PA fast food restaurants.\n"
     ]
    }
   ],
   "source": [
    "naive_ate = data.y[data.a == 1].mean() - data.y[data.a == 0].mean()\n",
    "print(\n",
    "    f\"NJ fast food restaurants had a change of {naive_ate:.5f} employees compared to PA fast food restaurants.\")"
   ]
  },
  {
   "cell_type": "markdown",
   "metadata": {},
   "source": [
    "Based on this, we would conclude that the increase in minimum wage in fact decreased employment levels in fast food restaurants, because the level of employment in the treated group (NJ) was lower than the untreated group (PA). However, this inference would only be justified if the restaurants in NJ and PA were otherwise equivalent. Let us utilize the provided `calculate_covariate_balance` function to check that now:"
   ]
  },
  {
   "cell_type": "code",
   "execution_count": 5,
   "metadata": {
    "scrolled": true
   },
   "outputs": [
    {
     "data": {
      "text/plain": [
       "covariate\n",
       "ROYS       0.001462\n",
       "BK         0.015325\n",
       "WAGE_ST    0.038154\n",
       "INCTIME    0.080553\n",
       "WENDYS     0.127842\n",
       "KFC        0.142869\n",
       "EMPTOT     0.195605\n",
       "Name: unweighted, dtype: float64"
      ]
     },
     "execution_count": 5,
     "metadata": {},
     "output_type": "execute_result"
    }
   ],
   "source": [
    "from causallib.evaluation.metrics import calculate_covariate_balance\n",
    "\n",
    "calculate_covariate_balance(X, a, w=a*0+1)[\"unweighted\"].sort_values()"
   ]
  },
  {
   "cell_type": "code",
   "execution_count": 6,
   "metadata": {},
   "outputs": [
    {
     "data": {
      "text/html": [
       "<div>\n",
       "<style scoped>\n",
       "    .dataframe tbody tr th:only-of-type {\n",
       "        vertical-align: middle;\n",
       "    }\n",
       "\n",
       "    .dataframe tbody tr th {\n",
       "        vertical-align: top;\n",
       "    }\n",
       "\n",
       "    .dataframe thead th {\n",
       "        text-align: right;\n",
       "    }\n",
       "</style>\n",
       "<table border=\"1\" class=\"dataframe\">\n",
       "  <thead>\n",
       "    <tr style=\"text-align: right;\">\n",
       "      <th></th>\n",
       "      <th>EMPTOT</th>\n",
       "      <th>WAGE_ST</th>\n",
       "      <th>INCTIME</th>\n",
       "      <th>BK</th>\n",
       "      <th>KFC</th>\n",
       "      <th>ROYS</th>\n",
       "      <th>WENDYS</th>\n",
       "    </tr>\n",
       "    <tr>\n",
       "      <th>STATE</th>\n",
       "      <th></th>\n",
       "      <th></th>\n",
       "      <th></th>\n",
       "      <th></th>\n",
       "      <th></th>\n",
       "      <th></th>\n",
       "      <th></th>\n",
       "    </tr>\n",
       "  </thead>\n",
       "  <tbody>\n",
       "    <tr>\n",
       "      <th>0</th>\n",
       "      <td>20.172794</td>\n",
       "      <td>4.623382</td>\n",
       "      <td>19.051471</td>\n",
       "      <td>0.426471</td>\n",
       "      <td>0.132353</td>\n",
       "      <td>0.250000</td>\n",
       "      <td>0.191176</td>\n",
       "    </tr>\n",
       "    <tr>\n",
       "      <th>1</th>\n",
       "      <td>17.273297</td>\n",
       "      <td>4.604803</td>\n",
       "      <td>17.691756</td>\n",
       "      <td>0.415771</td>\n",
       "      <td>0.207885</td>\n",
       "      <td>0.250896</td>\n",
       "      <td>0.125448</td>\n",
       "    </tr>\n",
       "  </tbody>\n",
       "</table>\n",
       "</div>"
      ],
      "text/plain": [
       "          EMPTOT   WAGE_ST    INCTIME        BK       KFC      ROYS    WENDYS\n",
       "STATE                                                                        \n",
       "0      20.172794  4.623382  19.051471  0.426471  0.132353  0.250000  0.191176\n",
       "1      17.273297  4.604803  17.691756  0.415771  0.207885  0.250896  0.125448"
      ]
     },
     "execution_count": 6,
     "metadata": {},
     "output_type": "execute_result"
    }
   ],
   "source": [
    "X.groupby(a).mean()"
   ]
  },
  {
   "cell_type": "markdown",
   "metadata": {},
   "source": [
    "Here we see that the untreated state (PA) had quite a bit higher employment levels `EMPTOT` than the treated state (NJ) prior to the intervention. Could it be that the measured decline in employment in NJ is in fact explained by the prior lower number of employees per branch? In order to answer this question we need to estimate the difference in counterfactual outcomes:\n",
    "$$ATE = E[Y^{a=1}] - E[Y^{a=0}]$$\n",
    "The fundamental problem of causal inference is that for each sample we need _both_ treated and untreated outcomes, but in reality no sample was both treated and untreated. Causal inference has many ways to estimate this quantity and `causallib` implements several of them, using a uniform API. To assess the effects, we will load many estimators and compare their results. Note how the same API calls can be used, even though the underlying estimation may be very different. Here we do not focus on the details of the implementation and how each method may be tweaked. To understand the details, you can reference the documentation for each method. "
   ]
  },
  {
   "cell_type": "code",
   "execution_count": 7,
   "metadata": {},
   "outputs": [],
   "source": [
    "from sklearn.linear_model import LogisticRegression, LinearRegression\n",
    "from matplotlib import pyplot as plt\n",
    "from causallib.estimation import (\n",
    "    PropensityFeatureStandardization,\n",
    "    WeightedStandardization,\n",
    "    AIPW,\n",
    "    IPW,\n",
    "    MarginalOutcomeEstimator,\n",
    "    Standardization,\n",
    "    StratifiedStandardization,\n",
    "    Matching,\n",
    "    PropensityMatching,\n",
    ")\n",
    "from causallib.preprocessing.transformers import MatchingTransformer\n",
    "\n",
    "\n",
    "def learner(): return LogisticRegression(\n",
    "    solver=\"liblinear\", class_weight=\"balanced\", max_iter=5000)\n",
    "\n",
    "\n",
    "def makeipw(): return IPW(learner=learner())\n",
    "def makestd(): return StratifiedStandardization(learner=LinearRegression())\n",
    "\n",
    "\n",
    "all_estimators = [\n",
    "    MarginalOutcomeEstimator(learner=LinearRegression()),\n",
    "    Matching(with_replacement=False),\n",
    "    PropensityMatching(learner=learner(), caliper=0.1),\n",
    "    IPW(learner=learner()),\n",
    "    Standardization(learner=LinearRegression()),\n",
    "    StratifiedStandardization(learner=LinearRegression()),\n",
    "    PropensityFeatureStandardization(makestd(), makeipw()),\n",
    "    WeightedStandardization(makestd(), makeipw()),\n",
    "    AIPW(makestd(), makeipw()),\n",
    "]\n",
    "\n",
    "\n",
    "def get_all_estimates(X, a, y):\n",
    "    estimates = {}\n",
    "    for estimator in all_estimators:\n",
    "        estimator.fit(X, a, y)\n",
    "        estimator_name = estimator.__class__.__name__\n",
    "        estimates[estimator_name] = estimator.estimate_population_outcome(\n",
    "            X, a, y)\n",
    "    estimates_df = pd.concat(estimates, axis=1).T\n",
    "    return estimates_df"
   ]
  },
  {
   "cell_type": "markdown",
   "metadata": {},
   "source": [
    "The estimators in `causallib` share a similar API, all of them implementing `fit` and `estimate_population_outcome`. This allows us to easily try them all to see whether they are in agreement as to the causal effect. There is also a dummy estimator `MarginalOutcomeEstimator` which simply implements the naive estimate shown above. "
   ]
  },
  {
   "cell_type": "code",
   "execution_count": 8,
   "metadata": {},
   "outputs": [
    {
     "data": {
      "text/html": [
       "<div>\n",
       "<style scoped>\n",
       "    .dataframe tbody tr th:only-of-type {\n",
       "        vertical-align: middle;\n",
       "    }\n",
       "\n",
       "    .dataframe tbody tr th {\n",
       "        vertical-align: top;\n",
       "    }\n",
       "\n",
       "    .dataframe thead th {\n",
       "        text-align: right;\n",
       "    }\n",
       "</style>\n",
       "<table border=\"1\" class=\"dataframe\">\n",
       "  <thead>\n",
       "    <tr style=\"text-align: right;\">\n",
       "      <th></th>\n",
       "      <th>0</th>\n",
       "      <th>1</th>\n",
       "      <th>ATE</th>\n",
       "    </tr>\n",
       "  </thead>\n",
       "  <tbody>\n",
       "    <tr>\n",
       "      <th>MarginalOutcomeEstimator</th>\n",
       "      <td>17.544118</td>\n",
       "      <td>17.324373</td>\n",
       "      <td>-0.219745</td>\n",
       "    </tr>\n",
       "    <tr>\n",
       "      <th>Matching</th>\n",
       "      <td>17.544118</td>\n",
       "      <td>18.647059</td>\n",
       "      <td>1.102941</td>\n",
       "    </tr>\n",
       "    <tr>\n",
       "      <th>PropensityMatching</th>\n",
       "      <td>17.422190</td>\n",
       "      <td>17.725504</td>\n",
       "      <td>0.303314</td>\n",
       "    </tr>\n",
       "    <tr>\n",
       "      <th>IPW</th>\n",
       "      <td>16.967157</td>\n",
       "      <td>18.135547</td>\n",
       "      <td>1.168390</td>\n",
       "    </tr>\n",
       "    <tr>\n",
       "      <th>Standardization</th>\n",
       "      <td>16.285505</td>\n",
       "      <td>17.631131</td>\n",
       "      <td>1.345626</td>\n",
       "    </tr>\n",
       "    <tr>\n",
       "      <th>StratifiedStandardization</th>\n",
       "      <td>16.664511</td>\n",
       "      <td>17.672040</td>\n",
       "      <td>1.007530</td>\n",
       "    </tr>\n",
       "    <tr>\n",
       "      <th>PropensityFeatureStandardization</th>\n",
       "      <td>16.686028</td>\n",
       "      <td>17.638321</td>\n",
       "      <td>0.952293</td>\n",
       "    </tr>\n",
       "    <tr>\n",
       "      <th>WeightedStandardization</th>\n",
       "      <td>16.625123</td>\n",
       "      <td>17.667617</td>\n",
       "      <td>1.042494</td>\n",
       "    </tr>\n",
       "    <tr>\n",
       "      <th>AIPW</th>\n",
       "      <td>16.653759</td>\n",
       "      <td>17.673968</td>\n",
       "      <td>1.020210</td>\n",
       "    </tr>\n",
       "  </tbody>\n",
       "</table>\n",
       "</div>"
      ],
      "text/plain": [
       "                                                0          1       ATE\n",
       "MarginalOutcomeEstimator                17.544118  17.324373 -0.219745\n",
       "Matching                                17.544118  18.647059  1.102941\n",
       "PropensityMatching                      17.422190  17.725504  0.303314\n",
       "IPW                                     16.967157  18.135547  1.168390\n",
       "Standardization                         16.285505  17.631131  1.345626\n",
       "StratifiedStandardization               16.664511  17.672040  1.007530\n",
       "PropensityFeatureStandardization        16.686028  17.638321  0.952293\n",
       "WeightedStandardization                 16.625123  17.667617  1.042494\n",
       "AIPW                                    16.653759  17.673968  1.020210"
      ]
     },
     "execution_count": 8,
     "metadata": {},
     "output_type": "execute_result"
    }
   ],
   "source": [
    "warnings.filterwarnings('ignore')\n",
    "all_estimates = get_all_estimates(X, a, y)\n",
    "all_estimates.assign(ATE=all_estimates[1] - all_estimates[0])"
   ]
  },
  {
   "cell_type": "code",
   "execution_count": 9,
   "metadata": {},
   "outputs": [
    {
     "data": {
      "image/png": "[encoded data removed]",
      "text/plain": [
       "<Figure size 576x432 with 1 Axes>"
      ]
     },
     "metadata": {
      "needs_background": "light"
     },
     "output_type": "display_data"
    }
   ],
   "source": [
    "f, ax = plt.subplots(figsize=(8, 6))\n",
    "all_estimates.T.plot(ax=ax)\n",
    "ax.set_ylabel(y.name)\n",
    "ax.set_xlabel(a.name)\n",
    "plt.xticks([0, 1], [\"PA\", \"NJ\"]);"
   ]
  },
  {
   "cell_type": "markdown",
   "metadata": {},
   "source": [
    "The most striking thing that we see in this figure is that all of the estimators except one show an increase in total employment under the intervention. The only one which does not show an increase is `MarginalOutcomeEstimator`. As its name suggests, this is an estimator that assumes marginal exchangeability, ie it does not correct for any confounders.\n",
    "\n",
    "All of the causal inference methods work by estimating what would have happened if the same sample with the same covariates received a treatment other than the one it actually received. Each of the causal methods shifted the estimate of `EMPTOT2` down for PA and, to a lesser extent, up for NJ. "
   ]
  },
  {
   "cell_type": "markdown",
   "metadata": {},
   "source": [
    "# Reweighting with IPW\n",
    "Above we saw that the original sample was imbalanced in the sense that the distribution of covariates (especially `EMPTOT`) was highly unequal between the treated and control groups. Balancing the two groups is one of the central challenges of causal inference and it can be accomplished by either reweighting the samples or by restricting the analysis to a subset of the data which is balanced. The first method, reweighting is accomplished by the IPW estimator:"
   ]
  },
  {
   "cell_type": "code",
   "execution_count": 10,
   "metadata": {},
   "outputs": [
    {
     "data": {
      "text/html": [
       "<div>\n",
       "<style scoped>\n",
       "    .dataframe tbody tr th:only-of-type {\n",
       "        vertical-align: middle;\n",
       "    }\n",
       "\n",
       "    .dataframe tbody tr th {\n",
       "        vertical-align: top;\n",
       "    }\n",
       "\n",
       "    .dataframe thead th {\n",
       "        text-align: right;\n",
       "    }\n",
       "</style>\n",
       "<table border=\"1\" class=\"dataframe\">\n",
       "  <thead>\n",
       "    <tr style=\"text-align: right;\">\n",
       "      <th>abs_smd</th>\n",
       "      <th>weighted</th>\n",
       "      <th>unweighted</th>\n",
       "    </tr>\n",
       "    <tr>\n",
       "      <th>covariate</th>\n",
       "      <th></th>\n",
       "      <th></th>\n",
       "    </tr>\n",
       "  </thead>\n",
       "  <tbody>\n",
       "    <tr>\n",
       "      <th>EMPTOT</th>\n",
       "      <td>0.000816</td>\n",
       "      <td>0.195605</td>\n",
       "    </tr>\n",
       "    <tr>\n",
       "      <th>WAGE_ST</th>\n",
       "      <td>0.031575</td>\n",
       "      <td>0.038154</td>\n",
       "    </tr>\n",
       "    <tr>\n",
       "      <th>INCTIME</th>\n",
       "      <td>0.008160</td>\n",
       "      <td>0.080553</td>\n",
       "    </tr>\n",
       "    <tr>\n",
       "      <th>BK</th>\n",
       "      <td>0.006652</td>\n",
       "      <td>0.015325</td>\n",
       "    </tr>\n",
       "    <tr>\n",
       "      <th>KFC</th>\n",
       "      <td>0.006516</td>\n",
       "      <td>0.142869</td>\n",
       "    </tr>\n",
       "    <tr>\n",
       "      <th>ROYS</th>\n",
       "      <td>0.009877</td>\n",
       "      <td>0.001462</td>\n",
       "    </tr>\n",
       "    <tr>\n",
       "      <th>WENDYS</th>\n",
       "      <td>0.009438</td>\n",
       "      <td>0.127842</td>\n",
       "    </tr>\n",
       "  </tbody>\n",
       "</table>\n",
       "</div>"
      ],
      "text/plain": [
       "abs_smd    weighted  unweighted\n",
       "covariate                      \n",
       "EMPTOT     0.000816    0.195605\n",
       "WAGE_ST    0.031575    0.038154\n",
       "INCTIME    0.008160    0.080553\n",
       "BK         0.006652    0.015325\n",
       "KFC        0.006516    0.142869\n",
       "ROYS       0.009877    0.001462\n",
       "WENDYS     0.009438    0.127842"
      ]
     },
     "execution_count": 10,
     "metadata": {},
     "output_type": "execute_result"
    }
   ],
   "source": [
    "ipw = IPW(learner=LogisticRegression(solver=\"liblinear\", class_weight=\"balanced\"))\n",
    "ipw.fit(X, a)\n",
    "w = ipw.compute_weights(X, a)\n",
    "calculate_covariate_balance(X, a, w)"
   ]
  },
  {
   "cell_type": "markdown",
   "metadata": {},
   "source": [
    "We can see that most of the variables are now balanced, especially `EMPTOT`. This gives us confidence that the estimated outcome is indeed an \"apples to apples\" comparison, after weighting."
   ]
  },
  {
   "cell_type": "markdown",
   "metadata": {},
   "source": [
    "# Restricting the sample with Matching\n",
    "Another way to deal with imbalanced covariates is to only include comparisons between treated and control samples which are very similar. There are a variety of ways in which this can be accomplished. One of the most common is matching by propensity score. Here we will consider the case without replacement, where the data set is restricted to a sequence of pairs where each pair has exactly one treatment and one control, and each sample can appear at most once.\n",
    "\n",
    "We do not want to match on the covariates, but rather on the propensity score. To do this we use the `PropensityTransformer` object as a `propensity_transform` within the `MatchingTransformer`."
   ]
  },
  {
   "cell_type": "code",
   "execution_count": 11,
   "metadata": {},
   "outputs": [],
   "source": [
    "from causallib.preprocessing.transformers import PropensityTransformer\n",
    "propensity_transform = PropensityTransformer(learner=learner(), include_covariates=True)"
   ]
  },
  {
   "cell_type": "markdown",
   "metadata": {},
   "source": [
    "The propensity model will be autmatically fit when the `MatchingTransformer` is fit."
   ]
  },
  {
   "cell_type": "code",
   "execution_count": 12,
   "metadata": {},
   "outputs": [
    {
     "name": "stdout",
     "output_type": "stream",
     "text": [
      "Transforming data from 347 samples to 136 samples by matching without replacement.\n"
     ]
    }
   ],
   "source": [
    "mt = MatchingTransformer(with_replacement=False, propensity_transform=propensity_transform)\n",
    "Xm, am, ym = mt.fit_transform(X, a, y)\n",
    "print(f\"Transforming data from {X.shape[0]} samples to {Xm.shape[0]} samples by matching without replacement.\")"
   ]
  },
  {
   "cell_type": "markdown",
   "metadata": {},
   "source": [
    "We can now check the covariate balance of the resulting data directly and also with propensity weights:"
   ]
  },
  {
   "cell_type": "code",
   "execution_count": 13,
   "metadata": {},
   "outputs": [
    {
     "data": {
      "text/html": [
       "<div>\n",
       "<style scoped>\n",
       "    .dataframe tbody tr th:only-of-type {\n",
       "        vertical-align: middle;\n",
       "    }\n",
       "\n",
       "    .dataframe tbody tr th {\n",
       "        vertical-align: top;\n",
       "    }\n",
       "\n",
       "    .dataframe thead th {\n",
       "        text-align: right;\n",
       "    }\n",
       "</style>\n",
       "<table border=\"1\" class=\"dataframe\">\n",
       "  <thead>\n",
       "    <tr style=\"text-align: right;\">\n",
       "      <th>abs_smd</th>\n",
       "      <th>weighted</th>\n",
       "      <th>unweighted</th>\n",
       "    </tr>\n",
       "    <tr>\n",
       "      <th>covariate</th>\n",
       "      <th></th>\n",
       "      <th></th>\n",
       "    </tr>\n",
       "  </thead>\n",
       "  <tbody>\n",
       "    <tr>\n",
       "      <th>EMPTOT</th>\n",
       "      <td>0.005456</td>\n",
       "      <td>0.039639</td>\n",
       "    </tr>\n",
       "    <tr>\n",
       "      <th>WAGE_ST</th>\n",
       "      <td>0.028619</td>\n",
       "      <td>0.030309</td>\n",
       "    </tr>\n",
       "    <tr>\n",
       "      <th>INCTIME</th>\n",
       "      <td>0.003309</td>\n",
       "      <td>0.047924</td>\n",
       "    </tr>\n",
       "    <tr>\n",
       "      <th>BK</th>\n",
       "      <td>0.001717</td>\n",
       "      <td>0.021077</td>\n",
       "    </tr>\n",
       "    <tr>\n",
       "      <th>KFC</th>\n",
       "      <td>0.001242</td>\n",
       "      <td>0.000000</td>\n",
       "    </tr>\n",
       "    <tr>\n",
       "      <th>ROYS</th>\n",
       "      <td>0.001137</td>\n",
       "      <td>0.000000</td>\n",
       "    </tr>\n",
       "    <tr>\n",
       "      <th>WENDYS</th>\n",
       "      <td>0.004414</td>\n",
       "      <td>0.026073</td>\n",
       "    </tr>\n",
       "  </tbody>\n",
       "</table>\n",
       "</div>"
      ],
      "text/plain": [
       "abs_smd    weighted  unweighted\n",
       "covariate                      \n",
       "EMPTOT     0.005456    0.039639\n",
       "WAGE_ST    0.028619    0.030309\n",
       "INCTIME    0.003309    0.047924\n",
       "BK         0.001717    0.021077\n",
       "KFC        0.001242    0.000000\n",
       "ROYS       0.001137    0.000000\n",
       "WENDYS     0.004414    0.026073"
      ]
     },
     "execution_count": 13,
     "metadata": {},
     "output_type": "execute_result"
    }
   ],
   "source": [
    "ipw_m = IPW(learner=learner())\n",
    "ipw_m.fit(Xm, am)\n",
    "wm = ipw_m.compute_weights(Xm, am)\n",
    "calculate_covariate_balance(Xm, am, wm)"
   ]
  },
  {
   "cell_type": "markdown",
   "metadata": {},
   "source": [
    "At this point we have substantially smaller covariate imbalance, but we are using only ~40% of the data.  We can now check the estimates directly on the matched subset."
   ]
  },
  {
   "cell_type": "code",
   "execution_count": 14,
   "metadata": {},
   "outputs": [
    {
     "data": {
      "text/html": [
       "<div>\n",
       "<style scoped>\n",
       "    .dataframe tbody tr th:only-of-type {\n",
       "        vertical-align: middle;\n",
       "    }\n",
       "\n",
       "    .dataframe tbody tr th {\n",
       "        vertical-align: top;\n",
       "    }\n",
       "\n",
       "    .dataframe thead th {\n",
       "        text-align: right;\n",
       "    }\n",
       "</style>\n",
       "<table border=\"1\" class=\"dataframe\">\n",
       "  <thead>\n",
       "    <tr style=\"text-align: right;\">\n",
       "      <th></th>\n",
       "      <th>0</th>\n",
       "      <th>1</th>\n",
       "      <th>ATE</th>\n",
       "    </tr>\n",
       "  </thead>\n",
       "  <tbody>\n",
       "    <tr>\n",
       "      <th>MarginalOutcomeEstimator</th>\n",
       "      <td>17.544118</td>\n",
       "      <td>19.084559</td>\n",
       "      <td>1.540441</td>\n",
       "    </tr>\n",
       "    <tr>\n",
       "      <th>Matching</th>\n",
       "      <td>17.544118</td>\n",
       "      <td>19.084559</td>\n",
       "      <td>1.540441</td>\n",
       "    </tr>\n",
       "    <tr>\n",
       "      <th>PropensityMatching</th>\n",
       "      <td>17.645221</td>\n",
       "      <td>17.856618</td>\n",
       "      <td>0.211397</td>\n",
       "    </tr>\n",
       "    <tr>\n",
       "      <th>IPW</th>\n",
       "      <td>17.438962</td>\n",
       "      <td>19.157859</td>\n",
       "      <td>1.718897</td>\n",
       "    </tr>\n",
       "    <tr>\n",
       "      <th>Standardization</th>\n",
       "      <td>17.431120</td>\n",
       "      <td>19.197557</td>\n",
       "      <td>1.766437</td>\n",
       "    </tr>\n",
       "    <tr>\n",
       "      <th>StratifiedStandardization</th>\n",
       "      <td>17.431684</td>\n",
       "      <td>19.198245</td>\n",
       "      <td>1.766561</td>\n",
       "    </tr>\n",
       "    <tr>\n",
       "      <th>PropensityFeatureStandardization</th>\n",
       "      <td>17.500168</td>\n",
       "      <td>18.502095</td>\n",
       "      <td>1.001927</td>\n",
       "    </tr>\n",
       "    <tr>\n",
       "      <th>WeightedStandardization</th>\n",
       "      <td>17.429642</td>\n",
       "      <td>19.192642</td>\n",
       "      <td>1.763000</td>\n",
       "    </tr>\n",
       "    <tr>\n",
       "      <th>AIPW</th>\n",
       "      <td>17.429092</td>\n",
       "      <td>19.193340</td>\n",
       "      <td>1.764248</td>\n",
       "    </tr>\n",
       "  </tbody>\n",
       "</table>\n",
       "</div>"
      ],
      "text/plain": [
       "                                                0          1       ATE\n",
       "MarginalOutcomeEstimator                17.544118  19.084559  1.540441\n",
       "Matching                                17.544118  19.084559  1.540441\n",
       "PropensityMatching                      17.645221  17.856618  0.211397\n",
       "IPW                                     17.438962  19.157859  1.718897\n",
       "Standardization                         17.431120  19.197557  1.766437\n",
       "StratifiedStandardization               17.431684  19.198245  1.766561\n",
       "PropensityFeatureStandardization        17.500168  18.502095  1.001927\n",
       "WeightedStandardization                 17.429642  19.192642  1.763000\n",
       "AIPW                                    17.429092  19.193340  1.764248"
      ]
     },
     "execution_count": 14,
     "metadata": {},
     "output_type": "execute_result"
    }
   ],
   "source": [
    "all_estimates_matched = get_all_estimates(Xm, am, ym)\n",
    "all_estimates_matched.assign(ATE=all_estimates_matched[1] - all_estimates_matched[0])"
   ]
  },
  {
   "cell_type": "code",
   "execution_count": 15,
   "metadata": {},
   "outputs": [
    {
     "data": {
      "image/png": "[encoded data removed]",
      "text/plain": [
       "<Figure size 576x432 with 1 Axes>"
      ]
     },
     "metadata": {
      "needs_background": "light"
     },
     "output_type": "display_data"
    }
   ],
   "source": [
    "f, ax = plt.subplots(figsize=(8, 6))\n",
    "all_estimates_matched.T.plot(ax=ax)\n",
    "plt.ylabel(y.name)\n",
    "plt.xlabel(a.name)\n",
    "plt.xticks([0, 1], [\"PA\", \"NJ\"]);"
   ]
  },
  {
   "cell_type": "markdown",
   "metadata": {},
   "source": [
    "In this case `Matching` and `MarginalOutcomeEstimator` are in fact identical because the solution to the matching problem is the same on the matched data. Once again, we see that all of the methods find a slight positive effect."
   ]
  }
 ],
 "metadata": {
  "kernelspec": {
   "display_name": "Python 3.8.10 ('causal')",
   "language": "python",
   "name": "python3"
  },
  "language_info": {
   "codemirror_mode": {
    "name": "ipython",
    "version": 3
   },
   "file_extension": ".py",
   "mimetype": "text/x-python",
   "name": "python",
   "nbconvert_exporter": "python",
   "pygments_lexer": "ipython3",
   "version": "3.8.10"
  },
  "vscode": {
   "interpreter": {
    "hash": "69f88c614e1e3c90b1e7d1bcdbafb917f9042edfca4477b05464240f7cf41bf5"
   }
  }
 },
 "nbformat": 4,
 "nbformat_minor": 4
}

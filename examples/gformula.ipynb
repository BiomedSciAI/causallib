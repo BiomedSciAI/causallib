{
 "cells": [
  {
   "cell_type": "markdown",
   "source": [
    "# G-Formula for time-varying causal inference."
   ],
   "metadata": {
    "collapsed": false,
    "pycharm": {
     "name": "#%% md\n"
    }
   }
  },
  {
   "cell_type": "code",
   "execution_count": 1,
   "outputs": [
    {
     "name": "stderr",
     "output_type": "stream",
     "text": [
      "/Users/julinamaharjan/opt/anaconda3/envs/j_env/lib/python3.10/site-packages/tqdm/auto.py:22: TqdmWarning: IProgress not found. Please update jupyter and ipywidgets. See https://ipywidgets.readthedocs.io/en/stable/user_install.html\n",
      "  from .autonotebook import tqdm as notebook_tqdm\n"
     ]
    }
   ],
   "source": [
    "%matplotlib inline\n",
    "import pandas as pd\n",
    "from sklearn.linear_model import LogisticRegression, LinearRegression\n",
    "from causallib.time_varying.treament_strategy import CFBernoulli\n",
    "from causallib.time_varying.GFormula import GFormula"
   ],
   "metadata": {
    "collapsed": false,
    "pycharm": {
     "name": "#%%\n"
    }
   }
  },
  {
   "cell_type": "code",
   "execution_count": 2,
   "outputs": [],
   "source": [
    "df_obs = pd.read_csv('../../gnet_robust_rnn/easiest_sim_x2/data/easiest_gnet_data_obs_2x.csv') #, index_col=0)"
   ],
   "metadata": {
    "collapsed": false,
    "pycharm": {
     "name": "#%%\n"
    }
   }
  },
  {
   "cell_type": "code",
   "execution_count": 3,
   "outputs": [
    {
     "name": "stdout",
     "output_type": "stream",
     "text": [
      "10000\n"
     ]
    },
    {
     "data": {
      "text/plain": "   A         X        X2  time  id\n0  0 -0.326233  1.329799     1   1\n1  1  1.014886  1.272429     2   1\n2  0  0.960009  0.414641     3   1\n3  0  2.940409 -1.539950     4   1\n4  1  3.767785 -0.928567     5   1",
      "text/html": "<div>\n<style scoped>\n    .dataframe tbody tr th:only-of-type {\n        vertical-align: middle;\n    }\n\n    .dataframe tbody tr th {\n        vertical-align: top;\n    }\n\n    .dataframe thead th {\n        text-align: right;\n    }\n</style>\n<table border=\"1\" class=\"dataframe\">\n  <thead>\n    <tr style=\"text-align: right;\">\n      <th></th>\n      <th>A</th>\n      <th>X</th>\n      <th>X2</th>\n      <th>time</th>\n      <th>id</th>\n    </tr>\n  </thead>\n  <tbody>\n    <tr>\n      <th>0</th>\n      <td>0</td>\n      <td>-0.326233</td>\n      <td>1.329799</td>\n      <td>1</td>\n      <td>1</td>\n    </tr>\n    <tr>\n      <th>1</th>\n      <td>1</td>\n      <td>1.014886</td>\n      <td>1.272429</td>\n      <td>2</td>\n      <td>1</td>\n    </tr>\n    <tr>\n      <th>2</th>\n      <td>0</td>\n      <td>0.960009</td>\n      <td>0.414641</td>\n      <td>3</td>\n      <td>1</td>\n    </tr>\n    <tr>\n      <th>3</th>\n      <td>0</td>\n      <td>2.940409</td>\n      <td>-1.539950</td>\n      <td>4</td>\n      <td>1</td>\n    </tr>\n    <tr>\n      <th>4</th>\n      <td>1</td>\n      <td>3.767785</td>\n      <td>-0.928567</td>\n      <td>5</td>\n      <td>1</td>\n    </tr>\n  </tbody>\n</table>\n</div>"
     },
     "execution_count": 3,
     "metadata": {},
     "output_type": "execute_result"
    }
   ],
   "source": [
    "df_obs_ids = df_obs.id.unique()\n",
    "print(len(df_obs_ids))\n",
    "df_obs = df_obs[:10000]\n",
    "df_obs.head()"
   ],
   "metadata": {
    "collapsed": false,
    "pycharm": {
     "name": "#%%\n"
    }
   }
  },
  {
   "cell_type": "code",
   "execution_count": 4,
   "outputs": [],
   "source": [
    "# df_obs.columns.tolist()\n",
    "X = df_obs[['id', 'time', 'X', 'X2']]\n",
    "a = df_obs[['A']]\n",
    "# t="
   ],
   "metadata": {
    "collapsed": false,
    "pycharm": {
     "name": "#%%\n"
    }
   }
  },
  {
   "cell_type": "code",
   "execution_count": 5,
   "outputs": [],
   "source": [
    "covariate_models = {\n",
    "    'X':  LinearRegression(),\n",
    "    'X2': LinearRegression()\n",
    "}\n",
    "treatment_model = LogisticRegression(solver=\"liblinear\")\n",
    "treatment_strategy = CFBernoulli()"
   ],
   "metadata": {
    "collapsed": false,
    "pycharm": {
     "name": "#%%\n"
    }
   }
  },
  {
   "cell_type": "code",
   "execution_count": 6,
   "outputs": [],
   "source": [
    "gFormula = GFormula(treatment_model=treatment_model,\n",
    "                    covariate_models=covariate_models,\n",
    "                    outcome_model=None,\n",
    "                    refit_models=False,\n",
    "                    random_state=None,\n",
    "                    n_obsv=5,\n",
    "                    n_sims=3,\n",
    "                    n_steps=50,\n",
    "                    mode='normal',\n",
    "                    resid_val=None,\n",
    "                    )"
   ],
   "metadata": {
    "collapsed": false,
    "pycharm": {
     "name": "#%%\n"
    }
   }
  },
  {
   "cell_type": "code",
   "execution_count": 7,
   "outputs": [
    {
     "data": {
      "text/plain": "   id  time         X        X2\n0   1     1 -0.326233  1.329799\n1   1     2  1.014886  1.272429\n2   1     3  0.960009  0.414641\n3   1     4  2.940409 -1.539950\n4   1     5  3.767785 -0.928567",
      "text/html": "<div>\n<style scoped>\n    .dataframe tbody tr th:only-of-type {\n        vertical-align: middle;\n    }\n\n    .dataframe tbody tr th {\n        vertical-align: top;\n    }\n\n    .dataframe thead th {\n        text-align: right;\n    }\n</style>\n<table border=\"1\" class=\"dataframe\">\n  <thead>\n    <tr style=\"text-align: right;\">\n      <th></th>\n      <th>id</th>\n      <th>time</th>\n      <th>X</th>\n      <th>X2</th>\n    </tr>\n  </thead>\n  <tbody>\n    <tr>\n      <th>0</th>\n      <td>1</td>\n      <td>1</td>\n      <td>-0.326233</td>\n      <td>1.329799</td>\n    </tr>\n    <tr>\n      <th>1</th>\n      <td>1</td>\n      <td>2</td>\n      <td>1.014886</td>\n      <td>1.272429</td>\n    </tr>\n    <tr>\n      <th>2</th>\n      <td>1</td>\n      <td>3</td>\n      <td>0.960009</td>\n      <td>0.414641</td>\n    </tr>\n    <tr>\n      <th>3</th>\n      <td>1</td>\n      <td>4</td>\n      <td>2.940409</td>\n      <td>-1.539950</td>\n    </tr>\n    <tr>\n      <th>4</th>\n      <td>1</td>\n      <td>5</td>\n      <td>3.767785</td>\n      <td>-0.928567</td>\n    </tr>\n  </tbody>\n</table>\n</div>"
     },
     "execution_count": 7,
     "metadata": {},
     "output_type": "execute_result"
    }
   ],
   "source": [
    "X.head()"
   ],
   "metadata": {
    "collapsed": false,
    "pycharm": {
     "name": "#%%\n"
    }
   }
  },
  {
   "cell_type": "code",
   "execution_count": 8,
   "outputs": [
    {
     "data": {
      "text/plain": "   A\n0  0\n1  1\n2  0\n3  0\n4  1",
      "text/html": "<div>\n<style scoped>\n    .dataframe tbody tr th:only-of-type {\n        vertical-align: middle;\n    }\n\n    .dataframe tbody tr th {\n        vertical-align: top;\n    }\n\n    .dataframe thead th {\n        text-align: right;\n    }\n</style>\n<table border=\"1\" class=\"dataframe\">\n  <thead>\n    <tr style=\"text-align: right;\">\n      <th></th>\n      <th>A</th>\n    </tr>\n  </thead>\n  <tbody>\n    <tr>\n      <th>0</th>\n      <td>0</td>\n    </tr>\n    <tr>\n      <th>1</th>\n      <td>1</td>\n    </tr>\n    <tr>\n      <th>2</th>\n      <td>0</td>\n    </tr>\n    <tr>\n      <th>3</th>\n      <td>0</td>\n    </tr>\n    <tr>\n      <th>4</th>\n      <td>1</td>\n    </tr>\n  </tbody>\n</table>\n</div>"
     },
     "execution_count": 8,
     "metadata": {},
     "output_type": "execute_result"
    }
   ],
   "source": [
    "a.head()"
   ],
   "metadata": {
    "collapsed": false,
    "pycharm": {
     "name": "#%%\n"
    }
   }
  },
  {
   "cell_type": "code",
   "execution_count": 9,
   "outputs": [
    {
     "name": "stderr",
     "output_type": "stream",
     "text": [
      "/Users/julinamaharjan/opt/anaconda3/envs/j_env/lib/python3.10/site-packages/sklearn/utils/validation.py:1111: DataConversionWarning: A column-vector y was passed when a 1d array was expected. Please change the shape of y to (n_samples, ), for example using ravel().\n",
      "  y = column_or_1d(y, warn=True)\n"
     ]
    },
    {
     "data": {
      "text/plain": "GFormula(covariate_models={'X': LinearRegression(), 'X2': LinearRegression()}, id_col=id, mode=normal, n_obsv=5, n_sims=3, n_steps=50, outcome_model=None, predict_proba=False, random_state=None, refit_models=False, resid_val=None, treatment_model=LogisticRegression(solver='liblinear'))"
     },
     "execution_count": 9,
     "metadata": {},
     "output_type": "execute_result"
    }
   ],
   "source": [
    "gFormula.fit(X, a, t=None, y=None)"
   ],
   "metadata": {
    "collapsed": false,
    "pycharm": {
     "name": "#%%\n"
    }
   }
  },
  {
   "cell_type": "code",
   "execution_count": 10,
   "outputs": [
    {
     "data": {
      "text/plain": "            X        X2    A   id\n0    4.670379  0.636814  0.0    1\n1    4.895002 -0.302626  0.0    1\n2    5.021143  0.534537  0.0    1\n3    5.461737 -0.676439  0.0    1\n4    6.118352 -0.672422  0.0    1\n..        ...       ...  ...  ...\n45  26.291222 -0.446060  0.0  200\n46  26.803711  0.682858  0.0  200\n47  27.138891  0.955932  0.0  200\n48  27.162689  0.909121  0.0  200\n49  27.888717 -0.103657  0.0  200\n\n[10000 rows x 4 columns]",
      "text/html": "<div>\n<style scoped>\n    .dataframe tbody tr th:only-of-type {\n        vertical-align: middle;\n    }\n\n    .dataframe tbody tr th {\n        vertical-align: top;\n    }\n\n    .dataframe thead th {\n        text-align: right;\n    }\n</style>\n<table border=\"1\" class=\"dataframe\">\n  <thead>\n    <tr style=\"text-align: right;\">\n      <th></th>\n      <th>X</th>\n      <th>X2</th>\n      <th>A</th>\n      <th>id</th>\n    </tr>\n  </thead>\n  <tbody>\n    <tr>\n      <th>0</th>\n      <td>4.670379</td>\n      <td>0.636814</td>\n      <td>0.0</td>\n      <td>1</td>\n    </tr>\n    <tr>\n      <th>1</th>\n      <td>4.895002</td>\n      <td>-0.302626</td>\n      <td>0.0</td>\n      <td>1</td>\n    </tr>\n    <tr>\n      <th>2</th>\n      <td>5.021143</td>\n      <td>0.534537</td>\n      <td>0.0</td>\n      <td>1</td>\n    </tr>\n    <tr>\n      <th>3</th>\n      <td>5.461737</td>\n      <td>-0.676439</td>\n      <td>0.0</td>\n      <td>1</td>\n    </tr>\n    <tr>\n      <th>4</th>\n      <td>6.118352</td>\n      <td>-0.672422</td>\n      <td>0.0</td>\n      <td>1</td>\n    </tr>\n    <tr>\n      <th>...</th>\n      <td>...</td>\n      <td>...</td>\n      <td>...</td>\n      <td>...</td>\n    </tr>\n    <tr>\n      <th>45</th>\n      <td>26.291222</td>\n      <td>-0.446060</td>\n      <td>0.0</td>\n      <td>200</td>\n    </tr>\n    <tr>\n      <th>46</th>\n      <td>26.803711</td>\n      <td>0.682858</td>\n      <td>0.0</td>\n      <td>200</td>\n    </tr>\n    <tr>\n      <th>47</th>\n      <td>27.138891</td>\n      <td>0.955932</td>\n      <td>0.0</td>\n      <td>200</td>\n    </tr>\n    <tr>\n      <th>48</th>\n      <td>27.162689</td>\n      <td>0.909121</td>\n      <td>0.0</td>\n      <td>200</td>\n    </tr>\n    <tr>\n      <th>49</th>\n      <td>27.888717</td>\n      <td>-0.103657</td>\n      <td>0.0</td>\n      <td>200</td>\n    </tr>\n  </tbody>\n</table>\n<p>10000 rows × 4 columns</p>\n</div>"
     },
     "execution_count": 10,
     "metadata": {},
     "output_type": "execute_result"
    }
   ],
   "source": [
    "a = df_obs[['id', 'A']]\n",
    "est_outcome = gFormula.estimate_individual_outcome(\n",
    "                                                    X,\n",
    "                                                    a,\n",
    "                                                    t=None,\n",
    "                                                    y=None,\n",
    "                                                    treatment_strategy=treatment_strategy\n",
    "                                                )\n",
    "est_outcome"
   ],
   "metadata": {
    "collapsed": false,
    "pycharm": {
     "name": "#%%\n"
    }
   }
  },
  {
   "cell_type": "markdown",
   "source": [],
   "metadata": {
    "collapsed": false,
    "pycharm": {
     "name": "#%% md\n"
    }
   }
  },
  {
   "cell_type": "code",
   "execution_count": 11,
   "outputs": [
    {
     "name": "stderr",
     "output_type": "stream",
     "text": [
      "/Users/julinamaharjan/PycharmProjects/causallib/causallib/time_varying/GFormula.py:200: FutureWarning: Using the level keyword in DataFrame and Series aggregations is deprecated and will be removed in a future version. Use groupby instead. df.median(level=1) should use df.groupby(level=1).median().\n",
      "  res = individual_prediction_curves.mean(level=0).reset_index()\n"
     ]
    },
    {
     "data": {
      "text/plain": "    index          X        X2         A     id\n0       0   2.746317 -0.001807  0.138333  100.5\n1       1   3.148419  0.023140  0.121667  100.5\n2       2   3.686121 -0.002554  0.133333  100.5\n3       3   4.157084  0.000506  0.100000  100.5\n4       4   4.642408  0.064254  0.086667  100.5\n5       5   5.167545 -0.003527  0.068333  100.5\n6       6   5.728270  0.054484  0.053333  100.5\n7       7   6.238159  0.009502  0.048333  100.5\n8       8   6.730567 -0.069997  0.036667  100.5\n9       9   7.261958 -0.040569  0.040000  100.5\n10     10   7.846546  0.038544  0.025000  100.5\n11     11   8.335549  0.059183  0.026667  100.5\n12     12   8.898457  0.024037  0.018333  100.5\n13     13   9.440964  0.092707  0.018333  100.5\n14     14  10.002541  0.050825  0.016667  100.5\n15     15  10.587011  0.087706  0.013333  100.5\n16     16  11.097522 -0.029892  0.015000  100.5\n17     17  11.668954 -0.044028  0.015000  100.5\n18     18  12.196167 -0.014369  0.013333  100.5\n19     19  12.783258  0.115941  0.011667  100.5\n20     20  13.297715  0.032135  0.008333  100.5\n21     21  13.880766  0.018640  0.008333  100.5\n22     22  14.485988  0.058702  0.010000  100.5\n23     23  15.117839  0.009043  0.005000  100.5\n24     24  15.708186  0.092349  0.005000  100.5\n25     25  16.351302  0.059968  0.000000  100.5\n26     26  16.916878  0.131949  0.001667  100.5\n27     27  17.534871  0.034593  0.000000  100.5\n28     28  18.223218  0.030268  0.000000  100.5\n29     29  18.901512  0.061524  0.000000  100.5\n30     30  19.536373  0.019374  0.001667  100.5\n31     31  20.188469  0.062699  0.000000  100.5\n32     32  20.886633  0.032268  0.000000  100.5\n33     33  21.559704  0.066708  0.001667  100.5\n34     34  22.178210  0.036184  0.001667  100.5\n35     35  22.856355  0.113512  0.001667  100.5\n36     36  23.489263  0.002507  0.001667  100.5\n37     37  24.179674  0.117681  0.001667  100.5\n38     38  24.878254  0.071961  0.001667  100.5\n39     39  25.560574  0.075716  0.000000  100.5\n40     40  26.347353  0.040105  0.001667  100.5\n41     41  27.131027  0.098447  0.001667  100.5\n42     42  27.870366  0.105129  0.001667  100.5\n43     43  28.581421  0.176382  0.001667  100.5\n44     44  29.333237  0.142258  0.001667  100.5\n45     45  30.136066  0.085726  0.000000  100.5\n46     46  30.863202  0.089272  0.000000  100.5\n47     47  31.707714  0.078983  0.000000  100.5\n48     48  32.474481  0.146694  0.000000  100.5\n49     49  33.284283  0.108315  0.000000  100.5",
      "text/html": "<div>\n<style scoped>\n    .dataframe tbody tr th:only-of-type {\n        vertical-align: middle;\n    }\n\n    .dataframe tbody tr th {\n        vertical-align: top;\n    }\n\n    .dataframe thead th {\n        text-align: right;\n    }\n</style>\n<table border=\"1\" class=\"dataframe\">\n  <thead>\n    <tr style=\"text-align: right;\">\n      <th></th>\n      <th>index</th>\n      <th>X</th>\n      <th>X2</th>\n      <th>A</th>\n      <th>id</th>\n    </tr>\n  </thead>\n  <tbody>\n    <tr>\n      <th>0</th>\n      <td>0</td>\n      <td>2.746317</td>\n      <td>-0.001807</td>\n      <td>0.138333</td>\n      <td>100.5</td>\n    </tr>\n    <tr>\n      <th>1</th>\n      <td>1</td>\n      <td>3.148419</td>\n      <td>0.023140</td>\n      <td>0.121667</td>\n      <td>100.5</td>\n    </tr>\n    <tr>\n      <th>2</th>\n      <td>2</td>\n      <td>3.686121</td>\n      <td>-0.002554</td>\n      <td>0.133333</td>\n      <td>100.5</td>\n    </tr>\n    <tr>\n      <th>3</th>\n      <td>3</td>\n      <td>4.157084</td>\n      <td>0.000506</td>\n      <td>0.100000</td>\n      <td>100.5</td>\n    </tr>\n    <tr>\n      <th>4</th>\n      <td>4</td>\n      <td>4.642408</td>\n      <td>0.064254</td>\n      <td>0.086667</td>\n      <td>100.5</td>\n    </tr>\n    <tr>\n      <th>5</th>\n      <td>5</td>\n      <td>5.167545</td>\n      <td>-0.003527</td>\n      <td>0.068333</td>\n      <td>100.5</td>\n    </tr>\n    <tr>\n      <th>6</th>\n      <td>6</td>\n      <td>5.728270</td>\n      <td>0.054484</td>\n      <td>0.053333</td>\n      <td>100.5</td>\n    </tr>\n    <tr>\n      <th>7</th>\n      <td>7</td>\n      <td>6.238159</td>\n      <td>0.009502</td>\n      <td>0.048333</td>\n      <td>100.5</td>\n    </tr>\n    <tr>\n      <th>8</th>\n      <td>8</td>\n      <td>6.730567</td>\n      <td>-0.069997</td>\n      <td>0.036667</td>\n      <td>100.5</td>\n    </tr>\n    <tr>\n      <th>9</th>\n      <td>9</td>\n      <td>7.261958</td>\n      <td>-0.040569</td>\n      <td>0.040000</td>\n      <td>100.5</td>\n    </tr>\n    <tr>\n      <th>10</th>\n      <td>10</td>\n      <td>7.846546</td>\n      <td>0.038544</td>\n      <td>0.025000</td>\n      <td>100.5</td>\n    </tr>\n    <tr>\n      <th>11</th>\n      <td>11</td>\n      <td>8.335549</td>\n      <td>0.059183</td>\n      <td>0.026667</td>\n      <td>100.5</td>\n    </tr>\n    <tr>\n      <th>12</th>\n      <td>12</td>\n      <td>8.898457</td>\n      <td>0.024037</td>\n      <td>0.018333</td>\n      <td>100.5</td>\n    </tr>\n    <tr>\n      <th>13</th>\n      <td>13</td>\n      <td>9.440964</td>\n      <td>0.092707</td>\n      <td>0.018333</td>\n      <td>100.5</td>\n    </tr>\n    <tr>\n      <th>14</th>\n      <td>14</td>\n      <td>10.002541</td>\n      <td>0.050825</td>\n      <td>0.016667</td>\n      <td>100.5</td>\n    </tr>\n    <tr>\n      <th>15</th>\n      <td>15</td>\n      <td>10.587011</td>\n      <td>0.087706</td>\n      <td>0.013333</td>\n      <td>100.5</td>\n    </tr>\n    <tr>\n      <th>16</th>\n      <td>16</td>\n      <td>11.097522</td>\n      <td>-0.029892</td>\n      <td>0.015000</td>\n      <td>100.5</td>\n    </tr>\n    <tr>\n      <th>17</th>\n      <td>17</td>\n      <td>11.668954</td>\n      <td>-0.044028</td>\n      <td>0.015000</td>\n      <td>100.5</td>\n    </tr>\n    <tr>\n      <th>18</th>\n      <td>18</td>\n      <td>12.196167</td>\n      <td>-0.014369</td>\n      <td>0.013333</td>\n      <td>100.5</td>\n    </tr>\n    <tr>\n      <th>19</th>\n      <td>19</td>\n      <td>12.783258</td>\n      <td>0.115941</td>\n      <td>0.011667</td>\n      <td>100.5</td>\n    </tr>\n    <tr>\n      <th>20</th>\n      <td>20</td>\n      <td>13.297715</td>\n      <td>0.032135</td>\n      <td>0.008333</td>\n      <td>100.5</td>\n    </tr>\n    <tr>\n      <th>21</th>\n      <td>21</td>\n      <td>13.880766</td>\n      <td>0.018640</td>\n      <td>0.008333</td>\n      <td>100.5</td>\n    </tr>\n    <tr>\n      <th>22</th>\n      <td>22</td>\n      <td>14.485988</td>\n      <td>0.058702</td>\n      <td>0.010000</td>\n      <td>100.5</td>\n    </tr>\n    <tr>\n      <th>23</th>\n      <td>23</td>\n      <td>15.117839</td>\n      <td>0.009043</td>\n      <td>0.005000</td>\n      <td>100.5</td>\n    </tr>\n    <tr>\n      <th>24</th>\n      <td>24</td>\n      <td>15.708186</td>\n      <td>0.092349</td>\n      <td>0.005000</td>\n      <td>100.5</td>\n    </tr>\n    <tr>\n      <th>25</th>\n      <td>25</td>\n      <td>16.351302</td>\n      <td>0.059968</td>\n      <td>0.000000</td>\n      <td>100.5</td>\n    </tr>\n    <tr>\n      <th>26</th>\n      <td>26</td>\n      <td>16.916878</td>\n      <td>0.131949</td>\n      <td>0.001667</td>\n      <td>100.5</td>\n    </tr>\n    <tr>\n      <th>27</th>\n      <td>27</td>\n      <td>17.534871</td>\n      <td>0.034593</td>\n      <td>0.000000</td>\n      <td>100.5</td>\n    </tr>\n    <tr>\n      <th>28</th>\n      <td>28</td>\n      <td>18.223218</td>\n      <td>0.030268</td>\n      <td>0.000000</td>\n      <td>100.5</td>\n    </tr>\n    <tr>\n      <th>29</th>\n      <td>29</td>\n      <td>18.901512</td>\n      <td>0.061524</td>\n      <td>0.000000</td>\n      <td>100.5</td>\n    </tr>\n    <tr>\n      <th>30</th>\n      <td>30</td>\n      <td>19.536373</td>\n      <td>0.019374</td>\n      <td>0.001667</td>\n      <td>100.5</td>\n    </tr>\n    <tr>\n      <th>31</th>\n      <td>31</td>\n      <td>20.188469</td>\n      <td>0.062699</td>\n      <td>0.000000</td>\n      <td>100.5</td>\n    </tr>\n    <tr>\n      <th>32</th>\n      <td>32</td>\n      <td>20.886633</td>\n      <td>0.032268</td>\n      <td>0.000000</td>\n      <td>100.5</td>\n    </tr>\n    <tr>\n      <th>33</th>\n      <td>33</td>\n      <td>21.559704</td>\n      <td>0.066708</td>\n      <td>0.001667</td>\n      <td>100.5</td>\n    </tr>\n    <tr>\n      <th>34</th>\n      <td>34</td>\n      <td>22.178210</td>\n      <td>0.036184</td>\n      <td>0.001667</td>\n      <td>100.5</td>\n    </tr>\n    <tr>\n      <th>35</th>\n      <td>35</td>\n      <td>22.856355</td>\n      <td>0.113512</td>\n      <td>0.001667</td>\n      <td>100.5</td>\n    </tr>\n    <tr>\n      <th>36</th>\n      <td>36</td>\n      <td>23.489263</td>\n      <td>0.002507</td>\n      <td>0.001667</td>\n      <td>100.5</td>\n    </tr>\n    <tr>\n      <th>37</th>\n      <td>37</td>\n      <td>24.179674</td>\n      <td>0.117681</td>\n      <td>0.001667</td>\n      <td>100.5</td>\n    </tr>\n    <tr>\n      <th>38</th>\n      <td>38</td>\n      <td>24.878254</td>\n      <td>0.071961</td>\n      <td>0.001667</td>\n      <td>100.5</td>\n    </tr>\n    <tr>\n      <th>39</th>\n      <td>39</td>\n      <td>25.560574</td>\n      <td>0.075716</td>\n      <td>0.000000</td>\n      <td>100.5</td>\n    </tr>\n    <tr>\n      <th>40</th>\n      <td>40</td>\n      <td>26.347353</td>\n      <td>0.040105</td>\n      <td>0.001667</td>\n      <td>100.5</td>\n    </tr>\n    <tr>\n      <th>41</th>\n      <td>41</td>\n      <td>27.131027</td>\n      <td>0.098447</td>\n      <td>0.001667</td>\n      <td>100.5</td>\n    </tr>\n    <tr>\n      <th>42</th>\n      <td>42</td>\n      <td>27.870366</td>\n      <td>0.105129</td>\n      <td>0.001667</td>\n      <td>100.5</td>\n    </tr>\n    <tr>\n      <th>43</th>\n      <td>43</td>\n      <td>28.581421</td>\n      <td>0.176382</td>\n      <td>0.001667</td>\n      <td>100.5</td>\n    </tr>\n    <tr>\n      <th>44</th>\n      <td>44</td>\n      <td>29.333237</td>\n      <td>0.142258</td>\n      <td>0.001667</td>\n      <td>100.5</td>\n    </tr>\n    <tr>\n      <th>45</th>\n      <td>45</td>\n      <td>30.136066</td>\n      <td>0.085726</td>\n      <td>0.000000</td>\n      <td>100.5</td>\n    </tr>\n    <tr>\n      <th>46</th>\n      <td>46</td>\n      <td>30.863202</td>\n      <td>0.089272</td>\n      <td>0.000000</td>\n      <td>100.5</td>\n    </tr>\n    <tr>\n      <th>47</th>\n      <td>47</td>\n      <td>31.707714</td>\n      <td>0.078983</td>\n      <td>0.000000</td>\n      <td>100.5</td>\n    </tr>\n    <tr>\n      <th>48</th>\n      <td>48</td>\n      <td>32.474481</td>\n      <td>0.146694</td>\n      <td>0.000000</td>\n      <td>100.5</td>\n    </tr>\n    <tr>\n      <th>49</th>\n      <td>49</td>\n      <td>33.284283</td>\n      <td>0.108315</td>\n      <td>0.000000</td>\n      <td>100.5</td>\n    </tr>\n  </tbody>\n</table>\n</div>"
     },
     "execution_count": 11,
     "metadata": {},
     "output_type": "execute_result"
    }
   ],
   "source": [
    "a = df_obs[['id', 'A']]\n",
    "pop_outcome = gFormula.estimate_population_outcome(X, a, t=None, y=None, treatment_strategy=treatment_strategy )\n",
    "pop_outcome"
   ],
   "metadata": {
    "collapsed": false,
    "pycharm": {
     "name": "#%%\n"
    }
   }
  },
  {
   "cell_type": "code",
   "execution_count": 12,
   "outputs": [],
   "source": [
    "# effect = gFormula.estimate_effect(pop_outcome[1], pop_outcome[0])"
   ],
   "metadata": {
    "collapsed": false,
    "pycharm": {
     "name": "#%%\n"
    }
   }
  },
  {
   "cell_type": "code",
   "execution_count": 13,
   "outputs": [
    {
     "data": {
      "text/plain": "<Figure size 432x288 with 1 Axes>",
      "image/png": "[encoded data removed]"
     },
     "metadata": {
      "needs_background": "light"
     },
     "output_type": "display_data"
    }
   ],
   "source": [
    "import matplotlib.pyplot as plt\n",
    "#Get current axis\n",
    "ax = plt.gca()\n",
    "\n",
    "# line plot for math marks\n",
    "pop_outcome.plot(kind = 'line',\n",
    "        x = 'index',\n",
    "        y = 'X',\n",
    "        color = 'green',ax = ax)\n",
    "\n",
    "# line plot for physics marks\n",
    "pop_outcome.plot(kind = 'line',x = 'index',\n",
    "        y = 'X2',\n",
    "        color = 'blue',ax = ax)\n",
    "\n",
    "# line plot for chemistry marks\n",
    "pop_outcome.plot(kind = 'line',x = 'index',\n",
    "        y = 'A',\n",
    "        color = 'black',ax = ax)\n",
    "\n",
    "# set the title\n",
    "plt.title('Counterfactual Prediction')\n",
    "\n",
    "# show the plot\n",
    "plt.show()"
   ],
   "metadata": {
    "collapsed": false,
    "pycharm": {
     "name": "#%%\n"
    }
   }
  },
  {
   "cell_type": "code",
   "execution_count": null,
   "outputs": [],
   "source": [],
   "metadata": {
    "collapsed": false,
    "pycharm": {
     "name": "#%%\n",
     "is_executing": true
    }
   }
  },
  {
   "cell_type": "code",
   "execution_count": 13,
   "outputs": [],
   "source": [],
   "metadata": {
    "collapsed": false,
    "pycharm": {
     "name": "#%%\n"
    }
   }
  }
 ],
 "metadata": {
  "kernelspec": {
   "display_name": "Python 3",
   "language": "python",
   "name": "python3"
  },
  "language_info": {
   "codemirror_mode": {
    "name": "ipython",
    "version": 2
   },
   "file_extension": ".py",
   "mimetype": "text/x-python",
   "name": "python",
   "nbconvert_exporter": "python",
   "pygments_lexer": "ipython2",
   "version": "2.7.6"
  }
 },
 "nbformat": 4,
 "nbformat_minor": 0
}
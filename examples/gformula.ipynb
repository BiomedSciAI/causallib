{
 "cells": [
  {
   "cell_type": "markdown",
   "source": [
    "# G-Formula for time-varying causal inference."
   ],
   "metadata": {
    "collapsed": false,
    "pycharm": {
     "name": "#%% md\n"
    }
   }
  },
  {
   "cell_type": "code",
   "execution_count": 1,
   "outputs": [
    {
     "name": "stderr",
     "output_type": "stream",
     "text": [
      "/Users/julinamaharjan/opt/anaconda3/envs/j_env/lib/python3.10/site-packages/tqdm/auto.py:22: TqdmWarning: IProgress not found. Please update jupyter and ipywidgets. See https://ipywidgets.readthedocs.io/en/stable/user_install.html\n",
      "  from .autonotebook import tqdm as notebook_tqdm\n"
     ]
    }
   ],
   "source": [
    "%matplotlib inline\n",
    "import pandas as pd\n",
    "from sklearn.linear_model import LogisticRegression, LinearRegression\n",
    "from causallib.time_varying.treament_strategy import CFBernoulli\n",
    "from causallib.time_varying.GFormula import GFormula"
   ],
   "metadata": {
    "collapsed": false,
    "pycharm": {
     "name": "#%%\n"
    }
   }
  },
  {
   "cell_type": "code",
   "execution_count": 2,
   "outputs": [],
   "source": [
    "df_obs = pd.read_csv('../../gnet_robust_rnn/easiest_sim_x2/data/easiest_gnet_data_obs_2x.csv') #, index_col=0)"
   ],
   "metadata": {
    "collapsed": false,
    "pycharm": {
     "name": "#%%\n"
    }
   }
  },
  {
   "cell_type": "code",
   "execution_count": 3,
   "outputs": [
    {
     "name": "stdout",
     "output_type": "stream",
     "text": [
      "10000\n"
     ]
    },
    {
     "data": {
      "text/plain": "   A         X        X2  time  id\n0  0 -0.326233  1.329799     1   1\n1  1  1.014886  1.272429     2   1\n2  0  0.960009  0.414641     3   1\n3  0  2.940409 -1.539950     4   1\n4  1  3.767785 -0.928567     5   1",
      "text/html": "<div>\n<style scoped>\n    .dataframe tbody tr th:only-of-type {\n        vertical-align: middle;\n    }\n\n    .dataframe tbody tr th {\n        vertical-align: top;\n    }\n\n    .dataframe thead th {\n        text-align: right;\n    }\n</style>\n<table border=\"1\" class=\"dataframe\">\n  <thead>\n    <tr style=\"text-align: right;\">\n      <th></th>\n      <th>A</th>\n      <th>X</th>\n      <th>X2</th>\n      <th>time</th>\n      <th>id</th>\n    </tr>\n  </thead>\n  <tbody>\n    <tr>\n      <th>0</th>\n      <td>0</td>\n      <td>-0.326233</td>\n      <td>1.329799</td>\n      <td>1</td>\n      <td>1</td>\n    </tr>\n    <tr>\n      <th>1</th>\n      <td>1</td>\n      <td>1.014886</td>\n      <td>1.272429</td>\n      <td>2</td>\n      <td>1</td>\n    </tr>\n    <tr>\n      <th>2</th>\n      <td>0</td>\n      <td>0.960009</td>\n      <td>0.414641</td>\n      <td>3</td>\n      <td>1</td>\n    </tr>\n    <tr>\n      <th>3</th>\n      <td>0</td>\n      <td>2.940409</td>\n      <td>-1.539950</td>\n      <td>4</td>\n      <td>1</td>\n    </tr>\n    <tr>\n      <th>4</th>\n      <td>1</td>\n      <td>3.767785</td>\n      <td>-0.928567</td>\n      <td>5</td>\n      <td>1</td>\n    </tr>\n  </tbody>\n</table>\n</div>"
     },
     "execution_count": 3,
     "metadata": {},
     "output_type": "execute_result"
    }
   ],
   "source": [
    "df_obs_ids = df_obs.id.unique()\n",
    "print(len(df_obs_ids))\n",
    "df_obs = df_obs[:10000]\n",
    "df_obs.head()"
   ],
   "metadata": {
    "collapsed": false,
    "pycharm": {
     "name": "#%%\n"
    }
   }
  },
  {
   "cell_type": "code",
   "execution_count": 4,
   "outputs": [],
   "source": [
    "# df_obs.columns.tolist()\n",
    "X = df_obs[['id', 'time', 'X', 'X2']]\n",
    "a = df_obs[['A']]\n",
    "# t="
   ],
   "metadata": {
    "collapsed": false,
    "pycharm": {
     "name": "#%%\n"
    }
   }
  },
  {
   "cell_type": "code",
   "execution_count": 5,
   "outputs": [],
   "source": [
    "covariate_models = {\n",
    "    'X':  LinearRegression(),\n",
    "    'X2': LinearRegression()\n",
    "}\n",
    "treatment_model = LogisticRegression(solver=\"liblinear\")\n",
    "treatment_strategy = CFBernoulli()"
   ],
   "metadata": {
    "collapsed": false,
    "pycharm": {
     "name": "#%%\n"
    }
   }
  },
  {
   "cell_type": "code",
   "execution_count": 6,
   "outputs": [],
   "source": [
    "gFormula = GFormula(treatment_model=treatment_model,\n",
    "                    covariate_models=covariate_models,\n",
    "                    outcome_model=None,\n",
    "                    refit_models=False,\n",
    "                    random_state=None,\n",
    "                    n_obsv=5,\n",
    "                    n_sims=3,\n",
    "                    n_steps=50,\n",
    "                    mode='normal',\n",
    "                    resid_val=None,\n",
    "                    )"
   ],
   "metadata": {
    "collapsed": false,
    "pycharm": {
     "name": "#%%\n"
    }
   }
  },
  {
   "cell_type": "code",
   "execution_count": 7,
   "outputs": [
    {
     "data": {
      "text/plain": "   id  time         X        X2\n0   1     1 -0.326233  1.329799\n1   1     2  1.014886  1.272429\n2   1     3  0.960009  0.414641\n3   1     4  2.940409 -1.539950\n4   1     5  3.767785 -0.928567",
      "text/html": "<div>\n<style scoped>\n    .dataframe tbody tr th:only-of-type {\n        vertical-align: middle;\n    }\n\n    .dataframe tbody tr th {\n        vertical-align: top;\n    }\n\n    .dataframe thead th {\n        text-align: right;\n    }\n</style>\n<table border=\"1\" class=\"dataframe\">\n  <thead>\n    <tr style=\"text-align: right;\">\n      <th></th>\n      <th>id</th>\n      <th>time</th>\n      <th>X</th>\n      <th>X2</th>\n    </tr>\n  </thead>\n  <tbody>\n    <tr>\n      <th>0</th>\n      <td>1</td>\n      <td>1</td>\n      <td>-0.326233</td>\n      <td>1.329799</td>\n    </tr>\n    <tr>\n      <th>1</th>\n      <td>1</td>\n      <td>2</td>\n      <td>1.014886</td>\n      <td>1.272429</td>\n    </tr>\n    <tr>\n      <th>2</th>\n      <td>1</td>\n      <td>3</td>\n      <td>0.960009</td>\n      <td>0.414641</td>\n    </tr>\n    <tr>\n      <th>3</th>\n      <td>1</td>\n      <td>4</td>\n      <td>2.940409</td>\n      <td>-1.539950</td>\n    </tr>\n    <tr>\n      <th>4</th>\n      <td>1</td>\n      <td>5</td>\n      <td>3.767785</td>\n      <td>-0.928567</td>\n    </tr>\n  </tbody>\n</table>\n</div>"
     },
     "execution_count": 7,
     "metadata": {},
     "output_type": "execute_result"
    }
   ],
   "source": [
    "X.head()"
   ],
   "metadata": {
    "collapsed": false,
    "pycharm": {
     "name": "#%%\n"
    }
   }
  },
  {
   "cell_type": "code",
   "execution_count": 8,
   "outputs": [
    {
     "data": {
      "text/plain": "   A\n0  0\n1  1\n2  0\n3  0\n4  1",
      "text/html": "<div>\n<style scoped>\n    .dataframe tbody tr th:only-of-type {\n        vertical-align: middle;\n    }\n\n    .dataframe tbody tr th {\n        vertical-align: top;\n    }\n\n    .dataframe thead th {\n        text-align: right;\n    }\n</style>\n<table border=\"1\" class=\"dataframe\">\n  <thead>\n    <tr style=\"text-align: right;\">\n      <th></th>\n      <th>A</th>\n    </tr>\n  </thead>\n  <tbody>\n    <tr>\n      <th>0</th>\n      <td>0</td>\n    </tr>\n    <tr>\n      <th>1</th>\n      <td>1</td>\n    </tr>\n    <tr>\n      <th>2</th>\n      <td>0</td>\n    </tr>\n    <tr>\n      <th>3</th>\n      <td>0</td>\n    </tr>\n    <tr>\n      <th>4</th>\n      <td>1</td>\n    </tr>\n  </tbody>\n</table>\n</div>"
     },
     "execution_count": 8,
     "metadata": {},
     "output_type": "execute_result"
    }
   ],
   "source": [
    "a.head()"
   ],
   "metadata": {
    "collapsed": false,
    "pycharm": {
     "name": "#%%\n"
    }
   }
  },
  {
   "cell_type": "code",
   "execution_count": 9,
   "outputs": [
    {
     "name": "stderr",
     "output_type": "stream",
     "text": [
      "/Users/julinamaharjan/opt/anaconda3/envs/j_env/lib/python3.10/site-packages/sklearn/utils/validation.py:1111: DataConversionWarning: A column-vector y was passed when a 1d array was expected. Please change the shape of y to (n_samples, ), for example using ravel().\n",
      "  y = column_or_1d(y, warn=True)\n"
     ]
    },
    {
     "data": {
      "text/plain": "GFormula(all_cols=['prev_X', 'prev_X2', 'prev_A', 'X', 'X2', 'A'], covariate_cols=['X', 'X2'], covariate_models={'X': LinearRegression(), 'X2': LinearRegression()}, id_col=id, mode=normal, n_obsv=5, n_sims=3, n_steps=50, outcome_model=None, predict_proba=False, prev_covariate_cols=['prev_X', 'prev_X2'], prev_treatment_cols=['prev_A'], random_state=None, refit_models=False, resid_val=None, time_col=time, treatment_cols=['A'], treatment_model=LogisticRegression(solver='liblinear'), y_col=None)"
     },
     "execution_count": 9,
     "metadata": {},
     "output_type": "execute_result"
    }
   ],
   "source": [
    "gFormula.fit(X, a, t=None, y=None)"
   ],
   "metadata": {
    "collapsed": false,
    "pycharm": {
     "name": "#%%\n"
    }
   }
  },
  {
   "cell_type": "code",
   "execution_count": 10,
   "outputs": [
    {
     "data": {
      "text/plain": "            X        X2    A   id  time\n0    5.015013  1.237745  0.0    1     0\n1    4.489998  0.046997  0.0    1     1\n2    4.897457 -0.726087  0.0    1     2\n3    5.605628  0.502498  0.0    1     3\n4    6.642785  0.153038  0.0    1     4\n..        ...       ...  ...  ...   ...\n45  28.507843 -0.028307  0.0  200    45\n46  29.534421  0.415332  0.0  200    46\n47  29.495220 -0.421605  0.0  200    47\n48  30.412107  0.227803  0.0  200    48\n49  31.047865  0.273331  0.0  200    49\n\n[10000 rows x 5 columns]",
      "text/html": "<div>\n<style scoped>\n    .dataframe tbody tr th:only-of-type {\n        vertical-align: middle;\n    }\n\n    .dataframe tbody tr th {\n        vertical-align: top;\n    }\n\n    .dataframe thead th {\n        text-align: right;\n    }\n</style>\n<table border=\"1\" class=\"dataframe\">\n  <thead>\n    <tr style=\"text-align: right;\">\n      <th></th>\n      <th>X</th>\n      <th>X2</th>\n      <th>A</th>\n      <th>id</th>\n      <th>time</th>\n    </tr>\n  </thead>\n  <tbody>\n    <tr>\n      <th>0</th>\n      <td>5.015013</td>\n      <td>1.237745</td>\n      <td>0.0</td>\n      <td>1</td>\n      <td>0</td>\n    </tr>\n    <tr>\n      <th>1</th>\n      <td>4.489998</td>\n      <td>0.046997</td>\n      <td>0.0</td>\n      <td>1</td>\n      <td>1</td>\n    </tr>\n    <tr>\n      <th>2</th>\n      <td>4.897457</td>\n      <td>-0.726087</td>\n      <td>0.0</td>\n      <td>1</td>\n      <td>2</td>\n    </tr>\n    <tr>\n      <th>3</th>\n      <td>5.605628</td>\n      <td>0.502498</td>\n      <td>0.0</td>\n      <td>1</td>\n      <td>3</td>\n    </tr>\n    <tr>\n      <th>4</th>\n      <td>6.642785</td>\n      <td>0.153038</td>\n      <td>0.0</td>\n      <td>1</td>\n      <td>4</td>\n    </tr>\n    <tr>\n      <th>...</th>\n      <td>...</td>\n      <td>...</td>\n      <td>...</td>\n      <td>...</td>\n      <td>...</td>\n    </tr>\n    <tr>\n      <th>45</th>\n      <td>28.507843</td>\n      <td>-0.028307</td>\n      <td>0.0</td>\n      <td>200</td>\n      <td>45</td>\n    </tr>\n    <tr>\n      <th>46</th>\n      <td>29.534421</td>\n      <td>0.415332</td>\n      <td>0.0</td>\n      <td>200</td>\n      <td>46</td>\n    </tr>\n    <tr>\n      <th>47</th>\n      <td>29.495220</td>\n      <td>-0.421605</td>\n      <td>0.0</td>\n      <td>200</td>\n      <td>47</td>\n    </tr>\n    <tr>\n      <th>48</th>\n      <td>30.412107</td>\n      <td>0.227803</td>\n      <td>0.0</td>\n      <td>200</td>\n      <td>48</td>\n    </tr>\n    <tr>\n      <th>49</th>\n      <td>31.047865</td>\n      <td>0.273331</td>\n      <td>0.0</td>\n      <td>200</td>\n      <td>49</td>\n    </tr>\n  </tbody>\n</table>\n<p>10000 rows × 5 columns</p>\n</div>"
     },
     "execution_count": 10,
     "metadata": {},
     "output_type": "execute_result"
    }
   ],
   "source": [
    "a = df_obs[['id', 'A']]\n",
    "est_outcome = gFormula.estimate_individual_outcome(\n",
    "                                                    X,\n",
    "                                                    a,\n",
    "                                                    t=None,\n",
    "                                                    y=None,\n",
    "                                                    treatment_strategy=treatment_strategy\n",
    "                                                )\n",
    "est_outcome"
   ],
   "metadata": {
    "collapsed": false,
    "pycharm": {
     "name": "#%%\n"
    }
   }
  },
  {
   "cell_type": "markdown",
   "source": [],
   "metadata": {
    "collapsed": false,
    "pycharm": {
     "name": "#%% md\n"
    }
   }
  },
  {
   "cell_type": "code",
   "execution_count": 12,
   "outputs": [
    {
     "data": {
      "text/plain": "              X        X2         A     id\ntime                                      \n0      2.843048  0.032458  0.143333  100.5\n1      3.309049 -0.032273  0.118333  100.5\n2      3.884781  0.086990  0.101667  100.5\n3      4.297806 -0.017611  0.093333  100.5\n4      4.784557 -0.010879  0.088333  100.5\n5      5.383385  0.029875  0.075000  100.5\n6      5.952016 -0.031128  0.068333  100.5\n7      6.443559  0.044599  0.046667  100.5\n8      6.979461  0.069059  0.043333  100.5\n9      7.460009  0.039267  0.040000  100.5\n10     7.980442 -0.040494  0.031667  100.5\n11     8.545762 -0.022048  0.030000  100.5\n12     9.106150 -0.011425  0.020000  100.5\n13     9.633818  0.034025  0.018333  100.5\n14    10.177658  0.015514  0.023333  100.5\n15    10.700084  0.009490  0.020000  100.5\n16    11.353411 -0.030654  0.023333  100.5\n17    11.977673 -0.058183  0.016667  100.5\n18    12.548023 -0.022389  0.021667  100.5\n19    13.127108 -0.031029  0.016667  100.5\n20    13.730737  0.058384  0.016667  100.5\n21    14.340478  0.055749  0.013333  100.5\n22    14.981689  0.068667  0.011667  100.5\n23    15.593475  0.064662  0.013333  100.5\n24    16.215011  0.048326  0.011667  100.5\n25    16.816863  0.052949  0.011667  100.5\n26    17.589394  0.043349  0.013333  100.5\n27    18.218693  0.014977  0.008333  100.5\n28    18.863690  0.128335  0.008333  100.5\n29    19.564177 -0.017358  0.006667  100.5\n30    20.239791  0.049488  0.008333  100.5\n31    20.905012  0.040658  0.005000  100.5\n32    21.502344  0.088925  0.005000  100.5\n33    22.260920  0.042076  0.006667  100.5\n34    22.966371  0.137955  0.005000  100.5\n35    23.650878 -0.016368  0.003333  100.5\n36    24.388604  0.135016  0.003333  100.5\n37    25.060591  0.071438  0.001667  100.5\n38    25.761644  0.096459  0.001667  100.5\n39    26.476856  0.041410  0.000000  100.5\n40    27.237104  0.093216  0.000000  100.5\n41    27.928795  0.100377  0.000000  100.5\n42    28.656480  0.064507  0.000000  100.5\n43    29.364764  0.075448  0.000000  100.5\n44    30.122910  0.092080  0.000000  100.5\n45    30.907565  0.090709  0.000000  100.5\n46    31.653482  0.150287  0.000000  100.5\n47    32.425935  0.032383  0.000000  100.5\n48    33.209779  0.108460  0.000000  100.5\n49    34.030902  0.059930  0.000000  100.5",
      "text/html": "<div>\n<style scoped>\n    .dataframe tbody tr th:only-of-type {\n        vertical-align: middle;\n    }\n\n    .dataframe tbody tr th {\n        vertical-align: top;\n    }\n\n    .dataframe thead th {\n        text-align: right;\n    }\n</style>\n<table border=\"1\" class=\"dataframe\">\n  <thead>\n    <tr style=\"text-align: right;\">\n      <th></th>\n      <th>X</th>\n      <th>X2</th>\n      <th>A</th>\n      <th>id</th>\n    </tr>\n    <tr>\n      <th>time</th>\n      <th></th>\n      <th></th>\n      <th></th>\n      <th></th>\n    </tr>\n  </thead>\n  <tbody>\n    <tr>\n      <th>0</th>\n      <td>2.843048</td>\n      <td>0.032458</td>\n      <td>0.143333</td>\n      <td>100.5</td>\n    </tr>\n    <tr>\n      <th>1</th>\n      <td>3.309049</td>\n      <td>-0.032273</td>\n      <td>0.118333</td>\n      <td>100.5</td>\n    </tr>\n    <tr>\n      <th>2</th>\n      <td>3.884781</td>\n      <td>0.086990</td>\n      <td>0.101667</td>\n      <td>100.5</td>\n    </tr>\n    <tr>\n      <th>3</th>\n      <td>4.297806</td>\n      <td>-0.017611</td>\n      <td>0.093333</td>\n      <td>100.5</td>\n    </tr>\n    <tr>\n      <th>4</th>\n      <td>4.784557</td>\n      <td>-0.010879</td>\n      <td>0.088333</td>\n      <td>100.5</td>\n    </tr>\n    <tr>\n      <th>5</th>\n      <td>5.383385</td>\n      <td>0.029875</td>\n      <td>0.075000</td>\n      <td>100.5</td>\n    </tr>\n    <tr>\n      <th>6</th>\n      <td>5.952016</td>\n      <td>-0.031128</td>\n      <td>0.068333</td>\n      <td>100.5</td>\n    </tr>\n    <tr>\n      <th>7</th>\n      <td>6.443559</td>\n      <td>0.044599</td>\n      <td>0.046667</td>\n      <td>100.5</td>\n    </tr>\n    <tr>\n      <th>8</th>\n      <td>6.979461</td>\n      <td>0.069059</td>\n      <td>0.043333</td>\n      <td>100.5</td>\n    </tr>\n    <tr>\n      <th>9</th>\n      <td>7.460009</td>\n      <td>0.039267</td>\n      <td>0.040000</td>\n      <td>100.5</td>\n    </tr>\n    <tr>\n      <th>10</th>\n      <td>7.980442</td>\n      <td>-0.040494</td>\n      <td>0.031667</td>\n      <td>100.5</td>\n    </tr>\n    <tr>\n      <th>11</th>\n      <td>8.545762</td>\n      <td>-0.022048</td>\n      <td>0.030000</td>\n      <td>100.5</td>\n    </tr>\n    <tr>\n      <th>12</th>\n      <td>9.106150</td>\n      <td>-0.011425</td>\n      <td>0.020000</td>\n      <td>100.5</td>\n    </tr>\n    <tr>\n      <th>13</th>\n      <td>9.633818</td>\n      <td>0.034025</td>\n      <td>0.018333</td>\n      <td>100.5</td>\n    </tr>\n    <tr>\n      <th>14</th>\n      <td>10.177658</td>\n      <td>0.015514</td>\n      <td>0.023333</td>\n      <td>100.5</td>\n    </tr>\n    <tr>\n      <th>15</th>\n      <td>10.700084</td>\n      <td>0.009490</td>\n      <td>0.020000</td>\n      <td>100.5</td>\n    </tr>\n    <tr>\n      <th>16</th>\n      <td>11.353411</td>\n      <td>-0.030654</td>\n      <td>0.023333</td>\n      <td>100.5</td>\n    </tr>\n    <tr>\n      <th>17</th>\n      <td>11.977673</td>\n      <td>-0.058183</td>\n      <td>0.016667</td>\n      <td>100.5</td>\n    </tr>\n    <tr>\n      <th>18</th>\n      <td>12.548023</td>\n      <td>-0.022389</td>\n      <td>0.021667</td>\n      <td>100.5</td>\n    </tr>\n    <tr>\n      <th>19</th>\n      <td>13.127108</td>\n      <td>-0.031029</td>\n      <td>0.016667</td>\n      <td>100.5</td>\n    </tr>\n    <tr>\n      <th>20</th>\n      <td>13.730737</td>\n      <td>0.058384</td>\n      <td>0.016667</td>\n      <td>100.5</td>\n    </tr>\n    <tr>\n      <th>21</th>\n      <td>14.340478</td>\n      <td>0.055749</td>\n      <td>0.013333</td>\n      <td>100.5</td>\n    </tr>\n    <tr>\n      <th>22</th>\n      <td>14.981689</td>\n      <td>0.068667</td>\n      <td>0.011667</td>\n      <td>100.5</td>\n    </tr>\n    <tr>\n      <th>23</th>\n      <td>15.593475</td>\n      <td>0.064662</td>\n      <td>0.013333</td>\n      <td>100.5</td>\n    </tr>\n    <tr>\n      <th>24</th>\n      <td>16.215011</td>\n      <td>0.048326</td>\n      <td>0.011667</td>\n      <td>100.5</td>\n    </tr>\n    <tr>\n      <th>25</th>\n      <td>16.816863</td>\n      <td>0.052949</td>\n      <td>0.011667</td>\n      <td>100.5</td>\n    </tr>\n    <tr>\n      <th>26</th>\n      <td>17.589394</td>\n      <td>0.043349</td>\n      <td>0.013333</td>\n      <td>100.5</td>\n    </tr>\n    <tr>\n      <th>27</th>\n      <td>18.218693</td>\n      <td>0.014977</td>\n      <td>0.008333</td>\n      <td>100.5</td>\n    </tr>\n    <tr>\n      <th>28</th>\n      <td>18.863690</td>\n      <td>0.128335</td>\n      <td>0.008333</td>\n      <td>100.5</td>\n    </tr>\n    <tr>\n      <th>29</th>\n      <td>19.564177</td>\n      <td>-0.017358</td>\n      <td>0.006667</td>\n      <td>100.5</td>\n    </tr>\n    <tr>\n      <th>30</th>\n      <td>20.239791</td>\n      <td>0.049488</td>\n      <td>0.008333</td>\n      <td>100.5</td>\n    </tr>\n    <tr>\n      <th>31</th>\n      <td>20.905012</td>\n      <td>0.040658</td>\n      <td>0.005000</td>\n      <td>100.5</td>\n    </tr>\n    <tr>\n      <th>32</th>\n      <td>21.502344</td>\n      <td>0.088925</td>\n      <td>0.005000</td>\n      <td>100.5</td>\n    </tr>\n    <tr>\n      <th>33</th>\n      <td>22.260920</td>\n      <td>0.042076</td>\n      <td>0.006667</td>\n      <td>100.5</td>\n    </tr>\n    <tr>\n      <th>34</th>\n      <td>22.966371</td>\n      <td>0.137955</td>\n      <td>0.005000</td>\n      <td>100.5</td>\n    </tr>\n    <tr>\n      <th>35</th>\n      <td>23.650878</td>\n      <td>-0.016368</td>\n      <td>0.003333</td>\n      <td>100.5</td>\n    </tr>\n    <tr>\n      <th>36</th>\n      <td>24.388604</td>\n      <td>0.135016</td>\n      <td>0.003333</td>\n      <td>100.5</td>\n    </tr>\n    <tr>\n      <th>37</th>\n      <td>25.060591</td>\n      <td>0.071438</td>\n      <td>0.001667</td>\n      <td>100.5</td>\n    </tr>\n    <tr>\n      <th>38</th>\n      <td>25.761644</td>\n      <td>0.096459</td>\n      <td>0.001667</td>\n      <td>100.5</td>\n    </tr>\n    <tr>\n      <th>39</th>\n      <td>26.476856</td>\n      <td>0.041410</td>\n      <td>0.000000</td>\n      <td>100.5</td>\n    </tr>\n    <tr>\n      <th>40</th>\n      <td>27.237104</td>\n      <td>0.093216</td>\n      <td>0.000000</td>\n      <td>100.5</td>\n    </tr>\n    <tr>\n      <th>41</th>\n      <td>27.928795</td>\n      <td>0.100377</td>\n      <td>0.000000</td>\n      <td>100.5</td>\n    </tr>\n    <tr>\n      <th>42</th>\n      <td>28.656480</td>\n      <td>0.064507</td>\n      <td>0.000000</td>\n      <td>100.5</td>\n    </tr>\n    <tr>\n      <th>43</th>\n      <td>29.364764</td>\n      <td>0.075448</td>\n      <td>0.000000</td>\n      <td>100.5</td>\n    </tr>\n    <tr>\n      <th>44</th>\n      <td>30.122910</td>\n      <td>0.092080</td>\n      <td>0.000000</td>\n      <td>100.5</td>\n    </tr>\n    <tr>\n      <th>45</th>\n      <td>30.907565</td>\n      <td>0.090709</td>\n      <td>0.000000</td>\n      <td>100.5</td>\n    </tr>\n    <tr>\n      <th>46</th>\n      <td>31.653482</td>\n      <td>0.150287</td>\n      <td>0.000000</td>\n      <td>100.5</td>\n    </tr>\n    <tr>\n      <th>47</th>\n      <td>32.425935</td>\n      <td>0.032383</td>\n      <td>0.000000</td>\n      <td>100.5</td>\n    </tr>\n    <tr>\n      <th>48</th>\n      <td>33.209779</td>\n      <td>0.108460</td>\n      <td>0.000000</td>\n      <td>100.5</td>\n    </tr>\n    <tr>\n      <th>49</th>\n      <td>34.030902</td>\n      <td>0.059930</td>\n      <td>0.000000</td>\n      <td>100.5</td>\n    </tr>\n  </tbody>\n</table>\n</div>"
     },
     "execution_count": 12,
     "metadata": {},
     "output_type": "execute_result"
    }
   ],
   "source": [
    "a = df_obs[['id', 'A']]\n",
    "pop_outcome = gFormula.estimate_population_outcome(X, a, t=None, y=None, treatment_strategy=treatment_strategy )\n",
    "pop_outcome"
   ],
   "metadata": {
    "collapsed": false,
    "pycharm": {
     "name": "#%%\n"
    }
   }
  },
  {
   "cell_type": "code",
   "execution_count": 12,
   "outputs": [],
   "source": [
    "# effect = gFormula.estimate_effect(pop_outcome[1], pop_outcome[0])"
   ],
   "metadata": {
    "collapsed": false,
    "pycharm": {
     "name": "#%%\n"
    }
   }
  },
  {
   "cell_type": "code",
   "execution_count": 15,
   "outputs": [],
   "source": [
    "pop_outcome.reset_index(inplace=True)"
   ],
   "metadata": {
    "collapsed": false,
    "pycharm": {
     "name": "#%%\n"
    }
   }
  },
  {
   "cell_type": "code",
   "execution_count": 16,
   "outputs": [
    {
     "data": {
      "text/plain": "<Figure size 432x288 with 1 Axes>",
      "image/png": "[encoded data removed]"
     },
     "metadata": {
      "needs_background": "light"
     },
     "output_type": "display_data"
    }
   ],
   "source": [
    "import matplotlib.pyplot as plt\n",
    "#Get current axis\n",
    "ax = plt.gca()\n",
    "\n",
    "# line plot for math marks\n",
    "pop_outcome.plot(kind = 'line',\n",
    "        x = 'time',\n",
    "        y = 'X',\n",
    "        color = 'green',ax = ax)\n",
    "\n",
    "# line plot for physics marks\n",
    "pop_outcome.plot(kind = 'line',x = 'time',\n",
    "        y = 'X2',\n",
    "        color = 'blue',ax = ax)\n",
    "\n",
    "# line plot for chemistry marks\n",
    "pop_outcome.plot(kind = 'line',x = 'time',\n",
    "        y = 'A',\n",
    "        color = 'black',ax = ax)\n",
    "\n",
    "# set the title\n",
    "plt.title('Counterfactual Prediction')\n",
    "\n",
    "# show the plot\n",
    "plt.show()"
   ],
   "metadata": {
    "collapsed": false,
    "pycharm": {
     "name": "#%%\n"
    }
   }
  },
  {
   "cell_type": "code",
   "execution_count": 13,
   "outputs": [],
   "source": [],
   "metadata": {
    "collapsed": false,
    "pycharm": {
     "name": "#%%\n"
    }
   }
  },
  {
   "cell_type": "code",
   "execution_count": 13,
   "outputs": [],
   "source": [],
   "metadata": {
    "collapsed": false,
    "pycharm": {
     "name": "#%%\n"
    }
   }
  }
 ],
 "metadata": {
  "kernelspec": {
   "display_name": "Python 3",
   "language": "python",
   "name": "python3"
  },
  "language_info": {
   "codemirror_mode": {
    "name": "ipython",
    "version": 2
   },
   "file_extension": ".py",
   "mimetype": "text/x-python",
   "name": "python",
   "nbconvert_exporter": "python",
   "pygments_lexer": "ipython2",
   "version": "2.7.6"
  }
 },
 "nbformat": 4,
 "nbformat_minor": 0
}
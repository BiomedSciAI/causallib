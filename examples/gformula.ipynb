{
 "cells": [
  {
   "cell_type": "markdown",
   "source": [
    "# G-Formula for time-varying causal inference."
   ],
   "metadata": {
    "collapsed": false,
    "pycharm": {
     "name": "#%% md\n"
    }
   }
  },
  {
   "cell_type": "code",
   "execution_count": 2,
   "outputs": [
    {
     "name": "stderr",
     "output_type": "stream",
     "text": [
      "/Users/julinamaharjan/opt/anaconda3/envs/j_env/lib/python3.10/site-packages/tqdm/auto.py:22: TqdmWarning: IProgress not found. Please update jupyter and ipywidgets. See https://ipywidgets.readthedocs.io/en/stable/user_install.html\n",
      "  from .autonotebook import tqdm as notebook_tqdm\n"
     ]
    }
   ],
   "source": [
    "%matplotlib inline\n",
    "import pandas as pd\n",
    "from sklearn.linear_model import LogisticRegression, LinearRegression\n",
    "from causallib.time_varying.treament_strategy import CFBernoulli\n",
    "from causallib.time_varying.GFormula import GFormula"
   ],
   "metadata": {
    "collapsed": false,
    "pycharm": {
     "name": "#%%\n"
    }
   }
  },
  {
   "cell_type": "code",
   "execution_count": 3,
   "outputs": [],
   "source": [
    "df_obs = pd.read_csv('../../gnet_robust_rnn/easiest_sim_x2/data/easiest_gnet_data_obs_2x.csv') #, index_col=0)"
   ],
   "metadata": {
    "collapsed": false,
    "pycharm": {
     "name": "#%%\n"
    }
   }
  },
  {
   "cell_type": "code",
   "execution_count": 4,
   "outputs": [
    {
     "name": "stdout",
     "output_type": "stream",
     "text": [
      "10000\n"
     ]
    },
    {
     "data": {
      "text/plain": "   A         X        X2  time  id\n0  0 -0.326233  1.329799     1   1\n1  1  1.014886  1.272429     2   1\n2  0  0.960009  0.414641     3   1\n3  0  2.940409 -1.539950     4   1\n4  1  3.767785 -0.928567     5   1",
      "text/html": "<div>\n<style scoped>\n    .dataframe tbody tr th:only-of-type {\n        vertical-align: middle;\n    }\n\n    .dataframe tbody tr th {\n        vertical-align: top;\n    }\n\n    .dataframe thead th {\n        text-align: right;\n    }\n</style>\n<table border=\"1\" class=\"dataframe\">\n  <thead>\n    <tr style=\"text-align: right;\">\n      <th></th>\n      <th>A</th>\n      <th>X</th>\n      <th>X2</th>\n      <th>time</th>\n      <th>id</th>\n    </tr>\n  </thead>\n  <tbody>\n    <tr>\n      <th>0</th>\n      <td>0</td>\n      <td>-0.326233</td>\n      <td>1.329799</td>\n      <td>1</td>\n      <td>1</td>\n    </tr>\n    <tr>\n      <th>1</th>\n      <td>1</td>\n      <td>1.014886</td>\n      <td>1.272429</td>\n      <td>2</td>\n      <td>1</td>\n    </tr>\n    <tr>\n      <th>2</th>\n      <td>0</td>\n      <td>0.960009</td>\n      <td>0.414641</td>\n      <td>3</td>\n      <td>1</td>\n    </tr>\n    <tr>\n      <th>3</th>\n      <td>0</td>\n      <td>2.940409</td>\n      <td>-1.539950</td>\n      <td>4</td>\n      <td>1</td>\n    </tr>\n    <tr>\n      <th>4</th>\n      <td>1</td>\n      <td>3.767785</td>\n      <td>-0.928567</td>\n      <td>5</td>\n      <td>1</td>\n    </tr>\n  </tbody>\n</table>\n</div>"
     },
     "execution_count": 4,
     "metadata": {},
     "output_type": "execute_result"
    }
   ],
   "source": [
    "df_obs_ids = df_obs.id.unique()\n",
    "print(len(df_obs_ids))\n",
    "df_obs.head()"
   ],
   "metadata": {
    "collapsed": false,
    "pycharm": {
     "name": "#%%\n"
    }
   }
  },
  {
   "cell_type": "code",
   "execution_count": 5,
   "outputs": [],
   "source": [
    "# df_obs.columns.tolist()\n",
    "X = df_obs[['id', 'time', 'X', 'X2']]\n",
    "a = df_obs[['A']]\n",
    "# t="
   ],
   "metadata": {
    "collapsed": false,
    "pycharm": {
     "name": "#%%\n"
    }
   }
  },
  {
   "cell_type": "code",
   "execution_count": 6,
   "outputs": [],
   "source": [
    "covariate_models = {\n",
    "    'X':  LinearRegression(),\n",
    "    'X2': LinearRegression()\n",
    "}\n",
    "treatment_model = LogisticRegression(solver=\"liblinear\")\n",
    "treatment_strategy = CFBernoulli()"
   ],
   "metadata": {
    "collapsed": false,
    "pycharm": {
     "name": "#%%\n"
    }
   }
  },
  {
   "cell_type": "code",
   "execution_count": 7,
   "outputs": [],
   "source": [
    "gFormula = GFormula(treatment_model=treatment_model,\n",
    "                    covariate_models=covariate_models,\n",
    "                    outcome_model=None,\n",
    "                    refit_models=False,\n",
    "                    random_state=None,\n",
    "                    n_obsv=5,\n",
    "                    n_sims=1,\n",
    "                    n_steps=5,\n",
    "                    mode='normal',\n",
    "                    resid_val=None,\n",
    "                    )"
   ],
   "metadata": {
    "collapsed": false,
    "pycharm": {
     "name": "#%%\n"
    }
   }
  },
  {
   "cell_type": "code",
   "execution_count": 8,
   "outputs": [
    {
     "data": {
      "text/plain": "   id  time         X        X2\n0   1     1 -0.326233  1.329799\n1   1     2  1.014886  1.272429\n2   1     3  0.960009  0.414641\n3   1     4  2.940409 -1.539950\n4   1     5  3.767785 -0.928567",
      "text/html": "<div>\n<style scoped>\n    .dataframe tbody tr th:only-of-type {\n        vertical-align: middle;\n    }\n\n    .dataframe tbody tr th {\n        vertical-align: top;\n    }\n\n    .dataframe thead th {\n        text-align: right;\n    }\n</style>\n<table border=\"1\" class=\"dataframe\">\n  <thead>\n    <tr style=\"text-align: right;\">\n      <th></th>\n      <th>id</th>\n      <th>time</th>\n      <th>X</th>\n      <th>X2</th>\n    </tr>\n  </thead>\n  <tbody>\n    <tr>\n      <th>0</th>\n      <td>1</td>\n      <td>1</td>\n      <td>-0.326233</td>\n      <td>1.329799</td>\n    </tr>\n    <tr>\n      <th>1</th>\n      <td>1</td>\n      <td>2</td>\n      <td>1.014886</td>\n      <td>1.272429</td>\n    </tr>\n    <tr>\n      <th>2</th>\n      <td>1</td>\n      <td>3</td>\n      <td>0.960009</td>\n      <td>0.414641</td>\n    </tr>\n    <tr>\n      <th>3</th>\n      <td>1</td>\n      <td>4</td>\n      <td>2.940409</td>\n      <td>-1.539950</td>\n    </tr>\n    <tr>\n      <th>4</th>\n      <td>1</td>\n      <td>5</td>\n      <td>3.767785</td>\n      <td>-0.928567</td>\n    </tr>\n  </tbody>\n</table>\n</div>"
     },
     "execution_count": 8,
     "metadata": {},
     "output_type": "execute_result"
    }
   ],
   "source": [
    "X.head()"
   ],
   "metadata": {
    "collapsed": false,
    "pycharm": {
     "name": "#%%\n"
    }
   }
  },
  {
   "cell_type": "code",
   "execution_count": 9,
   "outputs": [
    {
     "data": {
      "text/plain": "   A\n0  0\n1  1\n2  0\n3  0\n4  1",
      "text/html": "<div>\n<style scoped>\n    .dataframe tbody tr th:only-of-type {\n        vertical-align: middle;\n    }\n\n    .dataframe tbody tr th {\n        vertical-align: top;\n    }\n\n    .dataframe thead th {\n        text-align: right;\n    }\n</style>\n<table border=\"1\" class=\"dataframe\">\n  <thead>\n    <tr style=\"text-align: right;\">\n      <th></th>\n      <th>A</th>\n    </tr>\n  </thead>\n  <tbody>\n    <tr>\n      <th>0</th>\n      <td>0</td>\n    </tr>\n    <tr>\n      <th>1</th>\n      <td>1</td>\n    </tr>\n    <tr>\n      <th>2</th>\n      <td>0</td>\n    </tr>\n    <tr>\n      <th>3</th>\n      <td>0</td>\n    </tr>\n    <tr>\n      <th>4</th>\n      <td>1</td>\n    </tr>\n  </tbody>\n</table>\n</div>"
     },
     "execution_count": 9,
     "metadata": {},
     "output_type": "execute_result"
    }
   ],
   "source": [
    "a.head()"
   ],
   "metadata": {
    "collapsed": false,
    "pycharm": {
     "name": "#%%\n"
    }
   }
  },
  {
   "cell_type": "code",
   "execution_count": 10,
   "outputs": [
    {
     "name": "stderr",
     "output_type": "stream",
     "text": [
      "/Users/julinamaharjan/opt/anaconda3/envs/j_env/lib/python3.10/site-packages/sklearn/utils/validation.py:1111: DataConversionWarning: A column-vector y was passed when a 1d array was expected. Please change the shape of y to (n_samples, ), for example using ravel().\n",
      "  y = column_or_1d(y, warn=True)\n"
     ]
    },
    {
     "data": {
      "text/plain": "GFormula(covariate_models={'X': LinearRegression(), 'X2': LinearRegression()}, id_col=id, mode=normal, n_obsv=5, n_sims=1, n_steps=5, outcome_model=None, predict_proba=False, random_state=None, refit_models=False, resid_val=None, treatment_model=LogisticRegression(solver='liblinear'))"
     },
     "execution_count": 10,
     "metadata": {},
     "output_type": "execute_result"
    }
   ],
   "source": [
    "gFormula.fit(X, a, t=None, y=None)"
   ],
   "metadata": {
    "collapsed": false,
    "pycharm": {
     "name": "#%%\n"
    }
   }
  },
  {
   "cell_type": "code",
   "execution_count": 12,
   "outputs": [
    {
     "data": {
      "text/plain": "           X        X2    A  id\n0   3.865120 -0.751214  0.0   1\n1   3.167698 -1.764660  0.0   1\n2   1.911459 -1.792255  0.0   1\n3   3.274005  0.106613  0.0   1\n4   4.686504 -0.587876  0.0   1\n..       ...       ...  ...  ..\n0   3.463940 -1.129525  0.0  50\n1   3.614376 -0.189365  0.0  50\n2   3.684020 -0.240374  0.0  50\n3   4.243718  1.033063  0.0  50\n4   4.625812 -0.228815  0.0  50\n\n[250 rows x 4 columns]",
      "text/html": "<div>\n<style scoped>\n    .dataframe tbody tr th:only-of-type {\n        vertical-align: middle;\n    }\n\n    .dataframe tbody tr th {\n        vertical-align: top;\n    }\n\n    .dataframe thead th {\n        text-align: right;\n    }\n</style>\n<table border=\"1\" class=\"dataframe\">\n  <thead>\n    <tr style=\"text-align: right;\">\n      <th></th>\n      <th>X</th>\n      <th>X2</th>\n      <th>A</th>\n      <th>id</th>\n    </tr>\n  </thead>\n  <tbody>\n    <tr>\n      <th>0</th>\n      <td>3.865120</td>\n      <td>-0.751214</td>\n      <td>0.0</td>\n      <td>1</td>\n    </tr>\n    <tr>\n      <th>1</th>\n      <td>3.167698</td>\n      <td>-1.764660</td>\n      <td>0.0</td>\n      <td>1</td>\n    </tr>\n    <tr>\n      <th>2</th>\n      <td>1.911459</td>\n      <td>-1.792255</td>\n      <td>0.0</td>\n      <td>1</td>\n    </tr>\n    <tr>\n      <th>3</th>\n      <td>3.274005</td>\n      <td>0.106613</td>\n      <td>0.0</td>\n      <td>1</td>\n    </tr>\n    <tr>\n      <th>4</th>\n      <td>4.686504</td>\n      <td>-0.587876</td>\n      <td>0.0</td>\n      <td>1</td>\n    </tr>\n    <tr>\n      <th>...</th>\n      <td>...</td>\n      <td>...</td>\n      <td>...</td>\n      <td>...</td>\n    </tr>\n    <tr>\n      <th>0</th>\n      <td>3.463940</td>\n      <td>-1.129525</td>\n      <td>0.0</td>\n      <td>50</td>\n    </tr>\n    <tr>\n      <th>1</th>\n      <td>3.614376</td>\n      <td>-0.189365</td>\n      <td>0.0</td>\n      <td>50</td>\n    </tr>\n    <tr>\n      <th>2</th>\n      <td>3.684020</td>\n      <td>-0.240374</td>\n      <td>0.0</td>\n      <td>50</td>\n    </tr>\n    <tr>\n      <th>3</th>\n      <td>4.243718</td>\n      <td>1.033063</td>\n      <td>0.0</td>\n      <td>50</td>\n    </tr>\n    <tr>\n      <th>4</th>\n      <td>4.625812</td>\n      <td>-0.228815</td>\n      <td>0.0</td>\n      <td>50</td>\n    </tr>\n  </tbody>\n</table>\n<p>250 rows × 4 columns</p>\n</div>"
     },
     "execution_count": 12,
     "metadata": {},
     "output_type": "execute_result"
    }
   ],
   "source": [
    "a = df_obs[['id', 'A']]\n",
    "est_outcome = gFormula.estimate_individual_outcome(\n",
    "                                                    X,\n",
    "                                                    a,\n",
    "                                                    t=None,\n",
    "                                                    y=None,\n",
    "                                                    treatment_strategy=treatment_strategy\n",
    "                                                )\n",
    "est_outcome"
   ],
   "metadata": {
    "collapsed": false,
    "pycharm": {
     "name": "#%%\n"
    }
   }
  },
  {
   "cell_type": "markdown",
   "source": [],
   "metadata": {
    "collapsed": false,
    "pycharm": {
     "name": "#%% md\n"
    }
   }
  },
  {
   "cell_type": "code",
   "execution_count": 13,
   "outputs": [
    {
     "name": "stderr",
     "output_type": "stream",
     "text": [
      "/Users/julinamaharjan/PycharmProjects/causallib/causallib/time_varying/GFormula.py:207: FutureWarning: Using the level keyword in DataFrame and Series aggregations is deprecated and will be removed in a future version. Use groupby instead. df.median(level=1) should use df.groupby(level=1).median().\n",
      "  res = individual_prediction_curves.mean(level=0).reset_index()\n"
     ]
    },
    {
     "data": {
      "text/plain": "   index         X        X2     A    id\n0      0  2.727673 -0.108260  0.20  25.5\n1      1  2.846672 -0.085509  0.16  25.5\n2      2  3.150225  0.026014  0.14  25.5\n3      3  3.679224 -0.025739  0.12  25.5\n4      4  4.002635  0.023500  0.10  25.5",
      "text/html": "<div>\n<style scoped>\n    .dataframe tbody tr th:only-of-type {\n        vertical-align: middle;\n    }\n\n    .dataframe tbody tr th {\n        vertical-align: top;\n    }\n\n    .dataframe thead th {\n        text-align: right;\n    }\n</style>\n<table border=\"1\" class=\"dataframe\">\n  <thead>\n    <tr style=\"text-align: right;\">\n      <th></th>\n      <th>index</th>\n      <th>X</th>\n      <th>X2</th>\n      <th>A</th>\n      <th>id</th>\n    </tr>\n  </thead>\n  <tbody>\n    <tr>\n      <th>0</th>\n      <td>0</td>\n      <td>2.727673</td>\n      <td>-0.108260</td>\n      <td>0.20</td>\n      <td>25.5</td>\n    </tr>\n    <tr>\n      <th>1</th>\n      <td>1</td>\n      <td>2.846672</td>\n      <td>-0.085509</td>\n      <td>0.16</td>\n      <td>25.5</td>\n    </tr>\n    <tr>\n      <th>2</th>\n      <td>2</td>\n      <td>3.150225</td>\n      <td>0.026014</td>\n      <td>0.14</td>\n      <td>25.5</td>\n    </tr>\n    <tr>\n      <th>3</th>\n      <td>3</td>\n      <td>3.679224</td>\n      <td>-0.025739</td>\n      <td>0.12</td>\n      <td>25.5</td>\n    </tr>\n    <tr>\n      <th>4</th>\n      <td>4</td>\n      <td>4.002635</td>\n      <td>0.023500</td>\n      <td>0.10</td>\n      <td>25.5</td>\n    </tr>\n  </tbody>\n</table>\n</div>"
     },
     "execution_count": 13,
     "metadata": {},
     "output_type": "execute_result"
    }
   ],
   "source": [
    "a = df_obs[['id', 'A']]\n",
    "pop_outcome = gFormula.estimate_population_outcome(X, a, t=None, y=None, treatment_strategy=treatment_strategy )\n",
    "pop_outcome"
   ],
   "metadata": {
    "collapsed": false,
    "pycharm": {
     "name": "#%%\n"
    }
   }
  },
  {
   "cell_type": "code",
   "execution_count": null,
   "outputs": [],
   "source": [
    "# effect = gFormula.estimate_effect(pop_outcome[1], pop_outcome[0])"
   ],
   "metadata": {
    "collapsed": false,
    "pycharm": {
     "name": "#%%\n"
    }
   }
  },
  {
   "cell_type": "code",
   "execution_count": 14,
   "outputs": [
    {
     "data": {
      "text/plain": "<Figure size 432x288 with 1 Axes>",
      "image/png": "[encoded data removed]"
     },
     "metadata": {
      "needs_background": "light"
     },
     "output_type": "display_data"
    }
   ],
   "source": [
    "import matplotlib.pyplot as plt\n",
    "#Get current axis\n",
    "ax = plt.gca()\n",
    "\n",
    "# line plot for math marks\n",
    "pop_outcome.plot(kind = 'line',\n",
    "        x = 'index',\n",
    "        y = 'X',\n",
    "        color = 'green',ax = ax)\n",
    "\n",
    "# line plot for physics marks\n",
    "pop_outcome.plot(kind = 'line',x = 'index',\n",
    "        y = 'X2',\n",
    "        color = 'blue',ax = ax)\n",
    "\n",
    "# line plot for chemistry marks\n",
    "pop_outcome.plot(kind = 'line',x = 'index',\n",
    "        y = 'A',\n",
    "        color = 'black',ax = ax)\n",
    "\n",
    "# set the title\n",
    "plt.title('LinePlots')\n",
    "\n",
    "# show the plot\n",
    "plt.show()"
   ],
   "metadata": {
    "collapsed": false,
    "pycharm": {
     "name": "#%%\n"
    }
   }
  },
  {
   "cell_type": "code",
   "execution_count": null,
   "outputs": [],
   "source": [],
   "metadata": {
    "collapsed": false,
    "pycharm": {
     "name": "#%%\n"
    }
   }
  }
 ],
 "metadata": {
  "kernelspec": {
   "display_name": "Python 3",
   "language": "python",
   "name": "python3"
  },
  "language_info": {
   "codemirror_mode": {
    "name": "ipython",
    "version": 2
   },
   "file_extension": ".py",
   "mimetype": "text/x-python",
   "name": "python",
   "nbconvert_exporter": "python",
   "pygments_lexer": "ipython2",
   "version": "2.7.6"
  }
 },
 "nbformat": 4,
 "nbformat_minor": 0
}
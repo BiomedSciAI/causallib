{
 "cells": [
  {
   "cell_type": "markdown",
   "source": [
    "# G-Formula for time-varying causal inference."
   ],
   "metadata": {
    "collapsed": false,
    "pycharm": {
     "name": "#%% md\n"
    }
   }
  },
  {
   "cell_type": "code",
   "execution_count": 1,
   "outputs": [
    {
     "name": "stderr",
     "output_type": "stream",
     "text": [
      "/Users/julinamaharjan/opt/anaconda3/envs/j_env/lib/python3.10/site-packages/tqdm/auto.py:22: TqdmWarning: IProgress not found. Please update jupyter and ipywidgets. See https://ipywidgets.readthedocs.io/en/stable/user_install.html\n",
      "  from .autonotebook import tqdm as notebook_tqdm\n"
     ]
    }
   ],
   "source": [
    "%matplotlib inline\n",
    "import pandas as pd\n",
    "from sklearn.linear_model import LogisticRegression, LinearRegression\n",
    "from causallib.time_varying.treament_strategy import CFBernoulli\n",
    "from causallib.time_varying.GFormula import GFormula"
   ],
   "metadata": {
    "collapsed": false,
    "pycharm": {
     "name": "#%%\n"
    }
   }
  },
  {
   "cell_type": "code",
   "execution_count": 2,
   "outputs": [],
   "source": [
    "df_obs = pd.read_csv('../../gnet_robust_rnn/easiest_sim_x2/data/easiest_gnet_data_obs_2x.csv') #, index_col=0)"
   ],
   "metadata": {
    "collapsed": false,
    "pycharm": {
     "name": "#%%\n"
    }
   }
  },
  {
   "cell_type": "code",
   "execution_count": 3,
   "outputs": [
    {
     "name": "stdout",
     "output_type": "stream",
     "text": [
      "10000\n"
     ]
    },
    {
     "data": {
      "text/plain": "   A         X        X2  time  id\n0  0 -0.326233  1.329799     1   1\n1  1  1.014886  1.272429     2   1\n2  0  0.960009  0.414641     3   1\n3  0  2.940409 -1.539950     4   1\n4  1  3.767785 -0.928567     5   1",
      "text/html": "<div>\n<style scoped>\n    .dataframe tbody tr th:only-of-type {\n        vertical-align: middle;\n    }\n\n    .dataframe tbody tr th {\n        vertical-align: top;\n    }\n\n    .dataframe thead th {\n        text-align: right;\n    }\n</style>\n<table border=\"1\" class=\"dataframe\">\n  <thead>\n    <tr style=\"text-align: right;\">\n      <th></th>\n      <th>A</th>\n      <th>X</th>\n      <th>X2</th>\n      <th>time</th>\n      <th>id</th>\n    </tr>\n  </thead>\n  <tbody>\n    <tr>\n      <th>0</th>\n      <td>0</td>\n      <td>-0.326233</td>\n      <td>1.329799</td>\n      <td>1</td>\n      <td>1</td>\n    </tr>\n    <tr>\n      <th>1</th>\n      <td>1</td>\n      <td>1.014886</td>\n      <td>1.272429</td>\n      <td>2</td>\n      <td>1</td>\n    </tr>\n    <tr>\n      <th>2</th>\n      <td>0</td>\n      <td>0.960009</td>\n      <td>0.414641</td>\n      <td>3</td>\n      <td>1</td>\n    </tr>\n    <tr>\n      <th>3</th>\n      <td>0</td>\n      <td>2.940409</td>\n      <td>-1.539950</td>\n      <td>4</td>\n      <td>1</td>\n    </tr>\n    <tr>\n      <th>4</th>\n      <td>1</td>\n      <td>3.767785</td>\n      <td>-0.928567</td>\n      <td>5</td>\n      <td>1</td>\n    </tr>\n  </tbody>\n</table>\n</div>"
     },
     "execution_count": 3,
     "metadata": {},
     "output_type": "execute_result"
    }
   ],
   "source": [
    "df_obs_ids = df_obs.id.unique()\n",
    "print(len(df_obs_ids))\n",
    "df_obs.head()"
   ],
   "metadata": {
    "collapsed": false,
    "pycharm": {
     "name": "#%%\n"
    }
   }
  },
  {
   "cell_type": "code",
   "execution_count": 4,
   "outputs": [],
   "source": [
    "# df_obs.columns.tolist()\n",
    "X = df_obs[['id', 'time', 'X', 'X2']]\n",
    "a = df_obs[['A']]\n",
    "# t="
   ],
   "metadata": {
    "collapsed": false,
    "pycharm": {
     "name": "#%%\n"
    }
   }
  },
  {
   "cell_type": "code",
   "execution_count": 5,
   "outputs": [],
   "source": [
    "covariate_models = {\n",
    "    'X':  LinearRegression(),\n",
    "    'X2': LinearRegression()\n",
    "}\n",
    "treatment_model = LogisticRegression(solver=\"liblinear\")\n",
    "treatment_strategy = CFBernoulli()"
   ],
   "metadata": {
    "collapsed": false,
    "pycharm": {
     "name": "#%%\n"
    }
   }
  },
  {
   "cell_type": "code",
   "execution_count": 6,
   "outputs": [],
   "source": [
    "gFormula = GFormula(treatment_model=treatment_model,\n",
    "                    covariate_models=covariate_models,\n",
    "                    outcome_model=None,\n",
    "                    refit_models=False,\n",
    "                    random_state=None,\n",
    "                    n_obsv=5,\n",
    "                    n_sims=3,\n",
    "                    n_steps=20,\n",
    "                    mode='normal',\n",
    "                    resid_val=None,\n",
    "                    )"
   ],
   "metadata": {
    "collapsed": false,
    "pycharm": {
     "name": "#%%\n"
    }
   }
  },
  {
   "cell_type": "code",
   "execution_count": 7,
   "outputs": [
    {
     "data": {
      "text/plain": "   id  time         X        X2\n0   1     1 -0.326233  1.329799\n1   1     2  1.014886  1.272429\n2   1     3  0.960009  0.414641\n3   1     4  2.940409 -1.539950\n4   1     5  3.767785 -0.928567",
      "text/html": "<div>\n<style scoped>\n    .dataframe tbody tr th:only-of-type {\n        vertical-align: middle;\n    }\n\n    .dataframe tbody tr th {\n        vertical-align: top;\n    }\n\n    .dataframe thead th {\n        text-align: right;\n    }\n</style>\n<table border=\"1\" class=\"dataframe\">\n  <thead>\n    <tr style=\"text-align: right;\">\n      <th></th>\n      <th>id</th>\n      <th>time</th>\n      <th>X</th>\n      <th>X2</th>\n    </tr>\n  </thead>\n  <tbody>\n    <tr>\n      <th>0</th>\n      <td>1</td>\n      <td>1</td>\n      <td>-0.326233</td>\n      <td>1.329799</td>\n    </tr>\n    <tr>\n      <th>1</th>\n      <td>1</td>\n      <td>2</td>\n      <td>1.014886</td>\n      <td>1.272429</td>\n    </tr>\n    <tr>\n      <th>2</th>\n      <td>1</td>\n      <td>3</td>\n      <td>0.960009</td>\n      <td>0.414641</td>\n    </tr>\n    <tr>\n      <th>3</th>\n      <td>1</td>\n      <td>4</td>\n      <td>2.940409</td>\n      <td>-1.539950</td>\n    </tr>\n    <tr>\n      <th>4</th>\n      <td>1</td>\n      <td>5</td>\n      <td>3.767785</td>\n      <td>-0.928567</td>\n    </tr>\n  </tbody>\n</table>\n</div>"
     },
     "execution_count": 7,
     "metadata": {},
     "output_type": "execute_result"
    }
   ],
   "source": [
    "X.head()"
   ],
   "metadata": {
    "collapsed": false,
    "pycharm": {
     "name": "#%%\n"
    }
   }
  },
  {
   "cell_type": "code",
   "execution_count": 8,
   "outputs": [
    {
     "data": {
      "text/plain": "   A\n0  0\n1  1\n2  0\n3  0\n4  1",
      "text/html": "<div>\n<style scoped>\n    .dataframe tbody tr th:only-of-type {\n        vertical-align: middle;\n    }\n\n    .dataframe tbody tr th {\n        vertical-align: top;\n    }\n\n    .dataframe thead th {\n        text-align: right;\n    }\n</style>\n<table border=\"1\" class=\"dataframe\">\n  <thead>\n    <tr style=\"text-align: right;\">\n      <th></th>\n      <th>A</th>\n    </tr>\n  </thead>\n  <tbody>\n    <tr>\n      <th>0</th>\n      <td>0</td>\n    </tr>\n    <tr>\n      <th>1</th>\n      <td>1</td>\n    </tr>\n    <tr>\n      <th>2</th>\n      <td>0</td>\n    </tr>\n    <tr>\n      <th>3</th>\n      <td>0</td>\n    </tr>\n    <tr>\n      <th>4</th>\n      <td>1</td>\n    </tr>\n  </tbody>\n</table>\n</div>"
     },
     "execution_count": 8,
     "metadata": {},
     "output_type": "execute_result"
    }
   ],
   "source": [
    "a.head()"
   ],
   "metadata": {
    "collapsed": false,
    "pycharm": {
     "name": "#%%\n"
    }
   }
  },
  {
   "cell_type": "code",
   "execution_count": 9,
   "outputs": [
    {
     "name": "stderr",
     "output_type": "stream",
     "text": [
      "/Users/julinamaharjan/opt/anaconda3/envs/j_env/lib/python3.10/site-packages/sklearn/utils/validation.py:1111: DataConversionWarning: A column-vector y was passed when a 1d array was expected. Please change the shape of y to (n_samples, ), for example using ravel().\n",
      "  y = column_or_1d(y, warn=True)\n"
     ]
    },
    {
     "data": {
      "text/plain": "GFormula(covariate_models={'X': LinearRegression(), 'X2': LinearRegression()}, id_col=id, mode=normal, n_obsv=5, n_sims=3, n_steps=20, outcome_model=None, predict_proba=False, random_state=None, refit_models=False, resid_val=None, treatment_model=LogisticRegression(solver='liblinear'))"
     },
     "execution_count": 9,
     "metadata": {},
     "output_type": "execute_result"
    }
   ],
   "source": [
    "gFormula.fit(X, a, t=None, y=None)"
   ],
   "metadata": {
    "collapsed": false,
    "pycharm": {
     "name": "#%%\n"
    }
   }
  },
  {
   "cell_type": "code",
   "execution_count": 10,
   "outputs": [
    {
     "data": {
      "text/plain": "            X        X2    A  id\n0    4.343560 -1.282889  0.0   1\n1    4.425528 -0.478866  0.0   1\n2    4.803877  0.508048  0.0   1\n3    5.609254  0.927633  0.0   1\n4    6.905419 -0.547968  0.0   1\n..        ...       ...  ...  ..\n15   9.768468 -0.690343  0.0  50\n16  11.328489 -0.326911  0.0  50\n17  10.564875  0.169284  0.0  50\n18  11.211288 -0.015826  0.0  50\n19  11.414214  1.635775  0.0  50\n\n[1000 rows x 4 columns]",
      "text/html": "<div>\n<style scoped>\n    .dataframe tbody tr th:only-of-type {\n        vertical-align: middle;\n    }\n\n    .dataframe tbody tr th {\n        vertical-align: top;\n    }\n\n    .dataframe thead th {\n        text-align: right;\n    }\n</style>\n<table border=\"1\" class=\"dataframe\">\n  <thead>\n    <tr style=\"text-align: right;\">\n      <th></th>\n      <th>X</th>\n      <th>X2</th>\n      <th>A</th>\n      <th>id</th>\n    </tr>\n  </thead>\n  <tbody>\n    <tr>\n      <th>0</th>\n      <td>4.343560</td>\n      <td>-1.282889</td>\n      <td>0.0</td>\n      <td>1</td>\n    </tr>\n    <tr>\n      <th>1</th>\n      <td>4.425528</td>\n      <td>-0.478866</td>\n      <td>0.0</td>\n      <td>1</td>\n    </tr>\n    <tr>\n      <th>2</th>\n      <td>4.803877</td>\n      <td>0.508048</td>\n      <td>0.0</td>\n      <td>1</td>\n    </tr>\n    <tr>\n      <th>3</th>\n      <td>5.609254</td>\n      <td>0.927633</td>\n      <td>0.0</td>\n      <td>1</td>\n    </tr>\n    <tr>\n      <th>4</th>\n      <td>6.905419</td>\n      <td>-0.547968</td>\n      <td>0.0</td>\n      <td>1</td>\n    </tr>\n    <tr>\n      <th>...</th>\n      <td>...</td>\n      <td>...</td>\n      <td>...</td>\n      <td>...</td>\n    </tr>\n    <tr>\n      <th>15</th>\n      <td>9.768468</td>\n      <td>-0.690343</td>\n      <td>0.0</td>\n      <td>50</td>\n    </tr>\n    <tr>\n      <th>16</th>\n      <td>11.328489</td>\n      <td>-0.326911</td>\n      <td>0.0</td>\n      <td>50</td>\n    </tr>\n    <tr>\n      <th>17</th>\n      <td>10.564875</td>\n      <td>0.169284</td>\n      <td>0.0</td>\n      <td>50</td>\n    </tr>\n    <tr>\n      <th>18</th>\n      <td>11.211288</td>\n      <td>-0.015826</td>\n      <td>0.0</td>\n      <td>50</td>\n    </tr>\n    <tr>\n      <th>19</th>\n      <td>11.414214</td>\n      <td>1.635775</td>\n      <td>0.0</td>\n      <td>50</td>\n    </tr>\n  </tbody>\n</table>\n<p>1000 rows × 4 columns</p>\n</div>"
     },
     "execution_count": 10,
     "metadata": {},
     "output_type": "execute_result"
    }
   ],
   "source": [
    "a = df_obs[['id', 'A']]\n",
    "est_outcome = gFormula.estimate_individual_outcome(\n",
    "                                                    X,\n",
    "                                                    a,\n",
    "                                                    t=None,\n",
    "                                                    y=None,\n",
    "                                                    treatment_strategy=treatment_strategy\n",
    "                                                )\n",
    "est_outcome"
   ],
   "metadata": {
    "collapsed": false,
    "pycharm": {
     "name": "#%%\n"
    }
   }
  },
  {
   "cell_type": "markdown",
   "source": [],
   "metadata": {
    "collapsed": false,
    "pycharm": {
     "name": "#%% md\n"
    }
   }
  },
  {
   "cell_type": "code",
   "execution_count": 11,
   "outputs": [
    {
     "name": "stderr",
     "output_type": "stream",
     "text": [
      "/Users/julinamaharjan/PycharmProjects/causallib/causallib/time_varying/GFormula.py:207: FutureWarning: Using the level keyword in DataFrame and Series aggregations is deprecated and will be removed in a future version. Use groupby instead. df.median(level=1) should use df.groupby(level=1).median().\n",
      "  res = individual_prediction_curves.mean(level=0).reset_index()\n"
     ]
    },
    {
     "data": {
      "text/plain": "    index          X        X2         A    id\n0       0   2.687262 -0.037834  0.200000  25.5\n1       1   3.096430 -0.159455  0.133333  25.5\n2       2   3.694060  0.061456  0.153333  25.5\n3       3   4.115347 -0.036707  0.113333  25.5\n4       4   4.552910 -0.047435  0.093333  25.5\n5       5   5.008614  0.073682  0.080000  25.5\n6       6   5.613752 -0.019782  0.073333  25.5\n7       7   6.147461 -0.109504  0.066667  25.5\n8       8   6.753641 -0.105802  0.033333  25.5\n9       9   7.153808  0.005455  0.026667  25.5\n10     10   7.842102  0.066907  0.046667  25.5\n11     11   8.459629 -0.096046  0.053333  25.5\n12     12   9.083198  0.067887  0.053333  25.5\n13     13   9.689993  0.056878  0.033333  25.5\n14     14  10.111821 -0.078359  0.040000  25.5\n15     15  10.761311  0.012341  0.040000  25.5\n16     16  11.257700 -0.050165  0.026667  25.5\n17     17  11.867000  0.005498  0.026667  25.5\n18     18  12.320433 -0.117610  0.020000  25.5\n19     19  12.852459  0.177770  0.033333  25.5",
      "text/html": "<div>\n<style scoped>\n    .dataframe tbody tr th:only-of-type {\n        vertical-align: middle;\n    }\n\n    .dataframe tbody tr th {\n        vertical-align: top;\n    }\n\n    .dataframe thead th {\n        text-align: right;\n    }\n</style>\n<table border=\"1\" class=\"dataframe\">\n  <thead>\n    <tr style=\"text-align: right;\">\n      <th></th>\n      <th>index</th>\n      <th>X</th>\n      <th>X2</th>\n      <th>A</th>\n      <th>id</th>\n    </tr>\n  </thead>\n  <tbody>\n    <tr>\n      <th>0</th>\n      <td>0</td>\n      <td>2.687262</td>\n      <td>-0.037834</td>\n      <td>0.200000</td>\n      <td>25.5</td>\n    </tr>\n    <tr>\n      <th>1</th>\n      <td>1</td>\n      <td>3.096430</td>\n      <td>-0.159455</td>\n      <td>0.133333</td>\n      <td>25.5</td>\n    </tr>\n    <tr>\n      <th>2</th>\n      <td>2</td>\n      <td>3.694060</td>\n      <td>0.061456</td>\n      <td>0.153333</td>\n      <td>25.5</td>\n    </tr>\n    <tr>\n      <th>3</th>\n      <td>3</td>\n      <td>4.115347</td>\n      <td>-0.036707</td>\n      <td>0.113333</td>\n      <td>25.5</td>\n    </tr>\n    <tr>\n      <th>4</th>\n      <td>4</td>\n      <td>4.552910</td>\n      <td>-0.047435</td>\n      <td>0.093333</td>\n      <td>25.5</td>\n    </tr>\n    <tr>\n      <th>5</th>\n      <td>5</td>\n      <td>5.008614</td>\n      <td>0.073682</td>\n      <td>0.080000</td>\n      <td>25.5</td>\n    </tr>\n    <tr>\n      <th>6</th>\n      <td>6</td>\n      <td>5.613752</td>\n      <td>-0.019782</td>\n      <td>0.073333</td>\n      <td>25.5</td>\n    </tr>\n    <tr>\n      <th>7</th>\n      <td>7</td>\n      <td>6.147461</td>\n      <td>-0.109504</td>\n      <td>0.066667</td>\n      <td>25.5</td>\n    </tr>\n    <tr>\n      <th>8</th>\n      <td>8</td>\n      <td>6.753641</td>\n      <td>-0.105802</td>\n      <td>0.033333</td>\n      <td>25.5</td>\n    </tr>\n    <tr>\n      <th>9</th>\n      <td>9</td>\n      <td>7.153808</td>\n      <td>0.005455</td>\n      <td>0.026667</td>\n      <td>25.5</td>\n    </tr>\n    <tr>\n      <th>10</th>\n      <td>10</td>\n      <td>7.842102</td>\n      <td>0.066907</td>\n      <td>0.046667</td>\n      <td>25.5</td>\n    </tr>\n    <tr>\n      <th>11</th>\n      <td>11</td>\n      <td>8.459629</td>\n      <td>-0.096046</td>\n      <td>0.053333</td>\n      <td>25.5</td>\n    </tr>\n    <tr>\n      <th>12</th>\n      <td>12</td>\n      <td>9.083198</td>\n      <td>0.067887</td>\n      <td>0.053333</td>\n      <td>25.5</td>\n    </tr>\n    <tr>\n      <th>13</th>\n      <td>13</td>\n      <td>9.689993</td>\n      <td>0.056878</td>\n      <td>0.033333</td>\n      <td>25.5</td>\n    </tr>\n    <tr>\n      <th>14</th>\n      <td>14</td>\n      <td>10.111821</td>\n      <td>-0.078359</td>\n      <td>0.040000</td>\n      <td>25.5</td>\n    </tr>\n    <tr>\n      <th>15</th>\n      <td>15</td>\n      <td>10.761311</td>\n      <td>0.012341</td>\n      <td>0.040000</td>\n      <td>25.5</td>\n    </tr>\n    <tr>\n      <th>16</th>\n      <td>16</td>\n      <td>11.257700</td>\n      <td>-0.050165</td>\n      <td>0.026667</td>\n      <td>25.5</td>\n    </tr>\n    <tr>\n      <th>17</th>\n      <td>17</td>\n      <td>11.867000</td>\n      <td>0.005498</td>\n      <td>0.026667</td>\n      <td>25.5</td>\n    </tr>\n    <tr>\n      <th>18</th>\n      <td>18</td>\n      <td>12.320433</td>\n      <td>-0.117610</td>\n      <td>0.020000</td>\n      <td>25.5</td>\n    </tr>\n    <tr>\n      <th>19</th>\n      <td>19</td>\n      <td>12.852459</td>\n      <td>0.177770</td>\n      <td>0.033333</td>\n      <td>25.5</td>\n    </tr>\n  </tbody>\n</table>\n</div>"
     },
     "execution_count": 11,
     "metadata": {},
     "output_type": "execute_result"
    }
   ],
   "source": [
    "a = df_obs[['id', 'A']]\n",
    "pop_outcome = gFormula.estimate_population_outcome(X, a, t=None, y=None, treatment_strategy=treatment_strategy )\n",
    "pop_outcome"
   ],
   "metadata": {
    "collapsed": false,
    "pycharm": {
     "name": "#%%\n"
    }
   }
  },
  {
   "cell_type": "code",
   "execution_count": 12,
   "outputs": [],
   "source": [
    "# effect = gFormula.estimate_effect(pop_outcome[1], pop_outcome[0])"
   ],
   "metadata": {
    "collapsed": false,
    "pycharm": {
     "name": "#%%\n"
    }
   }
  },
  {
   "cell_type": "code",
   "execution_count": 13,
   "outputs": [
    {
     "data": {
      "text/plain": "<Figure size 432x288 with 1 Axes>",
      "image/png": "[encoded data removed]"
     },
     "metadata": {
      "needs_background": "light"
     },
     "output_type": "display_data"
    }
   ],
   "source": [
    "import matplotlib.pyplot as plt\n",
    "#Get current axis\n",
    "ax = plt.gca()\n",
    "\n",
    "# line plot for math marks\n",
    "pop_outcome.plot(kind = 'line',\n",
    "        x = 'index',\n",
    "        y = 'X',\n",
    "        color = 'green',ax = ax)\n",
    "\n",
    "# line plot for physics marks\n",
    "pop_outcome.plot(kind = 'line',x = 'index',\n",
    "        y = 'X2',\n",
    "        color = 'blue',ax = ax)\n",
    "\n",
    "# line plot for chemistry marks\n",
    "pop_outcome.plot(kind = 'line',x = 'index',\n",
    "        y = 'A',\n",
    "        color = 'black',ax = ax)\n",
    "\n",
    "# set the title\n",
    "plt.title('Counterfactual Prediction')\n",
    "\n",
    "# show the plot\n",
    "plt.show()"
   ],
   "metadata": {
    "collapsed": false,
    "pycharm": {
     "name": "#%%\n"
    }
   }
  },
  {
   "cell_type": "code",
   "execution_count": 13,
   "outputs": [],
   "source": [],
   "metadata": {
    "collapsed": false,
    "pycharm": {
     "name": "#%%\n"
    }
   }
  }
 ],
 "metadata": {
  "kernelspec": {
   "display_name": "Python 3",
   "language": "python",
   "name": "python3"
  },
  "language_info": {
   "codemirror_mode": {
    "name": "ipython",
    "version": 2
   },
   "file_extension": ".py",
   "mimetype": "text/x-python",
   "name": "python",
   "nbconvert_exporter": "python",
   "pygments_lexer": "ipython2",
   "version": "2.7.6"
  }
 },
 "nbformat": 4,
 "nbformat_minor": 0
}
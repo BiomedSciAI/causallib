{
 "cells": [
  {
   "cell_type": "markdown",
   "metadata": {},
   "source": [
    "# Matching Model\n",
    "To find the expected effect of the intervention on the population, we match each treated individual with one or more untreated individuals which are \"almost the same\" as him or her."
   ]
  },
  {
   "cell_type": "code",
   "execution_count": 1,
   "metadata": {},
   "outputs": [],
   "source": [
    "from causallib.estimation import IPW, Matching\n",
    "import matplotlib.pyplot as plt\n",
    "import seaborn as sb\n",
    "import pandas as pd\n",
    "import numpy as np\n",
    "from causallib.evaluation.metrics import calculate_covariate_balance\n",
    "from sklearn.linear_model import LogisticRegression\n",
    "from causallib.preprocessing.transformers import PropensityTransformer, MatchingTransformer\n",
    "from causallib.datasets import load_nhefs\n",
    "%matplotlib inline"
   ]
  },
  {
   "cell_type": "markdown",
   "metadata": {},
   "source": [
    "#### Data:\n",
    "The effect of quitting to smoke on weight loss.  \n",
    "Data example is taken from [Hernan and Robins Causal Inference Book](https://www.hsph.harvard.edu/miguel-hernan/causal-inference-book/)"
   ]
  },
  {
   "cell_type": "markdown",
   "metadata": {},
   "source": [
    "When we are looking for nearby data points to match against, the one hot encoding may not be the best choice. Augmented features are also not needed and may introduce bias (eg,  if we inlude `age^2`, we will call one pair of subjects more distant in the age variable than another pair if the base age is older, even though the difference is the same ). So we do not augment the continuous variables, and instead of one hot encoding the categorical variables, we binarize them to \"high/low\" values."
   ]
  },
  {
   "cell_type": "code",
   "execution_count": 2,
   "metadata": {},
   "outputs": [],
   "source": [
    "def binarize(df, column_name):\n",
    "    df = df.copy()\n",
    "    m = df[column_name].median()\n",
    "    def balance(i): return np.abs(0.5 - (df[column_name] < i).sum()/len(df))\n",
    "    mstar = min([m-1, m, m+1], key=balance)\n",
    "    df = df.assign(**{column_name: (df[column_name] < mstar).astype(int)})\n",
    "    df = df.rename(columns={column_name: column_name + f\"<{mstar}\"})\n",
    "    return df\n",
    "\n",
    "\n",
    "def get_matching_data():\n",
    "    data = load_nhefs(onehot=False, augment=False)\n",
    "    data.X = binarize(data.X, \"education\")\n",
    "    data.X = binarize(data.X, \"exercise\")\n",
    "    data.X = binarize(data.X, \"active\")\n",
    "    return data\n",
    "\n",
    "\n",
    "binarized_data = get_matching_data()\n",
    "X, a, y = binarized_data.X, binarized_data.a, binarized_data.y"
   ]
  },
  {
   "cell_type": "code",
   "execution_count": 3,
   "metadata": {},
   "outputs": [
    {
     "data": {
      "text/html": [
       "<div>\n",
       "<style scoped>\n",
       "    .dataframe tbody tr th:only-of-type {\n",
       "        vertical-align: middle;\n",
       "    }\n",
       "\n",
       "    .dataframe tbody tr th {\n",
       "        vertical-align: top;\n",
       "    }\n",
       "\n",
       "    .dataframe thead th {\n",
       "        text-align: right;\n",
       "    }\n",
       "</style>\n",
       "<table border=\"1\" class=\"dataframe\">\n",
       "  <thead>\n",
       "    <tr style=\"text-align: right;\">\n",
       "      <th></th>\n",
       "      <th>active&lt;1.0</th>\n",
       "      <th>age</th>\n",
       "      <th>education&lt;3.0</th>\n",
       "      <th>exercise&lt;2.0</th>\n",
       "      <th>race</th>\n",
       "      <th>sex</th>\n",
       "      <th>smokeintensity</th>\n",
       "      <th>smokeyrs</th>\n",
       "      <th>wt71</th>\n",
       "      <th>qsmk</th>\n",
       "      <th>wt82_71</th>\n",
       "    </tr>\n",
       "  </thead>\n",
       "  <tbody>\n",
       "    <tr>\n",
       "      <th>0</th>\n",
       "      <td>1</td>\n",
       "      <td>42</td>\n",
       "      <td>1</td>\n",
       "      <td>0</td>\n",
       "      <td>1</td>\n",
       "      <td>0</td>\n",
       "      <td>30</td>\n",
       "      <td>29</td>\n",
       "      <td>79.04</td>\n",
       "      <td>0</td>\n",
       "      <td>-10.093960</td>\n",
       "    </tr>\n",
       "    <tr>\n",
       "      <th>1</th>\n",
       "      <td>1</td>\n",
       "      <td>36</td>\n",
       "      <td>1</td>\n",
       "      <td>1</td>\n",
       "      <td>0</td>\n",
       "      <td>0</td>\n",
       "      <td>20</td>\n",
       "      <td>24</td>\n",
       "      <td>58.63</td>\n",
       "      <td>0</td>\n",
       "      <td>2.604970</td>\n",
       "    </tr>\n",
       "    <tr>\n",
       "      <th>2</th>\n",
       "      <td>1</td>\n",
       "      <td>56</td>\n",
       "      <td>1</td>\n",
       "      <td>0</td>\n",
       "      <td>1</td>\n",
       "      <td>1</td>\n",
       "      <td>20</td>\n",
       "      <td>26</td>\n",
       "      <td>56.81</td>\n",
       "      <td>0</td>\n",
       "      <td>9.414486</td>\n",
       "    </tr>\n",
       "    <tr>\n",
       "      <th>3</th>\n",
       "      <td>0</td>\n",
       "      <td>68</td>\n",
       "      <td>1</td>\n",
       "      <td>0</td>\n",
       "      <td>1</td>\n",
       "      <td>0</td>\n",
       "      <td>3</td>\n",
       "      <td>53</td>\n",
       "      <td>59.42</td>\n",
       "      <td>0</td>\n",
       "      <td>4.990117</td>\n",
       "    </tr>\n",
       "    <tr>\n",
       "      <th>4</th>\n",
       "      <td>0</td>\n",
       "      <td>40</td>\n",
       "      <td>1</td>\n",
       "      <td>1</td>\n",
       "      <td>0</td>\n",
       "      <td>0</td>\n",
       "      <td>20</td>\n",
       "      <td>19</td>\n",
       "      <td>87.09</td>\n",
       "      <td>0</td>\n",
       "      <td>4.989251</td>\n",
       "    </tr>\n",
       "  </tbody>\n",
       "</table>\n",
       "</div>"
      ],
      "text/plain": [
       "   active<1.0  age  education<3.0  exercise<2.0  race  sex  smokeintensity  \\\n",
       "0           1   42              1             0     1    0              30   \n",
       "1           1   36              1             1     0    0              20   \n",
       "2           1   56              1             0     1    1              20   \n",
       "3           0   68              1             0     1    0               3   \n",
       "4           0   40              1             1     0    0              20   \n",
       "\n",
       "   smokeyrs   wt71  qsmk    wt82_71  \n",
       "0        29  79.04     0 -10.093960  \n",
       "1        24  58.63     0   2.604970  \n",
       "2        26  56.81     0   9.414486  \n",
       "3        53  59.42     0   4.990117  \n",
       "4        19  87.09     0   4.989251  "
      ]
     },
     "execution_count": 3,
     "metadata": {},
     "output_type": "execute_result"
    }
   ],
   "source": [
    "binarized_data.X.join(binarized_data.a).join(binarized_data.y).head()"
   ]
  },
  {
   "cell_type": "markdown",
   "metadata": {},
   "source": [
    "We can run either a Euclidean or a Mahalanobis metric match and predict the individual outcome using `MatchingIndividualOutcomeEstimator`:"
   ]
  },
  {
   "cell_type": "code",
   "execution_count": 4,
   "metadata": {},
   "outputs": [],
   "source": [
    "m_euclid = Matching(metric=\"euclidean\").fit(X, a, y)\n",
    "m_mahalanobis = Matching(metric=\"mahalanobis\").fit(X, a, y)\n",
    "Y_euclid = m_euclid.estimate_individual_outcome(X, a)\n",
    "Y_mahalanobis = m_mahalanobis.estimate_individual_outcome(X, a)"
   ]
  },
  {
   "cell_type": "markdown",
   "metadata": {},
   "source": [
    "We can see that the two metrics lead to very similar results on a population level."
   ]
  },
  {
   "cell_type": "code",
   "execution_count": 5,
   "metadata": {},
   "outputs": [
    {
     "data": {
      "text/plain": [
       "0      1.712532\n",
       "1      5.562541\n",
       "ATE    3.850009\n",
       "dtype: float64"
      ]
     },
     "execution_count": 5,
     "metadata": {},
     "output_type": "execute_result"
    }
   ],
   "source": [
    "Y_euclid.assign(ATE=Y_euclid[1]-Y_euclid[0]).mean()"
   ]
  },
  {
   "cell_type": "code",
   "execution_count": 6,
   "metadata": {},
   "outputs": [
    {
     "data": {
      "text/plain": [
       "0      1.862848\n",
       "1      5.084078\n",
       "ATE    3.221230\n",
       "dtype: float64"
      ]
     },
     "execution_count": 6,
     "metadata": {},
     "output_type": "execute_result"
    }
   ],
   "source": [
    "Y_mahalanobis.assign(ATE=Y_mahalanobis[1]-Y_mahalanobis[0]).mean()"
   ]
  },
  {
   "cell_type": "markdown",
   "metadata": {},
   "source": [
    "If we inspect the individual counterfactuals, we find, as expected that both metrics return the same value for the observed outcome but differ in the unobserved outcome:"
   ]
  },
  {
   "cell_type": "code",
   "execution_count": 7,
   "metadata": {},
   "outputs": [
    {
     "data": {
      "text/html": [
       "<div>\n",
       "<style scoped>\n",
       "    .dataframe tbody tr th:only-of-type {\n",
       "        vertical-align: middle;\n",
       "    }\n",
       "\n",
       "    .dataframe tbody tr th {\n",
       "        vertical-align: top;\n",
       "    }\n",
       "\n",
       "    .dataframe thead th {\n",
       "        text-align: right;\n",
       "    }\n",
       "</style>\n",
       "<table border=\"1\" class=\"dataframe\">\n",
       "  <thead>\n",
       "    <tr style=\"text-align: right;\">\n",
       "      <th></th>\n",
       "      <th>0_euclidean</th>\n",
       "      <th>1_euclidean</th>\n",
       "      <th>0_mahalanobis</th>\n",
       "      <th>1_mahalanobis</th>\n",
       "      <th>qsmk</th>\n",
       "    </tr>\n",
       "    <tr>\n",
       "      <th>sample_id</th>\n",
       "      <th></th>\n",
       "      <th></th>\n",
       "      <th></th>\n",
       "      <th></th>\n",
       "      <th></th>\n",
       "    </tr>\n",
       "  </thead>\n",
       "  <tbody>\n",
       "    <tr>\n",
       "      <th>270</th>\n",
       "      <td>-1.585221</td>\n",
       "      <td>-14.515030</td>\n",
       "      <td>-1.358036</td>\n",
       "      <td>-14.515030</td>\n",
       "      <td>1</td>\n",
       "    </tr>\n",
       "    <tr>\n",
       "      <th>1231</th>\n",
       "      <td>-1.478036</td>\n",
       "      <td>-2.152889</td>\n",
       "      <td>-1.478036</td>\n",
       "      <td>6.354588</td>\n",
       "      <td>0</td>\n",
       "    </tr>\n",
       "    <tr>\n",
       "      <th>312</th>\n",
       "      <td>4.994384</td>\n",
       "      <td>5.214677</td>\n",
       "      <td>4.994384</td>\n",
       "      <td>2.611378</td>\n",
       "      <td>0</td>\n",
       "    </tr>\n",
       "    <tr>\n",
       "      <th>747</th>\n",
       "      <td>8.052550</td>\n",
       "      <td>20.983137</td>\n",
       "      <td>8.052550</td>\n",
       "      <td>-20.751731</td>\n",
       "      <td>0</td>\n",
       "    </tr>\n",
       "    <tr>\n",
       "      <th>1286</th>\n",
       "      <td>-0.453769</td>\n",
       "      <td>4.653709</td>\n",
       "      <td>-0.453769</td>\n",
       "      <td>7.375747</td>\n",
       "      <td>0</td>\n",
       "    </tr>\n",
       "    <tr>\n",
       "      <th>660</th>\n",
       "      <td>2.044486</td>\n",
       "      <td>12.582741</td>\n",
       "      <td>2.044486</td>\n",
       "      <td>21.207697</td>\n",
       "      <td>0</td>\n",
       "    </tr>\n",
       "    <tr>\n",
       "      <th>97</th>\n",
       "      <td>14.738576</td>\n",
       "      <td>7.706729</td>\n",
       "      <td>14.738576</td>\n",
       "      <td>6.917506</td>\n",
       "      <td>0</td>\n",
       "    </tr>\n",
       "    <tr>\n",
       "      <th>661</th>\n",
       "      <td>-14.289883</td>\n",
       "      <td>-2.152889</td>\n",
       "      <td>3.518181</td>\n",
       "      <td>-2.152889</td>\n",
       "      <td>1</td>\n",
       "    </tr>\n",
       "    <tr>\n",
       "      <th>1097</th>\n",
       "      <td>-2.610177</td>\n",
       "      <td>6.348855</td>\n",
       "      <td>-2.610177</td>\n",
       "      <td>-2.722508</td>\n",
       "      <td>0</td>\n",
       "    </tr>\n",
       "    <tr>\n",
       "      <th>1462</th>\n",
       "      <td>8.280703</td>\n",
       "      <td>3.058078</td>\n",
       "      <td>8.280703</td>\n",
       "      <td>3.850703</td>\n",
       "      <td>0</td>\n",
       "    </tr>\n",
       "  </tbody>\n",
       "</table>\n",
       "</div>"
      ],
      "text/plain": [
       "           0_euclidean  1_euclidean  0_mahalanobis  1_mahalanobis  qsmk\n",
       "sample_id                                                              \n",
       "270          -1.585221   -14.515030      -1.358036     -14.515030     1\n",
       "1231         -1.478036    -2.152889      -1.478036       6.354588     0\n",
       "312           4.994384     5.214677       4.994384       2.611378     0\n",
       "747           8.052550    20.983137       8.052550     -20.751731     0\n",
       "1286         -0.453769     4.653709      -0.453769       7.375747     0\n",
       "660           2.044486    12.582741       2.044486      21.207697     0\n",
       "97           14.738576     7.706729      14.738576       6.917506     0\n",
       "661         -14.289883    -2.152889       3.518181      -2.152889     1\n",
       "1097         -2.610177     6.348855      -2.610177      -2.722508     0\n",
       "1462          8.280703     3.058078       8.280703       3.850703     0"
      ]
     },
     "execution_count": 7,
     "metadata": {},
     "output_type": "execute_result"
    }
   ],
   "source": [
    "Y_euclid.join(Y_mahalanobis, lsuffix=\"_euclidean\",\n",
    "              rsuffix=\"_mahalanobis\").join(a).sample(10)"
   ]
  },
  {
   "cell_type": "markdown",
   "metadata": {},
   "source": [
    "# Propensity Matching\n",
    "\n",
    "To do propensity score matching, we can supply a transformer that replaces the covariates with a learned propensity model, using a given learner."
   ]
  },
  {
   "cell_type": "code",
   "execution_count": 8,
   "metadata": {},
   "outputs": [],
   "source": [
    "propensity_transform = PropensityTransformer(\n",
    "    learner=LogisticRegression(\n",
    "        solver=\"liblinear\",\n",
    "        class_weight=\"balanced\"),\n",
    "    include_covariates=False)"
   ]
  },
  {
   "cell_type": "markdown",
   "metadata": {},
   "source": [
    "In this case we will want to use the augmented data to improve the accuracy of the propensity model.  We can calculate the ATE:"
   ]
  },
  {
   "cell_type": "code",
   "execution_count": 9,
   "metadata": {},
   "outputs": [
    {
     "data": {
      "text/plain": [
       "0    1.726202\n",
       "1    4.682503\n",
       "dtype: float64"
      ]
     },
     "execution_count": 9,
     "metadata": {},
     "output_type": "execute_result"
    }
   ],
   "source": [
    "augmented_data = load_nhefs()\n",
    "X, a, y = augmented_data.X, augmented_data.a, augmented_data.y\n",
    "matcher = Matching(propensity_transform=propensity_transform)\n",
    "matcher.fit(X, a, y)\n",
    "matcher.estimate_population_outcome(X, a)"
   ]
  },
  {
   "cell_type": "markdown",
   "metadata": {},
   "source": [
    "We have also provided a convenience subclass `PropensityMatching` which makes this common task straightforward:"
   ]
  },
  {
   "cell_type": "code",
   "execution_count": 10,
   "metadata": {},
   "outputs": [
    {
     "data": {
      "text/plain": [
       "0    1.726202\n",
       "1    4.682503\n",
       "dtype: float64"
      ]
     },
     "execution_count": 10,
     "metadata": {},
     "output_type": "execute_result"
    }
   ],
   "source": [
    "from causallib.estimation import PropensityMatching\n",
    "\n",
    "pm = PropensityMatching(learner=LogisticRegression(\n",
    "    solver=\"liblinear\",\n",
    "    class_weight=\"balanced\"))\n",
    "pm.fit(X, a, y)\n",
    "pm.estimate_population_outcome(X, a)"
   ]
  },
  {
   "cell_type": "markdown",
   "metadata": {},
   "source": [
    "## Multiple neighbor match (with replacement)\n",
    "As long as we permit replacement, we can allow multiple neighbors to match. We now check how the number of neighbors impacts the ATE."
   ]
  },
  {
   "cell_type": "code",
   "execution_count": 11,
   "metadata": {},
   "outputs": [
    {
     "name": "stdout",
     "output_type": "stream",
     "text": [
      "Using 1 neighbors, the effect is: 2.956\n",
      "Using 2 neighbors, the effect is: 3.189\n",
      "Using 3 neighbors, the effect is: 3.242\n",
      "Using 4 neighbors, the effect is: 3.176\n",
      "Using 5 neighbors, the effect is: 3.211\n",
      "Using 6 neighbors, the effect is: 3.188\n",
      "Using 7 neighbors, the effect is: 3.141\n",
      "Using 8 neighbors, the effect is: 3.196\n",
      "Using 9 neighbors, the effect is: 3.219\n"
     ]
    }
   ],
   "source": [
    "for n in range(1, 10):\n",
    "    matcher.n_neighbors = n\n",
    "    matcher.fit(X, a, y)\n",
    "    Y = matcher.estimate_population_outcome(X, a)\n",
    "    print(f\"Using {n} neighbors, the effect is: {(Y[1] - Y[0]):.3f}\")"
   ]
  },
  {
   "cell_type": "markdown",
   "metadata": {},
   "source": [
    "## Replacement \n",
    "\n",
    "Until now, we have executed all of the matching with replacement, meaning that we can select the same treated sample as a match for multiple control samples or vice versa. If we want to only allow each sample to be used once, we must disallow replacement. \n",
    "\n",
    "If we mix in-sample and out-of-sample data, we would end up generating different estimated counterfactuals for a set of samples if they were checked all at once compared to if they were checked in subsets. Because of this, we have restricted no-replacement matching to operate on a single dataset only as a `PopulationOutcomeEstimator` called `Matching`."
   ]
  },
  {
   "cell_type": "code",
   "execution_count": 12,
   "metadata": {},
   "outputs": [],
   "source": [
    "matcher = Matching(with_replacement=True, propensity_transform=propensity_transform)\n",
    "matcher.fit(X, a, y)\n",
    "match_df_with = matcher.match(X, a)\n",
    "ATE_with_replacement = matcher.estimate_population_outcome(X, a).diff()[1]"
   ]
  },
  {
   "cell_type": "code",
   "execution_count": 13,
   "metadata": {},
   "outputs": [],
   "source": [
    "matcher = Matching(with_replacement=False, propensity_transform=propensity_transform)\n",
    "matcher.fit(X, a, y)\n",
    "match_df_without = matcher.match(X, a)\n",
    "ATE_without_replacement = matcher.estimate_population_outcome(X, a).diff()[1]"
   ]
  },
  {
   "cell_type": "code",
   "execution_count": 14,
   "metadata": {},
   "outputs": [
    {
     "name": "stdout",
     "output_type": "stream",
     "text": [
      "With replacement we find:\n",
      "2.956\n",
      "Without replacement we find:\n",
      "3.426\n"
     ]
    }
   ],
   "source": [
    "print(\n",
    "    f\"With replacement we find:\\n{ATE_with_replacement:.3f}\\nWithout replacement we find:\\n{ATE_without_replacement:.3f}\")"
   ]
  },
  {
   "cell_type": "code",
   "execution_count": 15,
   "metadata": {},
   "outputs": [
    {
     "name": "stdout",
     "output_type": "stream",
     "text": [
      "With IPW we find:\n",
      "3.490\n",
      "and the naive estimate is:\n",
      "2.541\n"
     ]
    }
   ],
   "source": [
    "ipw = IPW(LogisticRegression(solver=\"liblinear\"))\n",
    "ipw.fit(augmented_data.X, augmented_data.a)\n",
    "Yipw = ipw.estimate_population_outcome(\n",
    "    augmented_data.X, augmented_data.a, augmented_data.y)\n",
    "ATE_ipw = Yipw[1] - Yipw[0]\n",
    "ATE_naive = y[a == 1].mean() - y[a == 0].mean()\n",
    "\n",
    "print(\n",
    "    f\"With IPW we find:\\n{ATE_ipw:.3f}\\nand the naive estimate is:\\n{ATE_naive:.3f}\")"
   ]
  },
  {
   "cell_type": "markdown",
   "metadata": {},
   "source": [
    "## Caliper\n",
    "\n",
    "Often we want to impose a restriction on the proximity of examples so that we do not permit any match if there is more than a distance $\\kappa$ between the samples. We call this a \"caliper\" and we can see how it impacts the predicted effect here:"
   ]
  },
  {
   "cell_type": "code",
   "execution_count": 16,
   "metadata": {},
   "outputs": [],
   "source": [
    "caliper = np.logspace(-3, 0, 20)\n",
    "\n",
    "\n",
    "def check_caliper(c, with_replacement=True):\n",
    "    matcher = Matching(propensity_transform=propensity_transform,\n",
    "                       caliper=c, with_replacement=with_replacement)\n",
    "    matcher.fit(augmented_data.X, augmented_data.a, augmented_data.y)\n",
    "    Y = matcher.estimate_population_outcome(\n",
    "        augmented_data.X, augmented_data.a,)\n",
    "    p = matcher.samples_used_.sum() / len(augmented_data.y)\n",
    "    return p, (Y[1] - Y[0])\n",
    "\n",
    "\n",
    "p_with, ATE_with = zip(\n",
    "    *[check_caliper(c, with_replacement=True) for c in caliper])\n",
    "p_without, ATE_without = zip(\n",
    "    *[check_caliper(c, with_replacement=False) for c in caliper])"
   ]
  },
  {
   "cell_type": "code",
   "execution_count": 17,
   "metadata": {},
   "outputs": [
    {
     "data": {
      "image/png": "[encoded data removed]",
      "text/plain": [
       "<Figure size 1152x432 with 2 Axes>"
      ]
     },
     "metadata": {},
     "output_type": "display_data"
    }
   ],
   "source": [
    "with sb.axes_style(\"dark\") as s:\n",
    "    f, ax = plt.subplots(1, 2, figsize=(16, 6))\n",
    "\n",
    "    ax[0].semilogx(caliper, p_with, \"blue\", label=\"with replacement\")\n",
    "    ax[0].semilogx(caliper, p_without, \"purple\", label=\"no replacement\")\n",
    "    ax[0].set_ylabel(\"fraction of data matched \", color=\"blue\")\n",
    "    ax[0].legend()\n",
    "    ax[0].set_xlabel(\"caliper\")\n",
    "\n",
    "    ax[1].semilogx(caliper, ATE_with, \"green\",\n",
    "                   label=\"matching (with replacement)\")\n",
    "    ax[1].semilogx(caliper, ATE_without, \"orange\",\n",
    "                   label=\"matching (no replacement)\")\n",
    "    ax[1].set_ylabel(\"ATE\", color=\"green\")\n",
    "    ax[1].hlines(xmin=caliper.min(), xmax=caliper.max(),\n",
    "                 y=ATE_ipw, ls=\"--\", color=\"green\", label=\"ipw\")\n",
    "    ax[1].hlines(xmin=caliper.min(), xmax=caliper.max(),\n",
    "                 y=ATE_naive, ls=\":\", color=\"green\", label=\"naive\")\n",
    "    ax[1].legend(loc=4)\n",
    "    ax[1].set_xlabel(\"caliper\");"
   ]
  },
  {
   "cell_type": "markdown",
   "metadata": {},
   "source": [
    "# Intermediate results\n",
    "The `Matching` object implements `IndividualOutcomeEstimator`, specifically the `fit` and `estimate_individual_outcome` methods. Because matching has many uses, `Matching` also outputs a DataFrame of matches and a vector of weights. These can be used for filtering data before applying regression, for example, or for assessing the quality of the covariate balancing (as shown above)."
   ]
  },
  {
   "cell_type": "code",
   "execution_count": 18,
   "metadata": {},
   "outputs": [
    {
     "data": {
      "text/html": [
       "<div>\n",
       "<style scoped>\n",
       "    .dataframe tbody tr th:only-of-type {\n",
       "        vertical-align: middle;\n",
       "    }\n",
       "\n",
       "    .dataframe tbody tr th {\n",
       "        vertical-align: top;\n",
       "    }\n",
       "\n",
       "    .dataframe thead th {\n",
       "        text-align: right;\n",
       "    }\n",
       "</style>\n",
       "<table border=\"1\" class=\"dataframe\">\n",
       "  <thead>\n",
       "    <tr style=\"text-align: right;\">\n",
       "      <th></th>\n",
       "      <th></th>\n",
       "      <th>distances</th>\n",
       "      <th>matches</th>\n",
       "    </tr>\n",
       "    <tr>\n",
       "      <th>match_to_treatment</th>\n",
       "      <th>sample_id</th>\n",
       "      <th></th>\n",
       "      <th></th>\n",
       "    </tr>\n",
       "  </thead>\n",
       "  <tbody>\n",
       "    <tr>\n",
       "      <th rowspan=\"5\" valign=\"top\">1</th>\n",
       "      <th>0</th>\n",
       "      <td>[]</td>\n",
       "      <td>[]</td>\n",
       "    </tr>\n",
       "    <tr>\n",
       "      <th>1</th>\n",
       "      <td>[]</td>\n",
       "      <td>[]</td>\n",
       "    </tr>\n",
       "    <tr>\n",
       "      <th>2</th>\n",
       "      <td>[0.00020765596476873815]</td>\n",
       "      <td>[819]</td>\n",
       "    </tr>\n",
       "    <tr>\n",
       "      <th>3</th>\n",
       "      <td>[0.0001142785835505089]</td>\n",
       "      <td>[1564]</td>\n",
       "    </tr>\n",
       "    <tr>\n",
       "      <th>4</th>\n",
       "      <td>[6.015153572747067e-05]</td>\n",
       "      <td>[731]</td>\n",
       "    </tr>\n",
       "    <tr>\n",
       "      <th>...</th>\n",
       "      <th>...</th>\n",
       "      <td>...</td>\n",
       "      <td>...</td>\n",
       "    </tr>\n",
       "    <tr>\n",
       "      <th rowspan=\"5\" valign=\"top\">0</th>\n",
       "      <th>1623</th>\n",
       "      <td>[]</td>\n",
       "      <td>[]</td>\n",
       "    </tr>\n",
       "    <tr>\n",
       "      <th>1624</th>\n",
       "      <td>[]</td>\n",
       "      <td>[]</td>\n",
       "    </tr>\n",
       "    <tr>\n",
       "      <th>1625</th>\n",
       "      <td>[]</td>\n",
       "      <td>[]</td>\n",
       "    </tr>\n",
       "    <tr>\n",
       "      <th>1627</th>\n",
       "      <td>[0]</td>\n",
       "      <td>[1627]</td>\n",
       "    </tr>\n",
       "    <tr>\n",
       "      <th>1628</th>\n",
       "      <td>[2.757121594376688e-05]</td>\n",
       "      <td>[28]</td>\n",
       "    </tr>\n",
       "  </tbody>\n",
       "</table>\n",
       "<p>3132 rows × 2 columns</p>\n",
       "</div>"
      ],
      "text/plain": [
       "                                             distances matches\n",
       "match_to_treatment sample_id                                  \n",
       "1                  0                                []      []\n",
       "                   1                                []      []\n",
       "                   2          [0.00020765596476873815]   [819]\n",
       "                   3           [0.0001142785835505089]  [1564]\n",
       "                   4           [6.015153572747067e-05]   [731]\n",
       "...                                                ...     ...\n",
       "0                  1623                             []      []\n",
       "                   1624                             []      []\n",
       "                   1625                             []      []\n",
       "                   1627                            [0]  [1627]\n",
       "                   1628        [2.757121594376688e-05]    [28]\n",
       "\n",
       "[3132 rows x 2 columns]"
      ]
     },
     "execution_count": 18,
     "metadata": {},
     "output_type": "execute_result"
    }
   ],
   "source": [
    "matcher = Matching(with_replacement=False, propensity_transform=propensity_transform)\n",
    "matcher.fit(X, a, y)\n",
    "match_df = matcher.match(X, a)\n",
    "match_df"
   ]
  },
  {
   "cell_type": "markdown",
   "metadata": {},
   "source": [
    "The matching DataFrame can be understood in the following way: when sample `sample_id` searched for a match with treatment value `match_to_treatment` it found the samples indexed in `matches` which were located at distances according to the `distances` entry. If `matches` is empty it means `sample_id` had no match in treatment class `match_to_treatment`. This allows us to handle the case with multiple matches, as well as with uneven numbers of matches due to the caliper constraint:"
   ]
  },
  {
   "cell_type": "code",
   "execution_count": 19,
   "metadata": {},
   "outputs": [
    {
     "data": {
      "text/html": [
       "<div>\n",
       "<style scoped>\n",
       "    .dataframe tbody tr th:only-of-type {\n",
       "        vertical-align: middle;\n",
       "    }\n",
       "\n",
       "    .dataframe tbody tr th {\n",
       "        vertical-align: top;\n",
       "    }\n",
       "\n",
       "    .dataframe thead th {\n",
       "        text-align: right;\n",
       "    }\n",
       "</style>\n",
       "<table border=\"1\" class=\"dataframe\">\n",
       "  <thead>\n",
       "    <tr style=\"text-align: right;\">\n",
       "      <th></th>\n",
       "      <th></th>\n",
       "      <th>distances</th>\n",
       "      <th>matches</th>\n",
       "    </tr>\n",
       "    <tr>\n",
       "      <th>match_to_treatment</th>\n",
       "      <th>sample_id</th>\n",
       "      <th></th>\n",
       "      <th></th>\n",
       "    </tr>\n",
       "  </thead>\n",
       "  <tbody>\n",
       "    <tr>\n",
       "      <th rowspan=\"5\" valign=\"top\">0</th>\n",
       "      <th>0</th>\n",
       "      <td>[0]</td>\n",
       "      <td>[0]</td>\n",
       "    </tr>\n",
       "    <tr>\n",
       "      <th>1</th>\n",
       "      <td>[0]</td>\n",
       "      <td>[1]</td>\n",
       "    </tr>\n",
       "    <tr>\n",
       "      <th>2</th>\n",
       "      <td>[0]</td>\n",
       "      <td>[2]</td>\n",
       "    </tr>\n",
       "    <tr>\n",
       "      <th>3</th>\n",
       "      <td>[0]</td>\n",
       "      <td>[3]</td>\n",
       "    </tr>\n",
       "    <tr>\n",
       "      <th>4</th>\n",
       "      <td>[0]</td>\n",
       "      <td>[4]</td>\n",
       "    </tr>\n",
       "    <tr>\n",
       "      <th>...</th>\n",
       "      <th>...</th>\n",
       "      <td>...</td>\n",
       "      <td>...</td>\n",
       "    </tr>\n",
       "    <tr>\n",
       "      <th rowspan=\"5\" valign=\"top\">1</th>\n",
       "      <th>1623</th>\n",
       "      <td>[]</td>\n",
       "      <td>[]</td>\n",
       "    </tr>\n",
       "    <tr>\n",
       "      <th>1624</th>\n",
       "      <td>[]</td>\n",
       "      <td>[]</td>\n",
       "    </tr>\n",
       "    <tr>\n",
       "      <th>1625</th>\n",
       "      <td>[]</td>\n",
       "      <td>[]</td>\n",
       "    </tr>\n",
       "    <tr>\n",
       "      <th>1627</th>\n",
       "      <td>[0.0007702527722480701]</td>\n",
       "      <td>[1202]</td>\n",
       "    </tr>\n",
       "    <tr>\n",
       "      <th>1628</th>\n",
       "      <td>[0]</td>\n",
       "      <td>[1628]</td>\n",
       "    </tr>\n",
       "  </tbody>\n",
       "</table>\n",
       "<p>3132 rows × 2 columns</p>\n",
       "</div>"
      ],
      "text/plain": [
       "                                            distances matches\n",
       "match_to_treatment sample_id                                 \n",
       "0                  0                              [0]     [0]\n",
       "                   1                              [0]     [1]\n",
       "                   2                              [0]     [2]\n",
       "                   3                              [0]     [3]\n",
       "                   4                              [0]     [4]\n",
       "...                                               ...     ...\n",
       "1                  1623                            []      []\n",
       "                   1624                            []      []\n",
       "                   1625                            []      []\n",
       "                   1627       [0.0007702527722480701]  [1202]\n",
       "                   1628                           [0]  [1628]\n",
       "\n",
       "[3132 rows x 2 columns]"
      ]
     },
     "execution_count": 19,
     "metadata": {},
     "output_type": "execute_result"
    }
   ],
   "source": [
    "matcher = Matching(with_replacement=True, \n",
    "                   propensity_transform=propensity_transform, \n",
    "                   n_neighbors=3,\n",
    "                   caliper=0.001).fit(X, a, y)\n",
    "match_df_3 = matcher.match(X, a)\n",
    "match_df_3"
   ]
  },
  {
   "cell_type": "markdown",
   "metadata": {},
   "source": [
    "We can also output weights which can be useful for comparing with other methods or preparing the data for further processing:\n"
   ]
  },
  {
   "cell_type": "code",
   "execution_count": 20,
   "metadata": {},
   "outputs": [
    {
     "data": {
      "text/html": [
       "<div>\n",
       "<style scoped>\n",
       "    .dataframe tbody tr th:only-of-type {\n",
       "        vertical-align: middle;\n",
       "    }\n",
       "\n",
       "    .dataframe tbody tr th {\n",
       "        vertical-align: top;\n",
       "    }\n",
       "\n",
       "    .dataframe thead th {\n",
       "        text-align: right;\n",
       "    }\n",
       "</style>\n",
       "<table border=\"1\" class=\"dataframe\">\n",
       "  <thead>\n",
       "    <tr style=\"text-align: right;\">\n",
       "      <th></th>\n",
       "      <th>control_to_treatment</th>\n",
       "      <th>treatment_to_control</th>\n",
       "    </tr>\n",
       "  </thead>\n",
       "  <tbody>\n",
       "    <tr>\n",
       "      <th>0</th>\n",
       "      <td>0.0</td>\n",
       "      <td>0.0</td>\n",
       "    </tr>\n",
       "    <tr>\n",
       "      <th>1</th>\n",
       "      <td>0.0</td>\n",
       "      <td>0.0</td>\n",
       "    </tr>\n",
       "    <tr>\n",
       "      <th>2</th>\n",
       "      <td>1.0</td>\n",
       "      <td>1.0</td>\n",
       "    </tr>\n",
       "    <tr>\n",
       "      <th>3</th>\n",
       "      <td>1.0</td>\n",
       "      <td>1.0</td>\n",
       "    </tr>\n",
       "    <tr>\n",
       "      <th>4</th>\n",
       "      <td>1.0</td>\n",
       "      <td>1.0</td>\n",
       "    </tr>\n",
       "    <tr>\n",
       "      <th>...</th>\n",
       "      <td>...</td>\n",
       "      <td>...</td>\n",
       "    </tr>\n",
       "    <tr>\n",
       "      <th>1623</th>\n",
       "      <td>0.0</td>\n",
       "      <td>0.0</td>\n",
       "    </tr>\n",
       "    <tr>\n",
       "      <th>1624</th>\n",
       "      <td>0.0</td>\n",
       "      <td>0.0</td>\n",
       "    </tr>\n",
       "    <tr>\n",
       "      <th>1625</th>\n",
       "      <td>0.0</td>\n",
       "      <td>0.0</td>\n",
       "    </tr>\n",
       "    <tr>\n",
       "      <th>1627</th>\n",
       "      <td>1.0</td>\n",
       "      <td>1.0</td>\n",
       "    </tr>\n",
       "    <tr>\n",
       "      <th>1628</th>\n",
       "      <td>1.0</td>\n",
       "      <td>1.0</td>\n",
       "    </tr>\n",
       "  </tbody>\n",
       "</table>\n",
       "<p>1566 rows × 2 columns</p>\n",
       "</div>"
      ],
      "text/plain": [
       "      control_to_treatment  treatment_to_control\n",
       "0                      0.0                   0.0\n",
       "1                      0.0                   0.0\n",
       "2                      1.0                   1.0\n",
       "3                      1.0                   1.0\n",
       "4                      1.0                   1.0\n",
       "...                    ...                   ...\n",
       "1623                   0.0                   0.0\n",
       "1624                   0.0                   0.0\n",
       "1625                   0.0                   0.0\n",
       "1627                   1.0                   1.0\n",
       "1628                   1.0                   1.0\n",
       "\n",
       "[1566 rows x 2 columns]"
      ]
     },
     "execution_count": 20,
     "metadata": {},
     "output_type": "execute_result"
    }
   ],
   "source": [
    "weights_df = matcher.matches_to_weights(match_df)\n",
    "weights_df"
   ]
  },
  {
   "cell_type": "markdown",
   "metadata": {},
   "source": [
    "We distinguish between matching from 0 to 1 and from 1 to 0 because in general they are distinct processes which can have different weights. For the case with no replacement the two columns are identical and always only 1 or 0. We see this when we examine the weights obtained with replacement, caliper and 3 neighbors."
   ]
  },
  {
   "cell_type": "code",
   "execution_count": 21,
   "metadata": {},
   "outputs": [
    {
     "data": {
      "text/html": [
       "<div>\n",
       "<style scoped>\n",
       "    .dataframe tbody tr th:only-of-type {\n",
       "        vertical-align: middle;\n",
       "    }\n",
       "\n",
       "    .dataframe tbody tr th {\n",
       "        vertical-align: top;\n",
       "    }\n",
       "\n",
       "    .dataframe thead th {\n",
       "        text-align: right;\n",
       "    }\n",
       "</style>\n",
       "<table border=\"1\" class=\"dataframe\">\n",
       "  <thead>\n",
       "    <tr style=\"text-align: right;\">\n",
       "      <th></th>\n",
       "      <th>control_to_treatment</th>\n",
       "      <th>treatment_to_control</th>\n",
       "    </tr>\n",
       "  </thead>\n",
       "  <tbody>\n",
       "    <tr>\n",
       "      <th>0</th>\n",
       "      <td>0.0</td>\n",
       "      <td>0.000000</td>\n",
       "    </tr>\n",
       "    <tr>\n",
       "      <th>1</th>\n",
       "      <td>1.0</td>\n",
       "      <td>0.333333</td>\n",
       "    </tr>\n",
       "    <tr>\n",
       "      <th>2</th>\n",
       "      <td>1.0</td>\n",
       "      <td>0.500000</td>\n",
       "    </tr>\n",
       "    <tr>\n",
       "      <th>3</th>\n",
       "      <td>1.0</td>\n",
       "      <td>1.000000</td>\n",
       "    </tr>\n",
       "    <tr>\n",
       "      <th>4</th>\n",
       "      <td>1.0</td>\n",
       "      <td>1.000000</td>\n",
       "    </tr>\n",
       "    <tr>\n",
       "      <th>...</th>\n",
       "      <td>...</td>\n",
       "      <td>...</td>\n",
       "    </tr>\n",
       "    <tr>\n",
       "      <th>1623</th>\n",
       "      <td>0.0</td>\n",
       "      <td>0.000000</td>\n",
       "    </tr>\n",
       "    <tr>\n",
       "      <th>1624</th>\n",
       "      <td>0.0</td>\n",
       "      <td>0.000000</td>\n",
       "    </tr>\n",
       "    <tr>\n",
       "      <th>1625</th>\n",
       "      <td>0.0</td>\n",
       "      <td>0.000000</td>\n",
       "    </tr>\n",
       "    <tr>\n",
       "      <th>1627</th>\n",
       "      <td>1.0</td>\n",
       "      <td>0.500000</td>\n",
       "    </tr>\n",
       "    <tr>\n",
       "      <th>1628</th>\n",
       "      <td>4.0</td>\n",
       "      <td>1.000000</td>\n",
       "    </tr>\n",
       "  </tbody>\n",
       "</table>\n",
       "<p>1566 rows × 2 columns</p>\n",
       "</div>"
      ],
      "text/plain": [
       "      control_to_treatment  treatment_to_control\n",
       "0                      0.0              0.000000\n",
       "1                      1.0              0.333333\n",
       "2                      1.0              0.500000\n",
       "3                      1.0              1.000000\n",
       "4                      1.0              1.000000\n",
       "...                    ...                   ...\n",
       "1623                   0.0              0.000000\n",
       "1624                   0.0              0.000000\n",
       "1625                   0.0              0.000000\n",
       "1627                   1.0              0.500000\n",
       "1628                   4.0              1.000000\n",
       "\n",
       "[1566 rows x 2 columns]"
      ]
     },
     "execution_count": 21,
     "metadata": {},
     "output_type": "execute_result"
    }
   ],
   "source": [
    "weights_df_3 = matcher.matches_to_weights(match_df_3)\n",
    "weights_df_3"
   ]
  },
  {
   "cell_type": "markdown",
   "metadata": {},
   "source": [
    "The columns no longer match because a given treatment sample may be selected multiple times when matched from the set of control samples. Each selection increases its weight. However, if it is one of $n$ chosen samples it is only increased by $1/n$. "
   ]
  },
  {
   "cell_type": "markdown",
   "metadata": {},
   "source": [
    "## Compare Covariate Balancing with IPW\n",
    "Using the weights we can compare how well the matching algorithm balances the covariate distributions, compared to IPW. Even though IPW is a population effect estimator and matching is an individual outcome estimator, their results can both be expressed as weights and compared using `calculate_covariate_balance`."
   ]
  },
  {
   "cell_type": "code",
   "execution_count": 22,
   "metadata": {},
   "outputs": [],
   "source": [
    "ipw = IPW(LogisticRegression(solver=\"liblinear\"))\n",
    "ipw.fit(X, a)\n",
    "ipw_binarized_weights = ipw.compute_weights(X, a)"
   ]
  },
  {
   "cell_type": "code",
   "execution_count": 23,
   "metadata": {},
   "outputs": [
    {
     "data": {
      "text/html": [
       "<div>\n",
       "<style scoped>\n",
       "    .dataframe tbody tr th:only-of-type {\n",
       "        vertical-align: middle;\n",
       "    }\n",
       "\n",
       "    .dataframe tbody tr th {\n",
       "        vertical-align: top;\n",
       "    }\n",
       "\n",
       "    .dataframe thead th {\n",
       "        text-align: right;\n",
       "    }\n",
       "</style>\n",
       "<table border=\"1\" class=\"dataframe\">\n",
       "  <thead>\n",
       "    <tr style=\"text-align: right;\">\n",
       "      <th></th>\n",
       "      <th>match_control_to_treatment</th>\n",
       "      <th>match_treatment_to_control</th>\n",
       "      <th>ipw_binarized</th>\n",
       "      <th>match_both</th>\n",
       "      <th>unweighted</th>\n",
       "    </tr>\n",
       "    <tr>\n",
       "      <th>covariate</th>\n",
       "      <th></th>\n",
       "      <th></th>\n",
       "      <th></th>\n",
       "      <th></th>\n",
       "      <th></th>\n",
       "    </tr>\n",
       "  </thead>\n",
       "  <tbody>\n",
       "    <tr>\n",
       "      <th>age</th>\n",
       "      <td>0.006342</td>\n",
       "      <td>0.041015</td>\n",
       "      <td>0.020927</td>\n",
       "      <td>0.015400</td>\n",
       "      <td>0.199560</td>\n",
       "    </tr>\n",
       "    <tr>\n",
       "      <th>race</th>\n",
       "      <td>0.025248</td>\n",
       "      <td>0.076893</td>\n",
       "      <td>0.076369</td>\n",
       "      <td>0.001435</td>\n",
       "      <td>0.125194</td>\n",
       "    </tr>\n",
       "    <tr>\n",
       "      <th>sex</th>\n",
       "      <td>0.057555</td>\n",
       "      <td>0.000000</td>\n",
       "      <td>0.035016</td>\n",
       "      <td>0.042519</td>\n",
       "      <td>0.113323</td>\n",
       "    </tr>\n",
       "    <tr>\n",
       "      <th>smokeintensity</th>\n",
       "      <td>0.073808</td>\n",
       "      <td>0.013738</td>\n",
       "      <td>0.012758</td>\n",
       "      <td>0.050938</td>\n",
       "      <td>0.153345</td>\n",
       "    </tr>\n",
       "    <tr>\n",
       "      <th>smokeyrs</th>\n",
       "      <td>0.021422</td>\n",
       "      <td>0.043703</td>\n",
       "      <td>0.008709</td>\n",
       "      <td>0.027242</td>\n",
       "      <td>0.112470</td>\n",
       "    </tr>\n",
       "    <tr>\n",
       "      <th>wt71</th>\n",
       "      <td>0.102190</td>\n",
       "      <td>0.005927</td>\n",
       "      <td>0.014270</td>\n",
       "      <td>0.073946</td>\n",
       "      <td>0.094278</td>\n",
       "    </tr>\n",
       "    <tr>\n",
       "      <th>active_1</th>\n",
       "      <td>0.051302</td>\n",
       "      <td>0.084923</td>\n",
       "      <td>0.024493</td>\n",
       "      <td>0.060085</td>\n",
       "      <td>0.018961</td>\n",
       "    </tr>\n",
       "    <tr>\n",
       "      <th>active_2</th>\n",
       "      <td>0.033199</td>\n",
       "      <td>0.011735</td>\n",
       "      <td>0.014842</td>\n",
       "      <td>0.027592</td>\n",
       "      <td>0.052327</td>\n",
       "    </tr>\n",
       "    <tr>\n",
       "      <th>education_2</th>\n",
       "      <td>0.009262</td>\n",
       "      <td>0.017462</td>\n",
       "      <td>0.000102</td>\n",
       "      <td>0.011404</td>\n",
       "      <td>0.078944</td>\n",
       "    </tr>\n",
       "    <tr>\n",
       "      <th>education_3</th>\n",
       "      <td>0.027996</td>\n",
       "      <td>0.035987</td>\n",
       "      <td>0.004127</td>\n",
       "      <td>0.011281</td>\n",
       "      <td>0.033404</td>\n",
       "    </tr>\n",
       "    <tr>\n",
       "      <th>education_4</th>\n",
       "      <td>0.073158</td>\n",
       "      <td>0.026695</td>\n",
       "      <td>0.004043</td>\n",
       "      <td>0.061020</td>\n",
       "      <td>0.019122</td>\n",
       "    </tr>\n",
       "    <tr>\n",
       "      <th>education_5</th>\n",
       "      <td>0.037663</td>\n",
       "      <td>0.053254</td>\n",
       "      <td>0.034035</td>\n",
       "      <td>0.013912</td>\n",
       "      <td>0.117375</td>\n",
       "    </tr>\n",
       "    <tr>\n",
       "      <th>exercise_1</th>\n",
       "      <td>0.085742</td>\n",
       "      <td>0.035658</td>\n",
       "      <td>0.036494</td>\n",
       "      <td>0.054028</td>\n",
       "      <td>0.028168</td>\n",
       "    </tr>\n",
       "    <tr>\n",
       "      <th>exercise_2</th>\n",
       "      <td>0.109835</td>\n",
       "      <td>0.046952</td>\n",
       "      <td>0.015496</td>\n",
       "      <td>0.068876</td>\n",
       "      <td>0.040199</td>\n",
       "    </tr>\n",
       "    <tr>\n",
       "      <th>age^2</th>\n",
       "      <td>0.002932</td>\n",
       "      <td>0.045464</td>\n",
       "      <td>0.016714</td>\n",
       "      <td>0.014043</td>\n",
       "      <td>0.199300</td>\n",
       "    </tr>\n",
       "    <tr>\n",
       "      <th>wt71^2</th>\n",
       "      <td>0.094600</td>\n",
       "      <td>0.006909</td>\n",
       "      <td>0.007329</td>\n",
       "      <td>0.071692</td>\n",
       "      <td>0.090050</td>\n",
       "    </tr>\n",
       "    <tr>\n",
       "      <th>smokeintensity^2</th>\n",
       "      <td>0.074535</td>\n",
       "      <td>0.010393</td>\n",
       "      <td>0.013150</td>\n",
       "      <td>0.052349</td>\n",
       "      <td>0.091221</td>\n",
       "    </tr>\n",
       "    <tr>\n",
       "      <th>smokeyrs^2</th>\n",
       "      <td>0.013892</td>\n",
       "      <td>0.044506</td>\n",
       "      <td>0.008975</td>\n",
       "      <td>0.021890</td>\n",
       "      <td>0.126614</td>\n",
       "    </tr>\n",
       "  </tbody>\n",
       "</table>\n",
       "</div>"
      ],
      "text/plain": [
       "                  match_control_to_treatment  match_treatment_to_control  \\\n",
       "covariate                                                                  \n",
       "age                                 0.006342                    0.041015   \n",
       "race                                0.025248                    0.076893   \n",
       "sex                                 0.057555                    0.000000   \n",
       "smokeintensity                      0.073808                    0.013738   \n",
       "smokeyrs                            0.021422                    0.043703   \n",
       "wt71                                0.102190                    0.005927   \n",
       "active_1                            0.051302                    0.084923   \n",
       "active_2                            0.033199                    0.011735   \n",
       "education_2                         0.009262                    0.017462   \n",
       "education_3                         0.027996                    0.035987   \n",
       "education_4                         0.073158                    0.026695   \n",
       "education_5                         0.037663                    0.053254   \n",
       "exercise_1                          0.085742                    0.035658   \n",
       "exercise_2                          0.109835                    0.046952   \n",
       "age^2                               0.002932                    0.045464   \n",
       "wt71^2                              0.094600                    0.006909   \n",
       "smokeintensity^2                    0.074535                    0.010393   \n",
       "smokeyrs^2                          0.013892                    0.044506   \n",
       "\n",
       "                  ipw_binarized  match_both  unweighted  \n",
       "covariate                                                \n",
       "age                    0.020927    0.015400    0.199560  \n",
       "race                   0.076369    0.001435    0.125194  \n",
       "sex                    0.035016    0.042519    0.113323  \n",
       "smokeintensity         0.012758    0.050938    0.153345  \n",
       "smokeyrs               0.008709    0.027242    0.112470  \n",
       "wt71                   0.014270    0.073946    0.094278  \n",
       "active_1               0.024493    0.060085    0.018961  \n",
       "active_2               0.014842    0.027592    0.052327  \n",
       "education_2            0.000102    0.011404    0.078944  \n",
       "education_3            0.004127    0.011281    0.033404  \n",
       "education_4            0.004043    0.061020    0.019122  \n",
       "education_5            0.034035    0.013912    0.117375  \n",
       "exercise_1             0.036494    0.054028    0.028168  \n",
       "exercise_2             0.015496    0.068876    0.040199  \n",
       "age^2                  0.016714    0.014043    0.199300  \n",
       "wt71^2                 0.007329    0.071692    0.090050  \n",
       "smokeintensity^2       0.013150    0.052349    0.091221  \n",
       "smokeyrs^2             0.008975    0.021890    0.126614  "
      ]
     },
     "execution_count": 23,
     "metadata": {},
     "output_type": "execute_result"
    }
   ],
   "source": [
    "matcher = Matching(with_replacement=True, \n",
    "                   propensity_transform=propensity_transform, \n",
    "                   caliper=0.01).fit(X, a, y)\n",
    "match_df = matcher.match(X, a)\n",
    "weights_df = matcher.matches_to_weights(match_df)\n",
    "covbal = {}\n",
    "covbal[\"match_control_to_treatment\"] = calculate_covariate_balance(\n",
    "    X, a, w=weights_df.control_to_treatment)\n",
    "covbal[\"match_treatment_to_control\"] = calculate_covariate_balance(\n",
    "    X, a, w=weights_df.treatment_to_control)\n",
    "covbal[\"ipw_binarized\"] = calculate_covariate_balance(\n",
    "    X, a, w=ipw_binarized_weights)\n",
    "covbal[\"match_both\"] = calculate_covariate_balance(\n",
    "    X, a, w=weights_df.sum(axis=1))\n",
    "\n",
    "\n",
    "for k in covbal:\n",
    "    covbal[k] = covbal[k].drop(\n",
    "        columns=\"unweighted\") if not \"both\" in k else covbal[k]\n",
    "\n",
    "covbal_df = pd.concat(covbal, axis=1)\n",
    "covbal_df.columns = list(covbal.keys()) + [\"unweighted\"]\n",
    "covbal_df"
   ]
  },
  {
   "cell_type": "code",
   "execution_count": 24,
   "metadata": {},
   "outputs": [
    {
     "data": {
      "image/png": "[encoded data removed]",
      "text/plain": [
       "<Figure size 576x432 with 1 Axes>"
      ]
     },
     "metadata": {},
     "output_type": "display_data"
    }
   ],
   "source": [
    "import matplotlib.pyplot as plt\n",
    "import seaborn as sb\n",
    "sb.set(\"notebook\")\n",
    "f, axes = plt.subplots(figsize=(8, 6))\n",
    "sb.violinplot(data=covbal_df, ax=axes, cut=0)\n",
    "axes.set_xticklabels(axes.get_xticklabels(), rotation=90);"
   ]
  },
  {
   "cell_type": "code",
   "execution_count": 25,
   "metadata": {},
   "outputs": [
    {
     "data": {
      "image/png": "[encoded data removed]",
      "text/plain": [
       "<Figure size 432x288 with 2 Axes>"
      ]
     },
     "metadata": {},
     "output_type": "display_data"
    }
   ],
   "source": [
    "sb.heatmap(data=covbal_df);"
   ]
  },
  {
   "cell_type": "markdown",
   "metadata": {},
   "source": [
    "Comparing the results of the IPW weights and the matching weights, we see that while both lead to substantially better weighted covariates, the IPW does a better job in general. In the Lalonde matching notebook, we will show how matching and IPW an be used together to obtain even better covariate distribution balancing."
   ]
  }
 ],
 "metadata": {
  "kernelspec": {
   "display_name": "Python 3.8.10 ('causal')",
   "language": "python",
   "name": "python3"
  },
  "language_info": {
   "codemirror_mode": {
    "name": "ipython",
    "version": 3
   },
   "file_extension": ".py",
   "mimetype": "text/x-python",
   "name": "python",
   "nbconvert_exporter": "python",
   "pygments_lexer": "ipython3",
   "version": "3.8.10"
  },
  "vscode": {
   "interpreter": {
    "hash": "69f88c614e1e3c90b1e7d1bcdbafb917f9042edfca4477b05464240f7cf41bf5"
   }
  }
 },
 "nbformat": 4,
 "nbformat_minor": 4
}

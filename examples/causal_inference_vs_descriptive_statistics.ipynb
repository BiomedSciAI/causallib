{
 "cells": [
  {
   "cell_type": "markdown",
   "metadata": {},
   "source": [
    "# Why Causal Analysis is Needed\n",
    "In this example we will perform a quick causal analysis to estimate the _causal effect_ of smoking cessation on weight gain over a period of a decade.   \n",
    "We will compare these results to the _observed effect_, arising from simple descriptive statistics.  \n",
    "We'll then dig deeper into the data and see why such discrepancies arise."
   ]
  },
  {
   "cell_type": "markdown",
   "metadata": {},
   "source": [
    "## The Data\n",
    "We will use data from an NHEFS observational study. \n",
    "The NHANS (National Health and Nutrition Examionation Survey) Epidemiologic Followup Study (NHEFS) is a national longitudinal study that was jointly initiated by the American National Center for Health Statistics and the American National Institute on Aging. \n",
    "The study was designed to follow up on smokers, some of whom quit smoking, and record their weight (among other measurements) for a period of 11 years: from 1971 to 1982.  \n",
    "More information about the data can be found in the [NHEFS Notebook](/notebooks/nhefs.ipynb)"
   ]
  },
  {
   "cell_type": "code",
   "execution_count": 1,
   "metadata": {},
   "outputs": [
    {
     "data": {
      "text/html": [
       "<div>\n",
       "<style scoped>\n",
       "    .dataframe tbody tr th:only-of-type {\n",
       "        vertical-align: middle;\n",
       "    }\n",
       "\n",
       "    .dataframe tbody tr th {\n",
       "        vertical-align: top;\n",
       "    }\n",
       "\n",
       "    .dataframe thead th {\n",
       "        text-align: right;\n",
       "    }\n",
       "</style>\n",
       "<table border=\"1\" class=\"dataframe\">\n",
       "  <thead>\n",
       "    <tr style=\"text-align: right;\">\n",
       "      <th></th>\n",
       "      <th>age</th>\n",
       "      <th>race</th>\n",
       "      <th>sex</th>\n",
       "      <th>smokeintensity</th>\n",
       "      <th>smokeyrs</th>\n",
       "      <th>wt71</th>\n",
       "      <th>active_1</th>\n",
       "      <th>active_2</th>\n",
       "      <th>education_2</th>\n",
       "      <th>education_3</th>\n",
       "      <th>education_4</th>\n",
       "      <th>education_5</th>\n",
       "      <th>exercise_1</th>\n",
       "      <th>exercise_2</th>\n",
       "      <th>age^2</th>\n",
       "      <th>wt71^2</th>\n",
       "      <th>smokeintensity^2</th>\n",
       "      <th>smokeyrs^2</th>\n",
       "      <th>qsmk</th>\n",
       "      <th>wt82_71</th>\n",
       "    </tr>\n",
       "  </thead>\n",
       "  <tbody>\n",
       "    <tr>\n",
       "      <th>0</th>\n",
       "      <td>42</td>\n",
       "      <td>1</td>\n",
       "      <td>0</td>\n",
       "      <td>30</td>\n",
       "      <td>29</td>\n",
       "      <td>79.04</td>\n",
       "      <td>0</td>\n",
       "      <td>0</td>\n",
       "      <td>0</td>\n",
       "      <td>0</td>\n",
       "      <td>0</td>\n",
       "      <td>0</td>\n",
       "      <td>0</td>\n",
       "      <td>1</td>\n",
       "      <td>1764</td>\n",
       "      <td>6247.3216</td>\n",
       "      <td>900</td>\n",
       "      <td>841</td>\n",
       "      <td>0</td>\n",
       "      <td>-10.093960</td>\n",
       "    </tr>\n",
       "    <tr>\n",
       "      <th>1</th>\n",
       "      <td>36</td>\n",
       "      <td>0</td>\n",
       "      <td>0</td>\n",
       "      <td>20</td>\n",
       "      <td>24</td>\n",
       "      <td>58.63</td>\n",
       "      <td>0</td>\n",
       "      <td>0</td>\n",
       "      <td>1</td>\n",
       "      <td>0</td>\n",
       "      <td>0</td>\n",
       "      <td>0</td>\n",
       "      <td>0</td>\n",
       "      <td>0</td>\n",
       "      <td>1296</td>\n",
       "      <td>3437.4769</td>\n",
       "      <td>400</td>\n",
       "      <td>576</td>\n",
       "      <td>0</td>\n",
       "      <td>2.604970</td>\n",
       "    </tr>\n",
       "    <tr>\n",
       "      <th>2</th>\n",
       "      <td>56</td>\n",
       "      <td>1</td>\n",
       "      <td>1</td>\n",
       "      <td>20</td>\n",
       "      <td>26</td>\n",
       "      <td>56.81</td>\n",
       "      <td>0</td>\n",
       "      <td>0</td>\n",
       "      <td>1</td>\n",
       "      <td>0</td>\n",
       "      <td>0</td>\n",
       "      <td>0</td>\n",
       "      <td>0</td>\n",
       "      <td>1</td>\n",
       "      <td>3136</td>\n",
       "      <td>3227.3761</td>\n",
       "      <td>400</td>\n",
       "      <td>676</td>\n",
       "      <td>0</td>\n",
       "      <td>9.414486</td>\n",
       "    </tr>\n",
       "    <tr>\n",
       "      <th>3</th>\n",
       "      <td>68</td>\n",
       "      <td>1</td>\n",
       "      <td>0</td>\n",
       "      <td>3</td>\n",
       "      <td>53</td>\n",
       "      <td>59.42</td>\n",
       "      <td>1</td>\n",
       "      <td>0</td>\n",
       "      <td>0</td>\n",
       "      <td>0</td>\n",
       "      <td>0</td>\n",
       "      <td>0</td>\n",
       "      <td>0</td>\n",
       "      <td>1</td>\n",
       "      <td>4624</td>\n",
       "      <td>3530.7364</td>\n",
       "      <td>9</td>\n",
       "      <td>2809</td>\n",
       "      <td>0</td>\n",
       "      <td>4.990117</td>\n",
       "    </tr>\n",
       "    <tr>\n",
       "      <th>4</th>\n",
       "      <td>40</td>\n",
       "      <td>0</td>\n",
       "      <td>0</td>\n",
       "      <td>20</td>\n",
       "      <td>19</td>\n",
       "      <td>87.09</td>\n",
       "      <td>1</td>\n",
       "      <td>0</td>\n",
       "      <td>1</td>\n",
       "      <td>0</td>\n",
       "      <td>0</td>\n",
       "      <td>0</td>\n",
       "      <td>1</td>\n",
       "      <td>0</td>\n",
       "      <td>1600</td>\n",
       "      <td>7584.6681</td>\n",
       "      <td>400</td>\n",
       "      <td>361</td>\n",
       "      <td>0</td>\n",
       "      <td>4.989251</td>\n",
       "    </tr>\n",
       "  </tbody>\n",
       "</table>\n",
       "</div>"
      ],
      "text/plain": [
       "   age  race  sex  smokeintensity  smokeyrs   wt71  active_1  active_2  \\\n",
       "0   42     1    0              30        29  79.04         0         0   \n",
       "1   36     0    0              20        24  58.63         0         0   \n",
       "2   56     1    1              20        26  56.81         0         0   \n",
       "3   68     1    0               3        53  59.42         1         0   \n",
       "4   40     0    0              20        19  87.09         1         0   \n",
       "\n",
       "   education_2  education_3  education_4  education_5  exercise_1  exercise_2  \\\n",
       "0            0            0            0            0           0           1   \n",
       "1            1            0            0            0           0           0   \n",
       "2            1            0            0            0           0           1   \n",
       "3            0            0            0            0           0           1   \n",
       "4            1            0            0            0           1           0   \n",
       "\n",
       "   age^2     wt71^2  smokeintensity^2  smokeyrs^2  qsmk    wt82_71  \n",
       "0   1764  6247.3216               900         841     0 -10.093960  \n",
       "1   1296  3437.4769               400         576     0   2.604970  \n",
       "2   3136  3227.3761               400         676     0   9.414486  \n",
       "3   4624  3530.7364                 9        2809     0   4.990117  \n",
       "4   1600  7584.6681               400         361     0   4.989251  "
      ]
     },
     "execution_count": 1,
     "metadata": {},
     "output_type": "execute_result"
    }
   ],
   "source": [
    "from causallib.datasets import load_nhefs\n",
    "\n",
    "data = load_nhefs()\n",
    "data.X.join(data.a).join(data.y).head()"
   ]
  },
  {
   "cell_type": "markdown",
   "metadata": {},
   "source": [
    "The data is already divided into three components: \n",
    " * `X`: the confounders needed to be controlled for:\n",
    "   * Demographics: such as `age`, `race`, `sex` and `education` level (how many years of schools).\n",
    "   * Smoking habits: how many years an individual has been smoking (`smokeyrs`) and how many cigarettes per day (`smokeintensity`).\n",
    "   * Well-being habits: how much active a participant is daily (`active`) and how much exercise they do in recreation (`exercise`).\n",
    "   * Weight at the start of the study (`wt71`).\n",
    " * `a`: the treatment assignment - whether an individual had quit smoking or not.\n",
    " * `y`: the outcome - how much weight the individual gained during the follow up period of a decade."
   ]
  },
  {
   "cell_type": "markdown",
   "metadata": {},
   "source": [
    "## Estimating Causal Effect\n",
    "### The Causal Model\n",
    "For this demosntation, we will follow the most simple and well known causal model: _Inverse Probability of Treatment Weighting_ (also known as IPTW or IPW).  \n",
    "This model requires estimating the propensity of each participant to stop smoking based on their individual features.   \n",
    "Modeling this $\\Pr[A=1|X]$ requires a machine learning model.  \n",
    "`causallib` allows users to plug in any arbitrary ML model they want. \n",
    "For the sake of simplicity, we will use a logistic regression model."
   ]
  },
  {
   "cell_type": "code",
   "execution_count": 2,
   "metadata": {},
   "outputs": [],
   "source": [
    "from causallib.estimation import IPW\n",
    "from sklearn.linear_model import LogisticRegression\n",
    "\n",
    "learner = LogisticRegression(penalty='none',  # No regularization, new in scikit-learn 0.21.*\n",
    "                             solver='lbfgs',\n",
    "                             max_iter=500)    # Increased to achieve convergence with 'lbfgs' solver\n",
    "ipw = IPW(learner)"
   ]
  },
  {
   "cell_type": "markdown",
   "metadata": {},
   "source": [
    "### Applying Causal Analysis\n",
    "Once we defined the causal model, we can move on to calculate the potential outcomes and the effect"
   ]
  },
  {
   "cell_type": "code",
   "execution_count": 3,
   "metadata": {},
   "outputs": [
    {
     "data": {
      "text/plain": [
       "3.518555013088421"
      ]
     },
     "execution_count": 3,
     "metadata": {},
     "output_type": "execute_result"
    }
   ],
   "source": [
    "ipw.fit(data.X, data.a)\n",
    "potential_outcomes = ipw.estimate_population_outcome(data.X, data.a, data.y)\n",
    "causal_effect = potential_outcomes[1] - potential_outcomes[0]\n",
    "causal_effect"
   ]
  },
  {
   "cell_type": "markdown",
   "metadata": {},
   "source": [
    "Our causal analysis concluded that, on average, smoking cessation contributed 3.5 kg (7.7 lbs) to the weight gain of people over a period of a decade.  \n",
    "Put differently, had **all** the participants stoped smoking, they would have weighed 3.5 kg more than if **all** participants had continued to smoke."
   ]
  },
  {
   "cell_type": "markdown",
   "metadata": {},
   "source": [
    "## Estimating Observed Effect\n",
    "Say you are tasked with estimating how much smoking cessation contributes to weight gain but you are not familiar with causal analysis.  \n",
    "On the face of it, it might sound simple. You simply measure the weight-gain in the people who continued smoking, you measure the weight gain in people who quit, and compare the two quantities to see how much the people who quit gained more (or less) than the people who persisted.  \n",
    "Basically you measure $\\mathbb{E}[Y|A=1] - \\mathbb{E}[Y|A=0]$"
   ]
  },
  {
   "cell_type": "code",
   "execution_count": 4,
   "metadata": {},
   "outputs": [
    {
     "data": {
      "text/plain": [
       "2.540581454955886"
      ]
     },
     "execution_count": 4,
     "metadata": {},
     "output_type": "execute_result"
    }
   ],
   "source": [
    "observed_outcomes = data.y.groupby(data.a).mean()\n",
    "observed_effect = observed_outcomes[1] - observed_outcomes[0]\n",
    "observed_effect"
   ]
  },
  {
   "cell_type": "markdown",
   "metadata": {},
   "source": [
    "So if you were to avoid causal analysis, you would estimate that smoking cessation contributes only 2.5 kg (5.5 lbs) to the weight gain, as opposed to the 3.5 kg we calculated above. This is an under-estimation of close to 30 (!) percent.  \n",
    "What can cause such a discrepancy between the descriptive-statistics calculation and the causal-based estimation?"
   ]
  },
  {
   "cell_type": "markdown",
   "metadata": {},
   "source": [
    "## Analysis of the difference between causal and observed effect\n",
    "We saw that the observed difference due to smoking cessation is 2.5 kg, while the causal inference analysis suggested it is closer to 3.5.  \n",
    "Causal analysis, in its essence, tries to balance between the treatment and control groups before calculating the difference.  \n",
    "Weight gain can be caused by many factors. \n",
    "For example, males tend to be larger than females on average, and they gain more weight on average. What if most of the people who quit smoking were female? That would bring down the observed effect.\n",
    "Our observed analysis didn't account for the different distributions of such features between the treatment groups, and therefore the observed effect is _confounded_ and most likely \"contaminated\" with _spuriuous correlations_. \n",
    "Only when controlling for such correlations and eliminating their effect, we can claim that the differences in weight gain are truly only due to the status of smoking.\n",
    "\n",
    "What the observed difference indicates is only that people who **chose** to quit smoking were observed to gain 2.5 Kg more than people who **chose** not to quit smoking. \n",
    "\n",
    "To get a clue of how the distribution differ between the treated and the controls, we can calculate the difference in means between groups for each variables. \n",
    "We visualize these differences in a plot called Love plot (named after Dr. Thomas Love)."
   ]
  },
  {
   "cell_type": "code",
   "execution_count": 5,
   "metadata": {},
   "outputs": [],
   "source": [
    "from causallib.evaluation import PropensityEvaluator\n",
    "\n",
    "evaluator = PropensityEvaluator(ipw)\n",
    "evaluations = evaluator.evaluate_simple(data.X, data.a, data.y, \n",
    "                                        plots=[\"covariate_balance_love\"],\n",
    "                                        metrics_to_evaluate={})\n",
    "\n",
    "fig = evaluations.plots[\"covariate_balance_love\"].get_figure()\n",
    "fig.set_size_inches(6, 6);  # set a more compact size than default"
   ]
  },
  {
   "cell_type": "markdown",
   "metadata": {},
   "source": [
    "The orange triangles show the differences in averages between for each covariates _before_ applying balancing.  \n",
    "We see that `age` differs the most between the treatment groups, and we suspect it might be causing the discrepancy in results between the descriptive statistics and the causal analysis.\n",
    "\n",
    "To further investigate this, let's look at the weight-gain as a function of the age:"
   ]
  },
  {
   "cell_type": "code",
   "execution_count": 6,
   "metadata": {},
   "outputs": [
    {
     "data": {
      "image/png": "[encoded data removed]",
      "text/plain": [
       "<Figure size 648x360 with 1 Axes>"
      ]
     },
     "metadata": {
      "needs_background": "light"
     },
     "output_type": "display_data"
    }
   ],
   "source": [
    "%matplotlib inline\n",
    "import seaborn as sns\n",
    "\n",
    "ax = sns.scatterplot(data.X[\"age\"], data.y, hue=data.a, alpha=0.7)\n",
    "ax.get_figure().set_size_inches(9, 5);"
   ]
  },
  {
   "cell_type": "markdown",
   "metadata": {},
   "source": [
    "We observe that for older age people the weight-gain decreases to the point that it is more frequently negative than positive at very high age.\n",
    "\n",
    "Let's break down the observed difference by age groups of 5 years each:"
   ]
  },
  {
   "cell_type": "code",
   "execution_count": 7,
   "metadata": {},
   "outputs": [
    {
     "name": "stdout",
     "output_type": "stream",
     "text": [
      "[25, 30, 35, 40, 45, 50, 55, 60, 65, 70, 75]\n"
     ]
    },
    {
     "data": {
      "text/plain": [
       "0    (40.0, 45.0]\n",
       "1    (35.0, 40.0]\n",
       "2    (55.0, 60.0]\n",
       "3    (65.0, 70.0]\n",
       "4    (35.0, 40.0]\n",
       "Name: age, dtype: category\n",
       "Categories (10, interval[float64]): [(24.999, 30.0] < (30.0, 35.0] < (35.0, 40.0] < (40.0, 45.0] ... (55.0, 60.0] < (60.0, 65.0] < (65.0, 70.0] < (70.0, 75.0]]"
      ]
     },
     "execution_count": 7,
     "metadata": {},
     "output_type": "execute_result"
    }
   ],
   "source": [
    "import pandas as pd\n",
    "\n",
    "step_size = 5\n",
    "age_groups = range(data.X[\"age\"].min(), \n",
    "                   data.X[\"age\"].max() + step_size, \n",
    "                   step_size)\n",
    "print(list(age_groups))\n",
    "age_grouped = pd.cut(data.X[\"age\"], bins=age_groups, include_lowest=True)\n",
    "age_grouped.head()"
   ]
  },
  {
   "cell_type": "markdown",
   "metadata": {},
   "source": [
    "Now we examine how the weight gain differ in each age-group:"
   ]
  },
  {
   "cell_type": "code",
   "execution_count": 8,
   "metadata": {},
   "outputs": [
    {
     "data": {
      "image/png": "[encoded data removed]",
      "text/plain": [
       "<Figure size 432x288 with 1 Axes>"
      ]
     },
     "metadata": {
      "needs_background": "light"
     },
     "output_type": "display_data"
    }
   ],
   "source": [
    "observed_diff_by_age = data.y.groupby([data.a, age_grouped]).mean()\n",
    "observed_diff_by_age = observed_diff_by_age.xs(1) - observed_diff_by_age.xs(0)\n",
    "observed_diff_by_age = observed_diff_by_age.rename(\"observed_effect\")\n",
    "ax = observed_diff_by_age.plot(kind=\"barh\")\n",
    "ax.set_xlabel(\"observed_effect\");"
   ]
  },
  {
   "cell_type": "markdown",
   "metadata": {},
   "source": [
    "We see here two interseting trends:\n",
    " * The oldest age group has an observed effect much lower than the others.\n",
    " * The people between ages 40-55 have larger observed difference than the average 2.5 kg.\n",
    "It means when we do a simple average across all the treated and controls, we are mixing people with different observed effects:\n",
    "$$\n",
    "\\mathbb{E}\\left[Y|A=1,\\text{Age}\\gt70\\right] - \\mathbb{E}\\left[Y|A=0,\\text{Age}\\gt70\\right] \\ll \n",
    "\\mathbb{E}\\left[Y|A=1,\\text{Age}\\in[40,55]\\right] - \\mathbb{E}\\left[Y|A=0,\\text{Age}\\in[40,55]\\right]\n",
    "$$ \n",
    "\n",
    "This certainly has to be adjusted for. But how much? the overall effect will depend in the number of people in each age group:"
   ]
  },
  {
   "cell_type": "code",
   "execution_count": 9,
   "metadata": {},
   "outputs": [
    {
     "data": {
      "image/png": "[encoded data removed]",
      "text/plain": [
       "<Figure size 432x288 with 1 Axes>"
      ]
     },
     "metadata": {
      "needs_background": "light"
     },
     "output_type": "display_data"
    }
   ],
   "source": [
    "age_frequency = age_grouped.value_counts(sort=False)\n",
    "age_frequency.rename(\"counts\", inplace=True)\n",
    "ax = age_frequency.plot(kind=\"barh\")\n",
    "ax.set_xlabel(\"counts\");"
   ]
  },
  {
   "cell_type": "code",
   "execution_count": 10,
   "metadata": {},
   "outputs": [
    {
     "data": {
      "text/html": [
       "<div>\n",
       "<style scoped>\n",
       "    .dataframe tbody tr th:only-of-type {\n",
       "        vertical-align: middle;\n",
       "    }\n",
       "\n",
       "    .dataframe tbody tr th {\n",
       "        vertical-align: top;\n",
       "    }\n",
       "\n",
       "    .dataframe thead th {\n",
       "        text-align: right;\n",
       "    }\n",
       "</style>\n",
       "<table border=\"1\" class=\"dataframe\">\n",
       "  <thead>\n",
       "    <tr style=\"text-align: right;\">\n",
       "      <th></th>\n",
       "      <th>observed_effect</th>\n",
       "      <th>counts</th>\n",
       "    </tr>\n",
       "    <tr>\n",
       "      <th>age</th>\n",
       "      <th></th>\n",
       "      <th></th>\n",
       "    </tr>\n",
       "  </thead>\n",
       "  <tbody>\n",
       "    <tr>\n",
       "      <th>(24.999, 30.0]</th>\n",
       "      <td>2.263298</td>\n",
       "      <td>276</td>\n",
       "    </tr>\n",
       "    <tr>\n",
       "      <th>(30.0, 35.0]</th>\n",
       "      <td>3.100541</td>\n",
       "      <td>214</td>\n",
       "    </tr>\n",
       "    <tr>\n",
       "      <th>(35.0, 40.0]</th>\n",
       "      <td>2.433750</td>\n",
       "      <td>177</td>\n",
       "    </tr>\n",
       "    <tr>\n",
       "      <th>(40.0, 45.0]</th>\n",
       "      <td>3.801950</td>\n",
       "      <td>197</td>\n",
       "    </tr>\n",
       "    <tr>\n",
       "      <th>(45.0, 50.0]</th>\n",
       "      <td>3.603730</td>\n",
       "      <td>234</td>\n",
       "    </tr>\n",
       "    <tr>\n",
       "      <th>(50.0, 55.0]</th>\n",
       "      <td>5.238368</td>\n",
       "      <td>186</td>\n",
       "    </tr>\n",
       "    <tr>\n",
       "      <th>(55.0, 60.0]</th>\n",
       "      <td>2.871668</td>\n",
       "      <td>132</td>\n",
       "    </tr>\n",
       "    <tr>\n",
       "      <th>(60.0, 65.0]</th>\n",
       "      <td>1.402340</td>\n",
       "      <td>85</td>\n",
       "    </tr>\n",
       "    <tr>\n",
       "      <th>(65.0, 70.0]</th>\n",
       "      <td>3.602345</td>\n",
       "      <td>53</td>\n",
       "    </tr>\n",
       "    <tr>\n",
       "      <th>(70.0, 75.0]</th>\n",
       "      <td>-9.985035</td>\n",
       "      <td>12</td>\n",
       "    </tr>\n",
       "  </tbody>\n",
       "</table>\n",
       "</div>"
      ],
      "text/plain": [
       "                observed_effect  counts\n",
       "age                                    \n",
       "(24.999, 30.0]         2.263298     276\n",
       "(30.0, 35.0]           3.100541     214\n",
       "(35.0, 40.0]           2.433750     177\n",
       "(40.0, 45.0]           3.801950     197\n",
       "(45.0, 50.0]           3.603730     234\n",
       "(50.0, 55.0]           5.238368     186\n",
       "(55.0, 60.0]           2.871668     132\n",
       "(60.0, 65.0]           1.402340      85\n",
       "(65.0, 70.0]           3.602345      53\n",
       "(70.0, 75.0]          -9.985035      12"
      ]
     },
     "execution_count": 10,
     "metadata": {},
     "output_type": "execute_result"
    }
   ],
   "source": [
    "by_age = observed_diff_by_age.to_frame().join(age_frequency)\n",
    "by_age"
   ]
  },
  {
   "cell_type": "markdown",
   "metadata": {},
   "source": [
    "In fact, for the largest groups, ages 40 to 55, the observed effect is larger than the overall average observed effect (2.5kg).  \n",
    "This is somewhat similar to [Simpson's paradox](https://en.wikipedia.org/wiki/Simpson%27s_paradox): \n",
    "How come combining groups with a large effect results in a small effect?  \n",
    "\n",
    "To check this, we'll dig even deeper into the distribution of treated vs. control in each of these age groups:"
   ]
  },
  {
   "cell_type": "code",
   "execution_count": 11,
   "metadata": {},
   "outputs": [
    {
     "data": {
      "text/html": [
       "<div>\n",
       "<style scoped>\n",
       "    .dataframe tbody tr th:only-of-type {\n",
       "        vertical-align: middle;\n",
       "    }\n",
       "\n",
       "    .dataframe tbody tr th {\n",
       "        vertical-align: top;\n",
       "    }\n",
       "\n",
       "    .dataframe thead th {\n",
       "        text-align: right;\n",
       "    }\n",
       "</style>\n",
       "<table border=\"1\" class=\"dataframe\">\n",
       "  <thead>\n",
       "    <tr style=\"text-align: right;\">\n",
       "      <th></th>\n",
       "      <th>observed_effect</th>\n",
       "      <th>counts</th>\n",
       "      <th>0</th>\n",
       "      <th>1</th>\n",
       "      <th>propensity</th>\n",
       "    </tr>\n",
       "    <tr>\n",
       "      <th>age</th>\n",
       "      <th></th>\n",
       "      <th></th>\n",
       "      <th></th>\n",
       "      <th></th>\n",
       "      <th></th>\n",
       "    </tr>\n",
       "  </thead>\n",
       "  <tbody>\n",
       "    <tr>\n",
       "      <th>(24.999, 30.0]</th>\n",
       "      <td>2.263298</td>\n",
       "      <td>276</td>\n",
       "      <td>228</td>\n",
       "      <td>48</td>\n",
       "      <td>0.173913</td>\n",
       "    </tr>\n",
       "    <tr>\n",
       "      <th>(30.0, 35.0]</th>\n",
       "      <td>3.100541</td>\n",
       "      <td>214</td>\n",
       "      <td>160</td>\n",
       "      <td>54</td>\n",
       "      <td>0.252336</td>\n",
       "    </tr>\n",
       "    <tr>\n",
       "      <th>(35.0, 40.0]</th>\n",
       "      <td>2.433750</td>\n",
       "      <td>177</td>\n",
       "      <td>136</td>\n",
       "      <td>41</td>\n",
       "      <td>0.231638</td>\n",
       "    </tr>\n",
       "    <tr>\n",
       "      <th>(40.0, 45.0]</th>\n",
       "      <td>3.801950</td>\n",
       "      <td>197</td>\n",
       "      <td>146</td>\n",
       "      <td>51</td>\n",
       "      <td>0.258883</td>\n",
       "    </tr>\n",
       "    <tr>\n",
       "      <th>(45.0, 50.0]</th>\n",
       "      <td>3.603730</td>\n",
       "      <td>234</td>\n",
       "      <td>181</td>\n",
       "      <td>53</td>\n",
       "      <td>0.226496</td>\n",
       "    </tr>\n",
       "    <tr>\n",
       "      <th>(50.0, 55.0]</th>\n",
       "      <td>5.238368</td>\n",
       "      <td>186</td>\n",
       "      <td>133</td>\n",
       "      <td>53</td>\n",
       "      <td>0.284946</td>\n",
       "    </tr>\n",
       "    <tr>\n",
       "      <th>(55.0, 60.0]</th>\n",
       "      <td>2.871668</td>\n",
       "      <td>132</td>\n",
       "      <td>81</td>\n",
       "      <td>51</td>\n",
       "      <td>0.386364</td>\n",
       "    </tr>\n",
       "    <tr>\n",
       "      <th>(60.0, 65.0]</th>\n",
       "      <td>1.402340</td>\n",
       "      <td>85</td>\n",
       "      <td>55</td>\n",
       "      <td>30</td>\n",
       "      <td>0.352941</td>\n",
       "    </tr>\n",
       "    <tr>\n",
       "      <th>(65.0, 70.0]</th>\n",
       "      <td>3.602345</td>\n",
       "      <td>53</td>\n",
       "      <td>38</td>\n",
       "      <td>15</td>\n",
       "      <td>0.283019</td>\n",
       "    </tr>\n",
       "    <tr>\n",
       "      <th>(70.0, 75.0]</th>\n",
       "      <td>-9.985035</td>\n",
       "      <td>12</td>\n",
       "      <td>5</td>\n",
       "      <td>7</td>\n",
       "      <td>0.583333</td>\n",
       "    </tr>\n",
       "  </tbody>\n",
       "</table>\n",
       "</div>"
      ],
      "text/plain": [
       "                observed_effect  counts    0   1  propensity\n",
       "age                                                         \n",
       "(24.999, 30.0]         2.263298     276  228  48    0.173913\n",
       "(30.0, 35.0]           3.100541     214  160  54    0.252336\n",
       "(35.0, 40.0]           2.433750     177  136  41    0.231638\n",
       "(40.0, 45.0]           3.801950     197  146  51    0.258883\n",
       "(45.0, 50.0]           3.603730     234  181  53    0.226496\n",
       "(50.0, 55.0]           5.238368     186  133  53    0.284946\n",
       "(55.0, 60.0]           2.871668     132   81  51    0.386364\n",
       "(60.0, 65.0]           1.402340      85   55  30    0.352941\n",
       "(65.0, 70.0]           3.602345      53   38  15    0.283019\n",
       "(70.0, 75.0]          -9.985035      12    5   7    0.583333"
      ]
     },
     "execution_count": 11,
     "metadata": {},
     "output_type": "execute_result"
    }
   ],
   "source": [
    "tx_distribution_by_age = data.a.groupby(age_grouped).value_counts()\n",
    "tx_distribution_by_age = tx_distribution_by_age.unstack(\"qsmk\")\n",
    "tx_distribution_by_age[\"propensity\"] = tx_distribution_by_age[1] / tx_distribution_by_age.sum(axis=\"columns\")\n",
    "\n",
    "by_age = by_age.join(tx_distribution_by_age)\n",
    "by_age"
   ]
  },
  {
   "cell_type": "markdown",
   "metadata": {},
   "source": [
    "We see that each age group has different proportions between the treated and control, \n",
    "meaning, _individuals in each treatment group have different propensity to quit smoking_.\n",
    "\n",
    "We can go on and visualize the observed effect as a function of the propensity of each age group (blue dots), compared to the overall average (green line) and the effect derived from the causal analysis (orange line):"
   ]
  },
  {
   "cell_type": "code",
   "execution_count": 12,
   "metadata": {},
   "outputs": [
    {
     "data": {
      "image/png": "[encoded data removed]",
      "text/plain": [
       "<Figure size 432x288 with 1 Axes>"
      ]
     },
     "metadata": {
      "needs_background": "light"
     },
     "output_type": "display_data"
    }
   ],
   "source": [
    "ax = sns.scatterplot(x=\"propensity\", y=\"observed_effect\", data=by_age.reset_index(),\n",
    "                     size=\"counts\", size_norm=(20, 200))\n",
    "ax.axhline(y=causal_effect, linestyle=\"--\", color=\"C1\", label=\"causal effect\", zorder=0)\n",
    "ax.axhline(y=observed_effect, linestyle=\":\", color=\"C2\", label=\"observed effect\", zorder=0)\n",
    "ax.legend();"
   ]
  },
  {
   "cell_type": "markdown",
   "metadata": {},
   "source": [
    "It can be seen that the ratios of those who quit smoking is smaller (small propensity) in the groups for which the effect is large (the top left of the plot). The groups with small effect contribute disproportionately to the observed effect.\n",
    "The overall observed effect is therefore smaller than what would have been observed if the ratios were the same across all groups. \n",
    "In fact, it would be closer to the 3.5 value that is predicted by the causal analysis.\n",
    "\n",
    "More generally, both the effect size and the prevalence of treatment changes between age groups, and age is therefore a confounder of the effect. \n",
    "Therefore, the overall population effect can only be calculated by weighting the observed group-differences by the size of each age group.  \n",
    "So if we were to average the observed effect and factoring in the size of each age group we would get:"
   ]
  },
  {
   "cell_type": "code",
   "execution_count": 13,
   "metadata": {},
   "outputs": [
    {
     "data": {
      "text/plain": [
       "3.1002018883702958"
      ]
     },
     "execution_count": 13,
     "metadata": {},
     "output_type": "execute_result"
    }
   ],
   "source": [
    "import numpy as np\n",
    "\n",
    "np.average(by_age[\"observed_effect\"], weights=by_age[\"counts\"])"
   ]
  },
  {
   "cell_type": "markdown",
   "metadata": {},
   "source": [
    "Observed effect of 3.1 is closer to the causal effect of 3.5, than to the simple observed effect of 2.5 we originally got.  \n",
    "What we did was to take the already averaged-within-each-age-group effect and average it once more using the sizes of each group.  \n",
    "This is equivalent to providing each individual with a propensity value based only on their age group, and then applying an inverse-probability-weighting scheme to obtain a slightly-more corrected effect.  \n",
    "Let's do IPW by hand:\n",
    "#### Building an age-based IPW model by hand"
   ]
  },
  {
   "cell_type": "code",
   "execution_count": 14,
   "metadata": {},
   "outputs": [
    {
     "data": {
      "text/plain": [
       "3.100201888370302"
      ]
     },
     "execution_count": 14,
     "metadata": {},
     "output_type": "execute_result"
    }
   ],
   "source": [
    "# Give each individual their propensity according their age group:\n",
    "individual_age_weights = age_grouped.map(by_age[\"propensity\"])\n",
    "\n",
    "# Give each individual the pobability to be in their original treatment group,\n",
    "# i.e. the treated get their propensity (=probability to be treated) \n",
    "#      and the control get 1 minus that propensity (=probability to by untreated)\n",
    "individual_age_weights = (data.a * individual_age_weights) + ((1-data.a) * (1-individual_age_weights))\n",
    "\n",
    "# We then inverse these propensity:\n",
    "individual_age_weights = 1 / individual_age_weights\n",
    "\n",
    "# We use the inversed propensities to create a weighted outcome:\n",
    "weighted_outcome = individual_age_weights * data.y\n",
    "\n",
    "# Finaly, we take the weighted average of the weighted outcome in each treatment group:\n",
    "weighted_outcome = weighted_outcome.groupby(data.a).sum() / individual_age_weights.groupby(data.a).sum()\n",
    "\n",
    "# And we can \n",
    "weighted_outcome[1] - weighted_outcome[0]"
   ]
  },
  {
   "cell_type": "markdown",
   "metadata": {},
   "source": [
    "Indeed we got the same effect as the weighted-average-of-averages above.\n",
    "\n",
    "However, remember we had only 10 unique propensity values, because we arbitrarily binned the age variable into 10 age groups.  \n",
    "Meanwhile, using a machine learning model allows us to model the propensity using `age` as a continuous variable.  \n",
    "Let's examine what happens when using the age continuously, by building an IPW model that uses `age` as its sole feature when modeling propensity to treat."
   ]
  },
  {
   "cell_type": "code",
   "execution_count": 15,
   "metadata": {},
   "outputs": [
    {
     "data": {
      "text/plain": [
       "3.098787136071221"
      ]
     },
     "execution_count": 15,
     "metadata": {},
     "output_type": "execute_result"
    }
   ],
   "source": [
    "learner = LogisticRegression(penalty='none', solver='lbfgs', max_iter=500)\n",
    "ipw = IPW(learner)\n",
    "ipw.fit(data.X[[\"age\"]], data.a)\n",
    "outcomes = ipw.estimate_population_outcome(data.X[[\"age\"]], data.a, data.y)\n",
    "outcomes[1] - outcomes[0]"
   ]
  },
  {
   "cell_type": "markdown",
   "metadata": {},
   "source": [
    "Indeed we got an almost identical effect, correcting only for age in our IPW model.  \n",
    "We can only assume that when correcting for more variables and eliminating more spuriuous correlations in the process, we will get to the causal effect of 3.5 kg."
   ]
  },
  {
   "cell_type": "markdown",
   "metadata": {},
   "source": [
    "### Summary\n",
    "1. We saw that there is a discrepancy between the \"effect\" using simple descriptive statistics, and the causal effect resulting from a causal analysis.\n",
    "2. The discrepancy originated from the groups (quitting or not quitting smoking) having different distributions of charachteristics, and thus, are not comparable.\n",
    "3. We discovered that participants' age had the largest distributional shift among the treatment groups and focused on it.\n",
    "4. We saw that the observed effect differed across different age groups, and that different age groups had different number of people, suggesting a simple average mixes different effects indifferently. \n",
    "5. We demonstrated that when accounting for the number of participants in each age group, the \"effect\" shifted from the original observed-effect towards the causal-effect.\n",
    "7. We saw we get similar result when building a causal model that controls only for age (and not for all confounders)."
   ]
  }
 ],
 "metadata": {
  "kernelspec": {
   "display_name": "Python 3",
   "language": "python",
   "name": "python3"
  },
  "language_info": {
   "codemirror_mode": {
    "name": "ipython",
    "version": 3
   },
   "file_extension": ".py",
   "mimetype": "text/x-python",
   "name": "python",
   "nbconvert_exporter": "python",
   "pygments_lexer": "ipython3",
   "version": "3.6.8"
  }
 },
 "nbformat": 4,
 "nbformat_minor": 2
}

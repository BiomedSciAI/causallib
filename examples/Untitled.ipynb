{
 "cells": [
  {
   "cell_type": "code",
   "execution_count": 6,
   "metadata": {},
   "outputs": [],
   "source": [
    "import numpy as np\n",
    "linv = lambda x: np.exp(x) / (1 + np.exp(x))\n",
    "ehat = lambda x: linv(5 - 5*x - 10*x*x)\n",
    "Xi = [0.3,0.4,0.5,0.6,0.7]"
   ]
  },
  {
   "cell_type": "code",
   "execution_count": 12,
   "metadata": {},
   "outputs": [
    {
     "name": "stdout",
     "output_type": "stream",
     "text": [
      "0.3 : 0.93\n",
      "0.4 : 0.80\n",
      "0.5 : 0.50\n",
      "0.6 : 0.17\n",
      "0.7 : 0.03\n"
     ]
    }
   ],
   "source": [
    "for i in Xi:\n",
    "    print(f\"{i} : {ehat(i):.2f}\")\n",
    " "
   ]
  },
  {
   "cell_type": "code",
   "execution_count": 16,
   "metadata": {},
   "outputs": [],
   "source": [
    "nt = (24,16,4,5,1)\n",
    "nc = (3,2,6,13,26)\n",
    "assert(sum(nt) == sum(nc) == 50)"
   ]
  },
  {
   "cell_type": "code",
   "execution_count": 18,
   "metadata": {},
   "outputs": [
    {
     "data": {
      "text/plain": [
       "0.7609564733545162"
      ]
     },
     "execution_count": 18,
     "metadata": {},
     "output_type": "execute_result"
    }
   ],
   "source": [
    "sum([ehat(x)*wt/50 for x,wt in zip(Xi,nt)])"
   ]
  },
  {
   "cell_type": "code",
   "execution_count": 20,
   "metadata": {},
   "outputs": [
    {
     "data": {
      "text/plain": [
       "0.20840791183011637"
      ]
     },
     "execution_count": 20,
     "metadata": {},
     "output_type": "execute_result"
    }
   ],
   "source": [
    "sum([ehat(x)*wc/50 for x,wc in zip(Xi,nc)])"
   ]
  },
  {
   "cell_type": "code",
   "execution_count": 21,
   "metadata": {},
   "outputs": [
    {
     "data": {
      "text/plain": [
       "[0.44681355823519353,\n",
       " 0.2566988443387461,\n",
       " 0.04,\n",
       " 0.016798161486607555,\n",
       " 0.0006459092939690106]"
      ]
     },
     "execution_count": 21,
     "metadata": {},
     "output_type": "execute_result"
    }
   ],
   "source": [
    "[ehat(x)*wt/50 for x,wt in zip(Xi,nt)]\n"
   ]
  },
  {
   "cell_type": "code",
   "execution_count": 22,
   "metadata": {},
   "outputs": [
    {
     "data": {
      "text/plain": [
       "[0.05585169477939919,\n",
       " 0.032087355542343265,\n",
       " 0.06,\n",
       " 0.043675219865179644,\n",
       " 0.016793641643194274]"
      ]
     },
     "execution_count": 22,
     "metadata": {},
     "output_type": "execute_result"
    }
   ],
   "source": [
    "[ehat(x)*wc/50 for x,wc in zip(Xi,nc)]"
   ]
  },
  {
   "cell_type": "code",
   "execution_count": 23,
   "metadata": {},
   "outputs": [],
   "source": [
    "yt = (151.5,189.5,212.5,228,239.2143)\n",
    "yc = (201.5,202,202.5,203,203.5)"
   ]
  },
  {
   "cell_type": "code",
   "execution_count": 30,
   "metadata": {},
   "outputs": [],
   "source": [
    "tau = [ (yt[i]*nt[i]/(ehat(Xi[i])) - yc[i]*nc[i]/(1 - ehat(Xi[i])))/(nt[i]+nc[i]) for i,x in enumerate(Xi)]"
   ]
  },
  {
   "cell_type": "code",
   "execution_count": 32,
   "metadata": {},
   "outputs": [
    {
     "data": {
      "text/plain": [
       "17.24239895724988"
      ]
     },
     "execution_count": 32,
     "metadata": {},
     "output_type": "execute_result"
    }
   ],
   "source": [
    "sum([tau[i]*(nt[i]+nc[i])/100 for i in range(len(tau))])"
   ]
  },
  {
   "cell_type": "code",
   "execution_count": 35,
   "metadata": {},
   "outputs": [],
   "source": [
    "Xi = np.array(Xi)\n",
    "yt = np.array(yt)\n",
    "yc = np.array(yc)\n",
    "nt = np.array(nt)\n",
    "nc = np.array(nc)"
   ]
  },
  {
   "cell_type": "code",
   "execution_count": 54,
   "metadata": {},
   "outputs": [
    {
     "data": {
      "text/plain": [
       "2.5766571844401938"
      ]
     },
     "execution_count": 54,
     "metadata": {},
     "output_type": "execute_result"
    }
   ],
   "source": [
    "yt @ (nt/ehat(Xi)) /  (sum(nt/ehat(Xi))) - ((yc @ (nc/ehat(Xi))) / sum(nc/ehat(Xi)))"
   ]
  },
  {
   "cell_type": "code",
   "execution_count": 39,
   "metadata": {},
   "outputs": [],
   "source": [
    "ehat2 = lambda x: linv(5 - 10*x)"
   ]
  },
  {
   "cell_type": "code",
   "execution_count": 41,
   "metadata": {},
   "outputs": [
    {
     "data": {
      "text/plain": [
       "-23.991500770675106"
      ]
     },
     "execution_count": 41,
     "metadata": {},
     "output_type": "execute_result"
    }
   ],
   "source": [
    "tau2 = [ (yt[i]*nt[i]/(ehat2(Xi[i])) - yc[i]*nc[i]/(1 - ehat2(Xi[i])))/(nt[i]+nc[i]) for i,x in enumerate(Xi)]\n",
    "sum([tau2[i]*(nt[i]+nc[i])/100 for i in range(len(tau2))])"
   ]
  },
  {
   "cell_type": "code",
   "execution_count": 52,
   "metadata": {},
   "outputs": [
    {
     "data": {
      "text/plain": [
       "-10.489125223319803"
      ]
     },
     "execution_count": 52,
     "metadata": {},
     "output_type": "execute_result"
    }
   ],
   "source": [
    " yt@(nt/ehat2(Xi))/ sum(nt/ehat2(Xi))  - (yc@(nc/(ehat2(Xi)))/sum(nc/ehat2(Xi)))"
   ]
  },
  {
   "cell_type": "code",
   "execution_count": 43,
   "metadata": {},
   "outputs": [
    {
     "data": {
      "text/plain": [
       "'\\n1\\n0\\n.5\\n.93\\n.8\\n.5\\n.17\\n.03\\n.76???\\n.21\\nyes\\nno\\n-0.61\\n25.62\\n-0.61\\n-10.49\\n'"
      ]
     },
     "execution_count": 43,
     "metadata": {},
     "output_type": "execute_result"
    }
   ],
   "source": [
    "'''\n",
    "1\n",
    "0\n",
    ".5\n",
    ".93\n",
    ".8\n",
    ".5\n",
    ".17\n",
    ".03\n",
    ".76???\n",
    ".21\n",
    "yes\n",
    "no\n",
    "-0.61\n",
    "2.58\n",
    "-0.61\n",
    "-10.49\n",
    "'''"
   ]
  },
  {
   "cell_type": "code",
   "execution_count": 47,
   "metadata": {},
   "outputs": [
    {
     "data": {
      "text/plain": [
       "'-0.61'"
      ]
     },
     "execution_count": 47,
     "metadata": {},
     "output_type": "execute_result"
    }
   ],
   "source": [
    "f\"{(yt-yc)@(nt+nc) / 100:.2f}\""
   ]
  },
  {
   "cell_type": "code",
   "execution_count": 50,
   "metadata": {},
   "outputs": [
    {
     "data": {
      "text/plain": [
       "114.45737946958228"
      ]
     },
     "execution_count": 50,
     "metadata": {},
     "output_type": "execute_result"
    }
   ],
   "source": [
    "sum(nt/ehat(Xi))"
   ]
  },
  {
   "cell_type": "markdown",
   "metadata": {},
   "source": [
    "Module 5: Matching\n",
    "=="
   ]
  },
  {
   "cell_type": "code",
   "execution_count": 59,
   "metadata": {},
   "outputs": [],
   "source": [
    "yc = np.array([202,203.5,203.5,203.5,202.5])\n",
    "ec = np.array([0.8,0.04,0.05,0.07,0.57])\n",
    "xc = np.array([0.4,0.7,0.7,0.7,0.5])\n",
    "zc = np.zeros_like(xc)\n",
    "\n",
    "yt = np.array([189.5,212.5,151.5,228.0,151.5])\n",
    "et = np.array([0.81,0.58,0.90,0.23,0.91])\n",
    "xt = np.array([0.4,0.5,0.3,0.6,0.3])\n",
    "zt = np.ones_like(xc)"
   ]
  },
  {
   "cell_type": "code",
   "execution_count": 69,
   "metadata": {},
   "outputs": [
    {
     "data": {
      "text/plain": [
       "[(0, 0), (1, 4), (2, 0), (3, 3), (4, 0)]"
      ]
     },
     "execution_count": 69,
     "metadata": {},
     "output_type": "execute_result"
    }
   ],
   "source": [
    "pairs=[]\n",
    "for i,e in enumerate(et):\n",
    "    mi,me=min(list(enumerate(ec)),key=lambda x: abs(x[1]-e))\n",
    "    pairs.append((i,mi))\n",
    "\n",
    "pairs"
   ]
  },
  {
   "cell_type": "code",
   "execution_count": 70,
   "metadata": {},
   "outputs": [
    {
     "data": {
      "text/plain": [
       "-15.8"
      ]
     },
     "execution_count": 70,
     "metadata": {},
     "output_type": "execute_result"
    }
   ],
   "source": [
    "np.mean([yt[i] - yc[mi] for i,mi in pairs])\n"
   ]
  },
  {
   "cell_type": "code",
   "execution_count": 71,
   "metadata": {},
   "outputs": [
    {
     "data": {
      "text/plain": [
       "[(4, 0), (2, 4), (0, 3), (1, 2), (3, 1)]"
      ]
     },
     "execution_count": 71,
     "metadata": {},
     "output_type": "execute_result"
    }
   ],
   "source": [
    "pairs=[]\n",
    "ec_indexed = list(enumerate(ec))\n",
    "picked=set()\n",
    "for i,e in sorted(enumerate(et),key=lambda x: x[1],reverse=True):\n",
    "    mi,me=min(filter(lambda mi_e: mi_e[0] not in picked ,ec_indexed),key=lambda x: abs(x[1]-e))\n",
    "    pairs.append((i,mi))\n",
    "    picked.add(mi)\n",
    "\n",
    "pairs"
   ]
  },
  {
   "cell_type": "code",
   "execution_count": 72,
   "metadata": {},
   "outputs": [
    {
     "data": {
      "text/plain": [
       "-16.4"
      ]
     },
     "execution_count": 72,
     "metadata": {},
     "output_type": "execute_result"
    }
   ],
   "source": [
    "np.mean([yt[i] - yc[mi] for i,mi in pairs])"
   ]
  },
  {
   "cell_type": "code",
   "execution_count": 76,
   "metadata": {},
   "outputs": [
    {
     "data": {
      "text/plain": [
       "-16.233333333333327"
      ]
     },
     "execution_count": 76,
     "metadata": {},
     "output_type": "execute_result"
    }
   ],
   "source": [
    "k=3\n",
    "yc_knn = np.zeros_like(yc)\n",
    "for i,e in enumerate(et):\n",
    "    knn=sorted(list(enumerate(ec)),key=lambda x: abs(x[1]-e))[:k]\n",
    "    yc_knn[i] = np.mean([yc[mi] for mi,e in knn])\n",
    "yc_knn\n",
    "np.mean(yt - yc_knn)"
   ]
  },
  {
   "cell_type": "code",
   "execution_count": 74,
   "metadata": {},
   "outputs": [
    {
     "data": {
      "text/plain": [
       "[(0, 0.8), (4, 0.57), (3, 0.07)]"
      ]
     },
     "execution_count": 74,
     "metadata": {},
     "output_type": "execute_result"
    }
   ],
   "source": [
    "knn"
   ]
  },
  {
   "cell_type": "code",
   "execution_count": 79,
   "metadata": {},
   "outputs": [
    {
     "data": {
      "text/plain": [
       "array([-12.5,  10. , -50. ,  25. , -50. ])"
      ]
     },
     "execution_count": 79,
     "metadata": {},
     "output_type": "execute_result"
    }
   ],
   "source": []
  },
  {
   "cell_type": "code",
   "execution_count": 78,
   "metadata": {},
   "outputs": [],
   "source": [
    "yt_0 = np.array([202.0,202.5,201.5,203.0,201.5])"
   ]
  },
  {
   "cell_type": "code",
   "execution_count": 80,
   "metadata": {},
   "outputs": [
    {
     "data": {
      "text/plain": [
       "array([-12.5,  10. , -50. ,  25. , -50. ])"
      ]
     },
     "execution_count": 80,
     "metadata": {},
     "output_type": "execute_result"
    }
   ],
   "source": [
    "yt - yt_0"
   ]
  },
  {
   "cell_type": "code",
   "execution_count": 82,
   "metadata": {},
   "outputs": [
    {
     "data": {
      "text/plain": [
       "-15.5"
      ]
     },
     "execution_count": 82,
     "metadata": {},
     "output_type": "execute_result"
    }
   ],
   "source": [
    "np.mean(yt-yt_0)"
   ]
  },
  {
   "cell_type": "markdown",
   "metadata": {},
   "source": [
    "Module 5: Matching\n",
    "==="
   ]
  },
  {
   "cell_type": "code",
   "execution_count": 103,
   "metadata": {},
   "outputs": [],
   "source": [
    "s='''\n",
    "1\t0.70\t0\t0.03\t0.27\t203.50\t239.21\t203.50\t214.54\t213.16\t26117\t\n",
    "2\t0.70\t1\t0.03\t0.27\t239.21\t239.21\t203.50\t214.54\t213.16\t883\t\n",
    "3\t0.60\t0\t0.17\t0.33\t203.00\t228.00\t203.00\t202.46\t201.07\t15032\t\n",
    "4\t0.60\t1\t0.17\t0.33\t228.00\t228.00\t203.00\t202.46\t201.07\t2968\t\n",
    "5\t0.50\t0\t0.50\t0.50\t202.50\t212.50\t202.50\t190.37\t188.99\t4994\t\n",
    "6\t0.50\t1\t0.50\t0.50\t212.50\t212.50\t202.50\t190.37\t188.99\t5006\t\n",
    "7\t0.40\t0\t0.80\t0.65\t202.00\t189.50\t202.00\t178.29\t176.90\t3561\t\n",
    "8\t0.40\t1\t0.80\t0.65\t189.50\t189.50\t202.00\t178.29\t176.90\t14439\t\n",
    "9\t0.30\t0\t0.93\t0.72\t201.50\t151.50\t201.50\t166.20\t164.82\t1813\t\n",
    "10\t0.30\t1\t0.93\t0.72\t151.50\t151.60\t201.50\t166.20\t164.82\t25187\t\n",
    "'''"
   ]
  },
  {
   "cell_type": "code",
   "execution_count": 104,
   "metadata": {},
   "outputs": [],
   "source": [
    "from io import StringIO\n",
    "import pandas as pd\n",
    "df = pd.read_csv(StringIO(s),sep=\"\\t\",header=None)\n",
    "df=df.iloc[:,:-1]\n",
    "df = df.replace(\"o\",0).replace(\"O\",0)\n",
    "df.columns = [\"j\",\"X\",\"Z\",\"e1\",\"e2\",\"Y\",\"Y1_1\",\"Y1_0\",\"Y2_1\",\"Y2_0\",\"n\"]"
   ]
  },
  {
   "cell_type": "code",
   "execution_count": 105,
   "metadata": {
    "scrolled": true
   },
   "outputs": [
    {
     "data": {
      "text/html": [
       "<div>\n",
       "<style scoped>\n",
       "    .dataframe tbody tr th:only-of-type {\n",
       "        vertical-align: middle;\n",
       "    }\n",
       "\n",
       "    .dataframe tbody tr th {\n",
       "        vertical-align: top;\n",
       "    }\n",
       "\n",
       "    .dataframe thead th {\n",
       "        text-align: right;\n",
       "    }\n",
       "</style>\n",
       "<table border=\"1\" class=\"dataframe\">\n",
       "  <thead>\n",
       "    <tr style=\"text-align: right;\">\n",
       "      <th></th>\n",
       "      <th>j</th>\n",
       "      <th>X</th>\n",
       "      <th>Z</th>\n",
       "      <th>e1</th>\n",
       "      <th>e2</th>\n",
       "      <th>Y</th>\n",
       "      <th>Y1_1</th>\n",
       "      <th>Y1_0</th>\n",
       "      <th>Y2_1</th>\n",
       "      <th>Y2_0</th>\n",
       "      <th>n</th>\n",
       "    </tr>\n",
       "  </thead>\n",
       "  <tbody>\n",
       "    <tr>\n",
       "      <th>0</th>\n",
       "      <td>1</td>\n",
       "      <td>0.7</td>\n",
       "      <td>0</td>\n",
       "      <td>0.03</td>\n",
       "      <td>0.27</td>\n",
       "      <td>203.50</td>\n",
       "      <td>239.21</td>\n",
       "      <td>203.5</td>\n",
       "      <td>214.54</td>\n",
       "      <td>213.16</td>\n",
       "      <td>26117</td>\n",
       "    </tr>\n",
       "    <tr>\n",
       "      <th>1</th>\n",
       "      <td>2</td>\n",
       "      <td>0.7</td>\n",
       "      <td>1</td>\n",
       "      <td>0.03</td>\n",
       "      <td>0.27</td>\n",
       "      <td>239.21</td>\n",
       "      <td>239.21</td>\n",
       "      <td>203.5</td>\n",
       "      <td>214.54</td>\n",
       "      <td>213.16</td>\n",
       "      <td>883</td>\n",
       "    </tr>\n",
       "    <tr>\n",
       "      <th>2</th>\n",
       "      <td>3</td>\n",
       "      <td>0.6</td>\n",
       "      <td>0</td>\n",
       "      <td>0.17</td>\n",
       "      <td>0.33</td>\n",
       "      <td>203.00</td>\n",
       "      <td>228.00</td>\n",
       "      <td>203.0</td>\n",
       "      <td>202.46</td>\n",
       "      <td>201.07</td>\n",
       "      <td>15032</td>\n",
       "    </tr>\n",
       "    <tr>\n",
       "      <th>3</th>\n",
       "      <td>4</td>\n",
       "      <td>0.6</td>\n",
       "      <td>1</td>\n",
       "      <td>0.17</td>\n",
       "      <td>0.33</td>\n",
       "      <td>228.00</td>\n",
       "      <td>228.00</td>\n",
       "      <td>203.0</td>\n",
       "      <td>202.46</td>\n",
       "      <td>201.07</td>\n",
       "      <td>2968</td>\n",
       "    </tr>\n",
       "    <tr>\n",
       "      <th>4</th>\n",
       "      <td>5</td>\n",
       "      <td>0.5</td>\n",
       "      <td>0</td>\n",
       "      <td>0.50</td>\n",
       "      <td>0.50</td>\n",
       "      <td>202.50</td>\n",
       "      <td>212.50</td>\n",
       "      <td>202.5</td>\n",
       "      <td>190.37</td>\n",
       "      <td>188.99</td>\n",
       "      <td>4994</td>\n",
       "    </tr>\n",
       "    <tr>\n",
       "      <th>5</th>\n",
       "      <td>6</td>\n",
       "      <td>0.5</td>\n",
       "      <td>1</td>\n",
       "      <td>0.50</td>\n",
       "      <td>0.50</td>\n",
       "      <td>212.50</td>\n",
       "      <td>212.50</td>\n",
       "      <td>202.5</td>\n",
       "      <td>190.37</td>\n",
       "      <td>188.99</td>\n",
       "      <td>5006</td>\n",
       "    </tr>\n",
       "    <tr>\n",
       "      <th>6</th>\n",
       "      <td>7</td>\n",
       "      <td>0.4</td>\n",
       "      <td>0</td>\n",
       "      <td>0.80</td>\n",
       "      <td>0.65</td>\n",
       "      <td>202.00</td>\n",
       "      <td>189.50</td>\n",
       "      <td>202.0</td>\n",
       "      <td>178.29</td>\n",
       "      <td>176.90</td>\n",
       "      <td>3561</td>\n",
       "    </tr>\n",
       "    <tr>\n",
       "      <th>7</th>\n",
       "      <td>8</td>\n",
       "      <td>0.4</td>\n",
       "      <td>1</td>\n",
       "      <td>0.80</td>\n",
       "      <td>0.65</td>\n",
       "      <td>189.50</td>\n",
       "      <td>189.50</td>\n",
       "      <td>202.0</td>\n",
       "      <td>178.29</td>\n",
       "      <td>176.90</td>\n",
       "      <td>14439</td>\n",
       "    </tr>\n",
       "    <tr>\n",
       "      <th>8</th>\n",
       "      <td>9</td>\n",
       "      <td>0.3</td>\n",
       "      <td>0</td>\n",
       "      <td>0.93</td>\n",
       "      <td>0.72</td>\n",
       "      <td>201.50</td>\n",
       "      <td>151.50</td>\n",
       "      <td>201.5</td>\n",
       "      <td>166.20</td>\n",
       "      <td>164.82</td>\n",
       "      <td>1813</td>\n",
       "    </tr>\n",
       "    <tr>\n",
       "      <th>9</th>\n",
       "      <td>10</td>\n",
       "      <td>0.3</td>\n",
       "      <td>1</td>\n",
       "      <td>0.93</td>\n",
       "      <td>0.72</td>\n",
       "      <td>151.50</td>\n",
       "      <td>151.60</td>\n",
       "      <td>201.5</td>\n",
       "      <td>166.20</td>\n",
       "      <td>164.82</td>\n",
       "      <td>25187</td>\n",
       "    </tr>\n",
       "  </tbody>\n",
       "</table>\n",
       "</div>"
      ],
      "text/plain": [
       "    j    X  Z    e1    e2       Y    Y1_1   Y1_0    Y2_1    Y2_0      n\n",
       "0   1  0.7  0  0.03  0.27  203.50  239.21  203.5  214.54  213.16  26117\n",
       "1   2  0.7  1  0.03  0.27  239.21  239.21  203.5  214.54  213.16    883\n",
       "2   3  0.6  0  0.17  0.33  203.00  228.00  203.0  202.46  201.07  15032\n",
       "3   4  0.6  1  0.17  0.33  228.00  228.00  203.0  202.46  201.07   2968\n",
       "4   5  0.5  0  0.50  0.50  202.50  212.50  202.5  190.37  188.99   4994\n",
       "5   6  0.5  1  0.50  0.50  212.50  212.50  202.5  190.37  188.99   5006\n",
       "6   7  0.4  0  0.80  0.65  202.00  189.50  202.0  178.29  176.90   3561\n",
       "7   8  0.4  1  0.80  0.65  189.50  189.50  202.0  178.29  176.90  14439\n",
       "8   9  0.3  0  0.93  0.72  201.50  151.50  201.5  166.20  164.82   1813\n",
       "9  10  0.3  1  0.93  0.72  151.50  151.60  201.5  166.20  164.82  25187"
      ]
     },
     "execution_count": 105,
     "metadata": {},
     "output_type": "execute_result"
    }
   ],
   "source": [
    "df"
   ]
  },
  {
   "cell_type": "code",
   "execution_count": 131,
   "metadata": {},
   "outputs": [
    {
     "data": {
      "text/plain": [
       "-0.5831129999999981"
      ]
     },
     "execution_count": 131,
     "metadata": {},
     "output_type": "execute_result"
    }
   ],
   "source": [
    "(df.n@(df.Y1_1 - df.Y1_0)) / df.n.sum() #-.61"
   ]
  },
  {
   "cell_type": "code",
   "execution_count": 117,
   "metadata": {},
   "outputs": [],
   "source": [
    "abc = lambda a,b,c : (1 / df.n.sum())*(df.n * a) @ (b/c)"
   ]
  },
  {
   "cell_type": "code",
   "execution_count": 120,
   "metadata": {},
   "outputs": [
    {
     "data": {
      "text/plain": [
       "201.8898042043011"
      ]
     },
     "execution_count": 120,
     "metadata": {},
     "output_type": "execute_result"
    }
   ],
   "source": [
    "term_1 = abc(df.Z,df.Y,df.e1) - abc(df.Z-df.e1,df.Y1_1,df.e1)\n",
    "term_1"
   ]
  },
  {
   "cell_type": "code",
   "execution_count": 121,
   "metadata": {},
   "outputs": [
    {
     "data": {
      "text/plain": [
       "202.5"
      ]
     },
     "execution_count": 121,
     "metadata": {},
     "output_type": "execute_result"
    }
   ],
   "source": [
    "term_2 = abc(1-df.Z,df.Y,1-df.e1) + abc(df.Z-df.e1,df.Y1_0,1-df.e1)\n",
    "term_2"
   ]
  },
  {
   "cell_type": "code",
   "execution_count": 122,
   "metadata": {},
   "outputs": [
    {
     "data": {
      "text/plain": [
       "-0.6101957956988997"
      ]
     },
     "execution_count": 122,
     "metadata": {},
     "output_type": "execute_result"
    }
   ],
   "source": [
    "term_1 - term_2"
   ]
  },
  {
   "cell_type": "code",
   "execution_count": 127,
   "metadata": {},
   "outputs": [
    {
     "data": {
      "text/plain": [
       "'202.35 - 202.06 = 0.29'"
      ]
     },
     "execution_count": 127,
     "metadata": {},
     "output_type": "execute_result"
    }
   ],
   "source": [
    "term_1 = abc(df.Z,df.Y,df.e1) - abc(df.Z-df.e1,df.Y2_1,df.e1)\n",
    "term_2 = abc(1-df.Z,df.Y,1-df.e1) + abc(df.Z-df.e1,df.Y2_0,1-df.e1)\n",
    "f\"{term_1:.2f} - {term_2:.2f} = {(term_1-term_2):.2f}\"#-.33"
   ]
  },
  {
   "cell_type": "code",
   "execution_count": 126,
   "metadata": {},
   "outputs": [
    {
     "data": {
      "text/plain": [
       "'201.88 - 202.50 = -0.62'"
      ]
     },
     "execution_count": 126,
     "metadata": {},
     "output_type": "execute_result"
    }
   ],
   "source": [
    "term_1 = abc(df.Z,df.Y,df.e2) - abc(df.Z-df.e2,df.Y1_1,df.e2)\n",
    "term_2 = abc(1-df.Z,df.Y,1-df.e2) + abc(df.Z-df.e2,df.Y1_0,1-df.e2)\n",
    "f\"{term_1:.2f} - {term_2:.2f} = {(term_1-term_2):.2f}\""
   ]
  },
  {
   "cell_type": "code",
   "execution_count": 128,
   "metadata": {},
   "outputs": [
    {
     "data": {
      "text/plain": [
       "'193.04 - 192.24 = 0.80'"
      ]
     },
     "execution_count": 128,
     "metadata": {},
     "output_type": "execute_result"
    }
   ],
   "source": [
    "term_1 = abc(df.Z,df.Y,df.e2) - abc(df.Z-df.e2,df.Y2_1,df.e2)\n",
    "term_2 = abc(1-df.Z,df.Y,1-df.e2) + abc(df.Z-df.e2,df.Y2_0,1-df.e2)\n",
    "f\"{term_1:.2f} - {term_2:.2f} = {(term_1-term_2):.2f}\""
   ]
  },
  {
   "cell_type": "code",
   "execution_count": 3,
   "metadata": {},
   "outputs": [],
   "source": [
    "from causallib.estimation import Matching\n",
    "from causallib.tests.test_matching import TestMatching\n",
    "m = Matching()\n",
    "m.caliper = 0\n",
    "m.with_replacement = False\n"
   ]
  },
  {
   "cell_type": "code",
   "execution_count": 6,
   "metadata": {},
   "outputs": [
    {
     "name": "stderr",
     "output_type": "stream",
     "text": [
      "/home/micha/CausalInference/causallib/estimation/matching.py:740: UserWarning: No matches found, check caliper.No estimation possible.\n",
      "  warnings.warn(\"No matches found, check caliper.\"\n"
     ]
    },
    {
     "data": {
      "text/html": [
       "<div>\n",
       "<style scoped>\n",
       "    .dataframe tbody tr th:only-of-type {\n",
       "        vertical-align: middle;\n",
       "    }\n",
       "\n",
       "    .dataframe tbody tr th {\n",
       "        vertical-align: top;\n",
       "    }\n",
       "\n",
       "    .dataframe thead th {\n",
       "        text-align: right;\n",
       "    }\n",
       "</style>\n",
       "<table border=\"1\" class=\"dataframe\">\n",
       "  <thead>\n",
       "    <tr style=\"text-align: right;\">\n",
       "      <th></th>\n",
       "      <th></th>\n",
       "      <th>distances</th>\n",
       "      <th>matches</th>\n",
       "    </tr>\n",
       "    <tr>\n",
       "      <th>match_to_treatment</th>\n",
       "      <th>sample_id</th>\n",
       "      <th></th>\n",
       "      <th></th>\n",
       "    </tr>\n",
       "  </thead>\n",
       "  <tbody>\n",
       "    <tr>\n",
       "      <th rowspan=\"5\" valign=\"top\">0</th>\n",
       "      <th>0</th>\n",
       "      <td>[]</td>\n",
       "      <td>[]</td>\n",
       "    </tr>\n",
       "    <tr>\n",
       "      <th>1</th>\n",
       "      <td>[]</td>\n",
       "      <td>[]</td>\n",
       "    </tr>\n",
       "    <tr>\n",
       "      <th>2</th>\n",
       "      <td>[]</td>\n",
       "      <td>[]</td>\n",
       "    </tr>\n",
       "    <tr>\n",
       "      <th>3</th>\n",
       "      <td>[]</td>\n",
       "      <td>[]</td>\n",
       "    </tr>\n",
       "    <tr>\n",
       "      <th>4</th>\n",
       "      <td>[]</td>\n",
       "      <td>[]</td>\n",
       "    </tr>\n",
       "    <tr>\n",
       "      <th>...</th>\n",
       "      <th>...</th>\n",
       "      <td>...</td>\n",
       "      <td>...</td>\n",
       "    </tr>\n",
       "    <tr>\n",
       "      <th rowspan=\"5\" valign=\"top\">1</th>\n",
       "      <th>495</th>\n",
       "      <td>[]</td>\n",
       "      <td>[]</td>\n",
       "    </tr>\n",
       "    <tr>\n",
       "      <th>496</th>\n",
       "      <td>[]</td>\n",
       "      <td>[]</td>\n",
       "    </tr>\n",
       "    <tr>\n",
       "      <th>497</th>\n",
       "      <td>[]</td>\n",
       "      <td>[]</td>\n",
       "    </tr>\n",
       "    <tr>\n",
       "      <th>498</th>\n",
       "      <td>[]</td>\n",
       "      <td>[]</td>\n",
       "    </tr>\n",
       "    <tr>\n",
       "      <th>499</th>\n",
       "      <td>[]</td>\n",
       "      <td>[]</td>\n",
       "    </tr>\n",
       "  </tbody>\n",
       "</table>\n",
       "<p>1000 rows × 2 columns</p>\n",
       "</div>"
      ],
      "text/plain": [
       "                             distances matches\n",
       "match_to_treatment sample_id                  \n",
       "0                  0                []      []\n",
       "                   1                []      []\n",
       "                   2                []      []\n",
       "                   3                []      []\n",
       "                   4                []      []\n",
       "...                                ...     ...\n",
       "1                  495              []      []\n",
       "                   496              []      []\n",
       "                   497              []      []\n",
       "                   498              []      []\n",
       "                   499              []      []\n",
       "\n",
       "[1000 rows x 2 columns]"
      ]
     },
     "execution_count": 6,
     "metadata": {},
     "output_type": "execute_result"
    }
   ],
   "source": [
    "TestMatching.setUpClass()\n",
    "X, a, y = TestMatching.data_3feature_linear_effect\n",
    "m.fit(X, a, y)\n",
    "m._execute_matching(X, a)"
   ]
  },
  {
   "cell_type": "code",
   "execution_count": 21,
   "metadata": {},
   "outputs": [
    {
     "data": {
      "text/plain": [
       "True"
      ]
     },
     "execution_count": 21,
     "metadata": {},
     "output_type": "execute_result"
    }
   ],
   "source": [
    "m.estimate_individual_outcome(X, a,dropna=False).isna().all(axis=None)"
   ]
  },
  {
   "cell_type": "code",
   "execution_count": null,
   "metadata": {},
   "outputs": [],
   "source": [
    "m.estimate_individual_outcome(X, a,dropna=False).isna().all"
   ]
  },
  {
   "cell_type": "code",
   "execution_count": 9,
   "metadata": {},
   "outputs": [
    {
     "ename": "ValueError",
     "evalue": "Matching was not successful and no outcomes can be estimated. Check caliper value.",
     "output_type": "error",
     "traceback": [
      "\u001b[0;31m---------------------------------------------------------------------------\u001b[0m",
      "\u001b[0;31mValueError\u001b[0m                                Traceback (most recent call last)",
      "\u001b[0;32m<ipython-input-9-9fdd4b622d99>\u001b[0m in \u001b[0;36m<module>\u001b[0;34m\u001b[0m\n\u001b[0;32m----> 1\u001b[0;31m \u001b[0mm\u001b[0m\u001b[0;34m.\u001b[0m\u001b[0m_get_match_df\u001b[0m\u001b[0;34m(\u001b[0m\u001b[0;32mTrue\u001b[0m\u001b[0;34m)\u001b[0m\u001b[0;34m\u001b[0m\u001b[0;34m\u001b[0m\u001b[0m\n\u001b[0m",
      "\u001b[0;32m~/CausalInference/causallib/estimation/matching.py\u001b[0m in \u001b[0;36m_get_match_df\u001b[0;34m(self, successful_matches_only)\u001b[0m\n\u001b[1;32m    460\u001b[0m             \u001b[0mmatch_df\u001b[0m \u001b[0;34m=\u001b[0m \u001b[0mmatch_df\u001b[0m\u001b[0;34m[\u001b[0m\u001b[0mmatch_df\u001b[0m\u001b[0;34m.\u001b[0m\u001b[0mmatches\u001b[0m\u001b[0;34m.\u001b[0m\u001b[0mapply\u001b[0m\u001b[0;34m(\u001b[0m\u001b[0mbool\u001b[0m\u001b[0;34m)\u001b[0m\u001b[0;34m]\u001b[0m\u001b[0;34m\u001b[0m\u001b[0;34m\u001b[0m\u001b[0m\n\u001b[1;32m    461\u001b[0m         \u001b[0;32mif\u001b[0m \u001b[0mmatch_df\u001b[0m\u001b[0;34m.\u001b[0m\u001b[0mempty\u001b[0m\u001b[0;34m:\u001b[0m\u001b[0;34m\u001b[0m\u001b[0;34m\u001b[0m\u001b[0m\n\u001b[0;32m--> 462\u001b[0;31m             raise ValueError(\n\u001b[0m\u001b[1;32m    463\u001b[0m                 \u001b[0;34m\"Matching was not successful and no outcomes can be \"\u001b[0m\u001b[0;34m\u001b[0m\u001b[0;34m\u001b[0m\u001b[0m\n\u001b[1;32m    464\u001b[0m                 \u001b[0;34m\"estimated. Check caliper value.\"\u001b[0m\u001b[0;34m\u001b[0m\u001b[0;34m\u001b[0m\u001b[0m\n",
      "\u001b[0;31mValueError\u001b[0m: Matching was not successful and no outcomes can be estimated. Check caliper value."
     ]
    }
   ],
   "source": []
  },
  {
   "cell_type": "markdown",
   "metadata": {},
   "source": [
    "{1, 3}"
   ]
  },
  {
   "cell_type": "code",
   "execution_count": 27,
   "metadata": {},
   "outputs": [
    {
     "data": {
      "text/plain": [
       "{0, 1, 2, 3, 4}"
      ]
     },
     "execution_count": 27,
     "metadata": {},
     "output_type": "execute_result"
    }
   ],
   "source": [
    "{i//2 for i in range(10)}"
   ]
  },
  {
   "cell_type": "code",
   "execution_count": 32,
   "metadata": {},
   "outputs": [
    {
     "data": {
      "text/plain": [
       "array([[0.04502435, 0.18664479, 0.21409148, 0.39187012]])"
      ]
     },
     "execution_count": 32,
     "metadata": {},
     "output_type": "execute_result"
    }
   ],
   "source": [
    "import numpy as np\n",
    "np.random.random((1,4))"
   ]
  },
  {
   "cell_type": "code",
   "execution_count": 40,
   "metadata": {},
   "outputs": [],
   "source": [
    "import pandas as pd\n",
    "a=pd.DataFrame(index=[1,2,3,4])\n",
    "b=pd.DataFrame(index=[2,3,4,1])\n",
    "c=pd.DataFrame(index=[1,2,3,4])\n",
    "\n",
    "assert(not all(a.index == b.index))\n",
    "assert(all(a.index == c.index))\n",
    "assert(not a.index.equals(b.index))\n",
    "assert(a.index.equals(c.index))"
   ]
  },
  {
   "cell_type": "code",
   "execution_count": null,
   "metadata": {},
   "outputs": [],
   "source": []
  }
 ],
 "metadata": {
  "kernelspec": {
   "display_name": "Python 3",
   "language": "python",
   "name": "python3"
  },
  "language_info": {
   "codemirror_mode": {
    "name": "ipython",
    "version": 3
   },
   "file_extension": ".py",
   "mimetype": "text/x-python",
   "name": "python",
   "nbconvert_exporter": "python",
   "pygments_lexer": "ipython3",
   "version": "3.8.5"
  }
 },
 "nbformat": 4,
 "nbformat_minor": 4
}

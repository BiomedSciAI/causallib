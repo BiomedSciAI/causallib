{
 "cells": [
  {
   "cell_type": "code",
   "execution_count": 1,
   "metadata": {},
   "outputs": [],
   "source": [
    "from causallib.datasets import load_nhefs,load_card_krueger\n",
    "def load_lalonde_local(limit_to=None):\n",
    "    from sklearn.utils import Bunch\n",
    "    lalonde = pd.read_csv(\"~/lalonde_data.csv\")\n",
    "    if limit_to:\n",
    "        lalonde = lalonde.sample(limit_to)\n",
    "        lalonde = lalonde.loc[:, (lalonde != 0).any(axis=0)]\n",
    "    lalonde = lalonde[[i for i in lalonde.columns if \"education\" not in i]]\n",
    "    lalonde = lalonde.set_index(\"sample_id\")\n",
    "    a = lalonde.pop(\"training\").astype(int)\n",
    "    y = lalonde.pop(\"re78\")\n",
    "    X = lalonde\n",
    "    return Bunch(X=X,a=a,y=y)\n",
    "import numpy as np\n",
    "import pandas as pd\n",
    "import matplotlib.pyplot as plt\n",
    "from causallib.estimation import Matching,MatchingIndividualOutcomeEstimator,MatchingTransformer\n",
    "from causallib.estimation import faiss_knn_wrapper \n",
    "from causallib.preprocessing.transformers import PropensityTransformer\n",
    "from sklearn.linear_model import LogisticRegression\n",
    "import faiss\n",
    "%load_ext autoreload\n",
    "%autoreload 2"
   ]
  },
  {
   "cell_type": "code",
   "execution_count": 2,
   "metadata": {},
   "outputs": [],
   "source": [
    "data = load_lalonde_local()\n",
    "X,a,y = data.X,data.a,data.y"
   ]
  },
  {
   "cell_type": "code",
   "execution_count": 3,
   "metadata": {},
   "outputs": [],
   "source": [
    "Xaprop = PropensityTransformer(learner=LogisticRegression(solver=\"liblinear\",class_weight=\"balanced\")).fit(X,a).transform(X).join(a)[[\"propensity\",\"training\"]]"
   ]
  },
  {
   "cell_type": "code",
   "execution_count": 74,
   "metadata": {},
   "outputs": [
    {
     "data": {
      "text/html": [
       "<div>\n",
       "<style scoped>\n",
       "    .dataframe tbody tr th:only-of-type {\n",
       "        vertical-align: middle;\n",
       "    }\n",
       "\n",
       "    .dataframe tbody tr th {\n",
       "        vertical-align: top;\n",
       "    }\n",
       "\n",
       "    .dataframe thead th {\n",
       "        text-align: right;\n",
       "    }\n",
       "</style>\n",
       "<table border=\"1\" class=\"dataframe\">\n",
       "  <thead>\n",
       "    <tr style=\"text-align: right;\">\n",
       "      <th></th>\n",
       "      <th>propensity</th>\n",
       "    </tr>\n",
       "    <tr>\n",
       "      <th>training</th>\n",
       "      <th></th>\n",
       "    </tr>\n",
       "  </thead>\n",
       "  <tbody>\n",
       "    <tr>\n",
       "      <th>0</th>\n",
       "      <td>0.149679</td>\n",
       "    </tr>\n",
       "    <tr>\n",
       "      <th>1</th>\n",
       "      <td>0.850449</td>\n",
       "    </tr>\n",
       "  </tbody>\n",
       "</table>\n",
       "</div>"
      ],
      "text/plain": [
       "          propensity\n",
       "training            \n",
       "0           0.149679\n",
       "1           0.850449"
      ]
     },
     "execution_count": 74,
     "metadata": {},
     "output_type": "execute_result"
    }
   ],
   "source": [
    "Xaprop.groupby(\"training\").mean()"
   ]
  },
  {
   "cell_type": "code",
   "execution_count": 5,
   "metadata": {},
   "outputs": [
    {
     "data": {
      "text/plain": [
       "0    8655.246013\n",
       "1    7278.533109\n",
       "dtype: float64"
      ]
     },
     "execution_count": 5,
     "metadata": {},
     "output_type": "execute_result"
    }
   ],
   "source": [
    "learner = lambda : LogisticRegression(solver=\"liblinear\",max_iter=5000,class_weight=\"balanced\")\n",
    "proptrans=PropensityTransformer(learner=learner(),include_covariates=True)\n",
    "m=Matching(propensity_transform=proptrans,caliper=0.001).fit(X,a,y)\n",
    "m.estimate_population_outcome(X,a,y)"
   ]
  },
  {
   "cell_type": "code",
   "execution_count": 6,
   "metadata": {},
   "outputs": [
    {
     "data": {
      "text/plain": [
       "<AxesSubplot:>"
      ]
     },
     "execution_count": 6,
     "metadata": {},
     "output_type": "execute_result"
    },
    {
     "data": {
      "image/png": "[encoded data removed]",
      "text/plain": [
       "<Figure size 432x288 with 1 Axes>"
      ]
     },
     "metadata": {
      "needs_background": "light"
     },
     "output_type": "display_data"
    }
   ],
   "source": [
    "m.get_covariates_of_matches(1,0,X).match.distance.hist()"
   ]
  },
  {
   "cell_type": "code",
   "execution_count": null,
   "metadata": {},
   "outputs": [],
   "source": []
  },
  {
   "cell_type": "code",
   "execution_count": null,
   "metadata": {},
   "outputs": [],
   "source": []
  },
  {
   "cell_type": "code",
   "execution_count": 7,
   "metadata": {},
   "outputs": [],
   "source": [
    "index = faiss.IndexFlatL2(X.shape[1])\n",
    "index.add(np.ascontiguousarray(X.values).astype(\"float32\"))"
   ]
  },
  {
   "cell_type": "code",
   "execution_count": 8,
   "metadata": {},
   "outputs": [
    {
     "name": "stdout",
     "output_type": "stream",
     "text": [
      "1.16 s ± 4.58 ms per loop (mean ± std. dev. of 7 runs, 1 loop each)\n"
     ]
    }
   ],
   "source": [
    "%timeit index.search(np.ascontiguousarray(X.values).astype(\"float32\"),2)"
   ]
  },
  {
   "cell_type": "code",
   "execution_count": 9,
   "metadata": {},
   "outputs": [],
   "source": [
    "nlist = 100\n",
    "k = 4\n",
    "d = X.shape[1]\n",
    "quantizer = faiss.IndexFlatL2(d)  # the other index\n",
    "index = faiss.IndexIVFFlat(quantizer, d, nlist)\n",
    "assert not index.is_trained\n",
    "index.train(np.ascontiguousarray(X.values.astype(\"float32\")))\n",
    "assert index.is_trained\n",
    "index.add(np.ascontiguousarray(X.values.astype(\"float32\")))"
   ]
  },
  {
   "cell_type": "code",
   "execution_count": 10,
   "metadata": {},
   "outputs": [
    {
     "name": "stdout",
     "output_type": "stream",
     "text": [
      "119 ms ± 8.3 ms per loop (mean ± std. dev. of 7 runs, 10 loops each)\n"
     ]
    }
   ],
   "source": [
    "index.nprobe = 1\n",
    "%timeit index.search(np.ascontiguousarray(X.values).astype(\"float32\"),10)"
   ]
  },
  {
   "cell_type": "code",
   "execution_count": 11,
   "metadata": {},
   "outputs": [
    {
     "name": "stdout",
     "output_type": "stream",
     "text": [
      "122 ms ± 2.77 ms per loop (mean ± std. dev. of 7 runs, 10 loops each)\n"
     ]
    }
   ],
   "source": [
    "index.nprobe = 10\n",
    "%timeit index.search(np.ascontiguousarray(X.values).astype(\"float32\"),2)"
   ]
  },
  {
   "cell_type": "code",
   "execution_count": 12,
   "metadata": {},
   "outputs": [
    {
     "data": {
      "text/plain": [
       "array([[0.08031266]])"
      ]
     },
     "execution_count": 12,
     "metadata": {},
     "output_type": "execute_result"
    }
   ],
   "source": [
    "from sklearn.covariance import EmpiricalCovariance\n",
    "EmpiricalCovariance().fit(np.random.random(10)[:,np.newaxis]).covariance_"
   ]
  },
  {
   "cell_type": "code",
   "execution_count": 13,
   "metadata": {},
   "outputs": [
    {
     "data": {
      "text/plain": [
       "(100, 1)"
      ]
     },
     "execution_count": 13,
     "metadata": {},
     "output_type": "execute_result"
    }
   ],
   "source": [
    "pd.DataFrame(pd.Series(np.arange(100))).values.shape"
   ]
  },
  {
   "cell_type": "code",
   "execution_count": null,
   "metadata": {},
   "outputs": [],
   "source": [
    "def test_backend(backend=\"sklearn\"):\n",
    "    m = Matching(knn_backend=backend,n_neighbors=3,metric=\"euclidean\")\n",
    "    m.fit(X,a,y)\n",
    "    Y = m.estimate_population_outcome(X,a,y)\n",
    "    print(Y[1] - Y[0])\n",
    "    return m.match_df_"
   ]
  },
  {
   "cell_type": "code",
   "execution_count": 26,
   "metadata": {},
   "outputs": [
    {
     "name": "stdout",
     "output_type": "stream",
     "text": [
      "-6817.958665665416\n"
     ]
    }
   ],
   "source": [
    "mivf = test_backend(\"faiss_ivfflat\")\n",
    "msk =  test_backend(\"sklearn\")\n",
    "mfl2 = test_backend(\"faiss_flatl2\")\n",
    "\n",
    "allmatches = mivf.join(msk,rsuffix=\"sk\",lsuffix=\"ivf\").join(mfl2,rsuffix=\"fl2\")\n",
    "allmatches1to0 = allmatches.loc[0][allmatches.loc[0].join(a).training==1]\n",
    "allmatches0to1 = allmatches.loc[1][allmatches.loc[1].join(a).training==0]"
   ]
  },
  {
   "cell_type": "code",
   "execution_count": 37,
   "metadata": {},
   "outputs": [
    {
     "data": {
      "text/html": [
       "<div>\n",
       "<style scoped>\n",
       "    .dataframe tbody tr th:only-of-type {\n",
       "        vertical-align: middle;\n",
       "    }\n",
       "\n",
       "    .dataframe tbody tr th {\n",
       "        vertical-align: top;\n",
       "    }\n",
       "\n",
       "    .dataframe thead th {\n",
       "        text-align: right;\n",
       "    }\n",
       "</style>\n",
       "<table border=\"1\" class=\"dataframe\">\n",
       "  <thead>\n",
       "    <tr style=\"text-align: right;\">\n",
       "      <th></th>\n",
       "      <th>distancesivf</th>\n",
       "      <th>matchesivf</th>\n",
       "      <th>distancessk</th>\n",
       "      <th>matchessk</th>\n",
       "      <th>distances</th>\n",
       "      <th>matches</th>\n",
       "    </tr>\n",
       "    <tr>\n",
       "      <th>sample_id</th>\n",
       "      <th></th>\n",
       "      <th></th>\n",
       "      <th></th>\n",
       "      <th></th>\n",
       "      <th></th>\n",
       "      <th></th>\n",
       "    </tr>\n",
       "  </thead>\n",
       "  <tbody>\n",
       "    <tr>\n",
       "      <th>180</th>\n",
       "      <td>[273.87527, 311.03854, 340.40643]</td>\n",
       "      <td>[3394, 16402, 19962]</td>\n",
       "      <td>[273.8757216330068, 311.03807162468036, 340.40...</td>\n",
       "      <td>[3394, 16402, 19962]</td>\n",
       "      <td>[273.8759, 311.07556, 340.44678]</td>\n",
       "      <td>[3394, 16402, 11469]</td>\n",
       "    </tr>\n",
       "    <tr>\n",
       "      <th>90</th>\n",
       "      <td>[0.0, 0.0, 1.0]</td>\n",
       "      <td>[15779, 288, 5807]</td>\n",
       "      <td>[0.0, 0.0, 1.0]</td>\n",
       "      <td>[15779, 288, 22104]</td>\n",
       "      <td>[0.0, 0.0, 1.0]</td>\n",
       "      <td>[15779, 288, 14658]</td>\n",
       "    </tr>\n",
       "    <tr>\n",
       "      <th>51</th>\n",
       "      <td>[0.0, 0.0, 1.0]</td>\n",
       "      <td>[15779, 288, 5807]</td>\n",
       "      <td>[0.0, 0.0, 1.0]</td>\n",
       "      <td>[15779, 288, 22104]</td>\n",
       "      <td>[0.0, 0.0, 1.0]</td>\n",
       "      <td>[15779, 288, 14658]</td>\n",
       "    </tr>\n",
       "    <tr>\n",
       "      <th>18</th>\n",
       "      <td>[1.0, 1.0, 1.0]</td>\n",
       "      <td>[10989, 21579, 21468]</td>\n",
       "      <td>[1.0, 1.0, 1.0]</td>\n",
       "      <td>[13936, 21468, 10989]</td>\n",
       "      <td>[1.0, 1.0, 1.0]</td>\n",
       "      <td>[10989, 13936, 21468]</td>\n",
       "    </tr>\n",
       "  </tbody>\n",
       "</table>\n",
       "</div>"
      ],
      "text/plain": [
       "                                distancesivf             matchesivf  \\\n",
       "sample_id                                                             \n",
       "180        [273.87527, 311.03854, 340.40643]   [3394, 16402, 19962]   \n",
       "90                           [0.0, 0.0, 1.0]     [15779, 288, 5807]   \n",
       "51                           [0.0, 0.0, 1.0]     [15779, 288, 5807]   \n",
       "18                           [1.0, 1.0, 1.0]  [10989, 21579, 21468]   \n",
       "\n",
       "                                                 distancessk  \\\n",
       "sample_id                                                      \n",
       "180        [273.8757216330068, 311.03807162468036, 340.40...   \n",
       "90                                           [0.0, 0.0, 1.0]   \n",
       "51                                           [0.0, 0.0, 1.0]   \n",
       "18                                           [1.0, 1.0, 1.0]   \n",
       "\n",
       "                       matchessk                         distances  \\\n",
       "sample_id                                                            \n",
       "180         [3394, 16402, 19962]  [273.8759, 311.07556, 340.44678]   \n",
       "90           [15779, 288, 22104]                   [0.0, 0.0, 1.0]   \n",
       "51           [15779, 288, 22104]                   [0.0, 0.0, 1.0]   \n",
       "18         [13936, 21468, 10989]                   [1.0, 1.0, 1.0]   \n",
       "\n",
       "                         matches  \n",
       "sample_id                         \n",
       "180         [3394, 16402, 11469]  \n",
       "90           [15779, 288, 14658]  \n",
       "51           [15779, 288, 14658]  \n",
       "18         [10989, 13936, 21468]  "
      ]
     },
     "execution_count": 37,
     "metadata": {},
     "output_type": "execute_result"
    }
   ],
   "source": [
    "allmatches1to0.loc[(allmatches1to0.matches.apply(lambda x: tuple(sorted(x))) != allmatches1to0.matchesivf.apply(lambda x: tuple(sorted(x))))]"
   ]
  },
  {
   "cell_type": "code",
   "execution_count": 32,
   "metadata": {},
   "outputs": [
    {
     "data": {
      "text/html": [
       "<div>\n",
       "<style scoped>\n",
       "    .dataframe tbody tr th:only-of-type {\n",
       "        vertical-align: middle;\n",
       "    }\n",
       "\n",
       "    .dataframe tbody tr th {\n",
       "        vertical-align: top;\n",
       "    }\n",
       "\n",
       "    .dataframe thead th {\n",
       "        text-align: right;\n",
       "    }\n",
       "</style>\n",
       "<table border=\"1\" class=\"dataframe\">\n",
       "  <thead>\n",
       "    <tr style=\"text-align: right;\">\n",
       "      <th></th>\n",
       "      <th>distancesivf</th>\n",
       "      <th>matchesivf</th>\n",
       "      <th>distancessk</th>\n",
       "      <th>matchessk</th>\n",
       "      <th>distances</th>\n",
       "      <th>matches</th>\n",
       "    </tr>\n",
       "    <tr>\n",
       "      <th>sample_id</th>\n",
       "      <th></th>\n",
       "      <th></th>\n",
       "      <th></th>\n",
       "      <th></th>\n",
       "      <th></th>\n",
       "      <th></th>\n",
       "    </tr>\n",
       "  </thead>\n",
       "  <tbody>\n",
       "    <tr>\n",
       "      <th>16827</th>\n",
       "      <td>[77.270775, 77.270775, 77.277245]</td>\n",
       "      <td>[19, 95, 34]</td>\n",
       "      <td>[77.27077670595074, 77.27077670595074, 77.2772...</td>\n",
       "      <td>[95, 19, 87]</td>\n",
       "      <td>[77.270775, 77.270775, 77.277245]</td>\n",
       "      <td>[19, 95, 34]</td>\n",
       "    </tr>\n",
       "    <tr>\n",
       "      <th>5412</th>\n",
       "      <td>[2724.498, 4695.949, 5220.586]</td>\n",
       "      <td>[182, 180, 183]</td>\n",
       "      <td>[2724.4980468702856, 4695.949451655118, 5220.5...</td>\n",
       "      <td>[182, 180, 183]</td>\n",
       "      <td>[2724.4905, 4695.9385, 5220.587]</td>\n",
       "      <td>[182, 180, 183]</td>\n",
       "    </tr>\n",
       "    <tr>\n",
       "      <th>15399</th>\n",
       "      <td>[449.90527, 1060.3557, 1225.269]</td>\n",
       "      <td>[149, 153, 142]</td>\n",
       "      <td>[449.9053638099909, 1060.355763939631, 1225.26...</td>\n",
       "      <td>[149, 153, 142]</td>\n",
       "      <td>[449.89777, 1060.3584, 1225.2673]</td>\n",
       "      <td>[149, 153, 142]</td>\n",
       "    </tr>\n",
       "    <tr>\n",
       "      <th>13077</th>\n",
       "      <td>[3259.7544, 3858.9976, 10671.215]</td>\n",
       "      <td>[174, 180, 133]</td>\n",
       "      <td>[3259.7541578431965, 3858.9973933077467, 10671...</td>\n",
       "      <td>[174, 180, 133]</td>\n",
       "      <td>[3259.762, 3858.9863, 10671.211]</td>\n",
       "      <td>[174, 180, 133]</td>\n",
       "    </tr>\n",
       "    <tr>\n",
       "      <th>2189</th>\n",
       "      <td>[7.1414285, 9.055386, 9.165152]</td>\n",
       "      <td>[31, 38, 71]</td>\n",
       "      <td>[7.14142842854285, 9.055385138137417, 9.165151...</td>\n",
       "      <td>[31, 38, 71]</td>\n",
       "      <td>[7.1414285, 9.055386, 9.165152]</td>\n",
       "      <td>[31, 38, 71]</td>\n",
       "    </tr>\n",
       "    <tr>\n",
       "      <th>...</th>\n",
       "      <td>...</td>\n",
       "      <td>...</td>\n",
       "      <td>...</td>\n",
       "      <td>...</td>\n",
       "      <td>...</td>\n",
       "      <td>...</td>\n",
       "    </tr>\n",
       "    <tr>\n",
       "      <th>11964</th>\n",
       "      <td>[1422.3102, 1461.2595, 1746.076]</td>\n",
       "      <td>[164, 162, 140]</td>\n",
       "      <td>[1422.3100723938508, 1461.2593259065968, 1746....</td>\n",
       "      <td>[164, 162, 140]</td>\n",
       "      <td>[1422.3024, 1461.2653, 1746.0768]</td>\n",
       "      <td>[164, 162, 140]</td>\n",
       "    </tr>\n",
       "    <tr>\n",
       "      <th>21575</th>\n",
       "      <td>[0.0, 0.0, 0.0]</td>\n",
       "      <td>[42, 47, 46]</td>\n",
       "      <td>[0.0, 0.0, 0.0]</td>\n",
       "      <td>[46, 55, 42]</td>\n",
       "      <td>[0.0, 0.0, 0.0]</td>\n",
       "      <td>[42, 47, 46]</td>\n",
       "    </tr>\n",
       "    <tr>\n",
       "      <th>5390</th>\n",
       "      <td>[4108.965, 4205.809, 4412.1333]</td>\n",
       "      <td>[133, 141, 151]</td>\n",
       "      <td>[4108.964819037028, 4205.808497716461, 4412.13...</td>\n",
       "      <td>[133, 141, 151]</td>\n",
       "      <td>[4108.9717, 4205.813, 4412.136]</td>\n",
       "      <td>[133, 141, 151]</td>\n",
       "    </tr>\n",
       "    <tr>\n",
       "      <th>860</th>\n",
       "      <td>[2575.0637, 2687.3223, 9235.7705]</td>\n",
       "      <td>[183, 182, 178]</td>\n",
       "      <td>[2575.0631509011587, 2687.3225717745536, 9235....</td>\n",
       "      <td>[183, 182, 178]</td>\n",
       "      <td>[2575.068, 2687.3213, 9235.769]</td>\n",
       "      <td>[183, 182, 178]</td>\n",
       "    </tr>\n",
       "    <tr>\n",
       "      <th>15795</th>\n",
       "      <td>[7191.9224, 10167.33, 10723.153]</td>\n",
       "      <td>[180, 174, 183]</td>\n",
       "      <td>[7191.921920516102, 10167.330641906163, 10723....</td>\n",
       "      <td>[180, 174, 183]</td>\n",
       "      <td>[7191.9155, 10167.33, 10723.151]</td>\n",
       "      <td>[180, 174, 183]</td>\n",
       "    </tr>\n",
       "  </tbody>\n",
       "</table>\n",
       "<p>21921 rows × 6 columns</p>\n",
       "</div>"
      ],
      "text/plain": [
       "                                distancesivf       matchesivf  \\\n",
       "sample_id                                                       \n",
       "16827      [77.270775, 77.270775, 77.277245]     [19, 95, 34]   \n",
       "5412          [2724.498, 4695.949, 5220.586]  [182, 180, 183]   \n",
       "15399       [449.90527, 1060.3557, 1225.269]  [149, 153, 142]   \n",
       "13077      [3259.7544, 3858.9976, 10671.215]  [174, 180, 133]   \n",
       "2189         [7.1414285, 9.055386, 9.165152]     [31, 38, 71]   \n",
       "...                                      ...              ...   \n",
       "11964       [1422.3102, 1461.2595, 1746.076]  [164, 162, 140]   \n",
       "21575                        [0.0, 0.0, 0.0]     [42, 47, 46]   \n",
       "5390         [4108.965, 4205.809, 4412.1333]  [133, 141, 151]   \n",
       "860        [2575.0637, 2687.3223, 9235.7705]  [183, 182, 178]   \n",
       "15795       [7191.9224, 10167.33, 10723.153]  [180, 174, 183]   \n",
       "\n",
       "                                                 distancessk        matchessk  \\\n",
       "sample_id                                                                       \n",
       "16827      [77.27077670595074, 77.27077670595074, 77.2772...     [95, 19, 87]   \n",
       "5412       [2724.4980468702856, 4695.949451655118, 5220.5...  [182, 180, 183]   \n",
       "15399      [449.9053638099909, 1060.355763939631, 1225.26...  [149, 153, 142]   \n",
       "13077      [3259.7541578431965, 3858.9973933077467, 10671...  [174, 180, 133]   \n",
       "2189       [7.14142842854285, 9.055385138137417, 9.165151...     [31, 38, 71]   \n",
       "...                                                      ...              ...   \n",
       "11964      [1422.3100723938508, 1461.2593259065968, 1746....  [164, 162, 140]   \n",
       "21575                                        [0.0, 0.0, 0.0]     [46, 55, 42]   \n",
       "5390       [4108.964819037028, 4205.808497716461, 4412.13...  [133, 141, 151]   \n",
       "860        [2575.0631509011587, 2687.3225717745536, 9235....  [183, 182, 178]   \n",
       "15795      [7191.921920516102, 10167.330641906163, 10723....  [180, 174, 183]   \n",
       "\n",
       "                                   distances          matches  \n",
       "sample_id                                                      \n",
       "16827      [77.270775, 77.270775, 77.277245]     [19, 95, 34]  \n",
       "5412        [2724.4905, 4695.9385, 5220.587]  [182, 180, 183]  \n",
       "15399      [449.89777, 1060.3584, 1225.2673]  [149, 153, 142]  \n",
       "13077       [3259.762, 3858.9863, 10671.211]  [174, 180, 133]  \n",
       "2189         [7.1414285, 9.055386, 9.165152]     [31, 38, 71]  \n",
       "...                                      ...              ...  \n",
       "11964      [1422.3024, 1461.2653, 1746.0768]  [164, 162, 140]  \n",
       "21575                        [0.0, 0.0, 0.0]     [42, 47, 46]  \n",
       "5390         [4108.9717, 4205.813, 4412.136]  [133, 141, 151]  \n",
       "860          [2575.068, 2687.3213, 9235.769]  [183, 182, 178]  \n",
       "15795       [7191.9155, 10167.33, 10723.151]  [180, 174, 183]  \n",
       "\n",
       "[21921 rows x 6 columns]"
      ]
     },
     "execution_count": 32,
     "metadata": {},
     "output_type": "execute_result"
    }
   ],
   "source": [
    "allmatches0to1"
   ]
  },
  {
   "cell_type": "code",
   "execution_count": 60,
   "metadata": {},
   "outputs": [],
   "source": [
    "from sklearn.datasets import make_classification\n",
    "x, a = make_classification(\n",
    "            n_features=3,\n",
    "            n_samples=500,\n",
    "            n_informative=2,\n",
    "            n_redundant=0,\n",
    "            n_repeated=0,\n",
    "            n_classes=2,\n",
    "            n_clusters_per_class=1,\n",
    "            flip_y=0.0,\n",
    "            class_sep=1.0,\n",
    "            random_state=5432,\n",
    "        )\n",
    "x = (\n",
    "            pd.DataFrame(x)\n",
    "            .assign(treatment=a)\n",
    "            .assign(outcome=x @ (0.1, 0.2, 0.3) + 5 * a)\n",
    "        )\n",
    "a = x.pop(\"treatment\")\n",
    "y = x.pop(\"outcome\")\n",
    "x.columns = [f\"x{i}\" for i in range(len(x.columns))]\n",
    "def test_backend(backend=\"sklearn\"):\n",
    "    m = Matching(knn_backend=backend,n_neighbors=3,metric=\"euclidean\")\n",
    "    m.fit(x,a,y)\n",
    "    Y = m.estimate_population_outcome(x,a,y)\n",
    "    print(Y[1] - Y[0])\n",
    "    return m.match_df_"
   ]
  },
  {
   "cell_type": "code",
   "execution_count": 61,
   "metadata": {},
   "outputs": [
    {
     "name": "stdout",
     "output_type": "stream",
     "text": [
      "4.669280510988401\n",
      "4.669280510988401\n",
      "4.669280510988401\n"
     ]
    }
   ],
   "source": [
    "mivf = test_backend(\"faiss_ivfflat\")\n",
    "msk =  test_backend(\"sklearn\")\n",
    "mfl2 = test_backend(\"faiss_flatl2\")\n",
    "\n",
    "allmatches = mivf.join(msk,rsuffix=\"sk\",lsuffix=\"ivf\").join(mfl2,rsuffix=\"fl2\")\n",
    "allmatches1to0 = allmatches.loc[0][allmatches.loc[0].join(a).treatment==1]\n",
    "allmatches0to1 = allmatches.loc[1][allmatches.loc[1].join(a).treatment==0]"
   ]
  },
  {
   "cell_type": "code",
   "execution_count": 59,
   "metadata": {},
   "outputs": [
    {
     "data": {
      "text/html": [
       "<div>\n",
       "<style scoped>\n",
       "    .dataframe tbody tr th:only-of-type {\n",
       "        vertical-align: middle;\n",
       "    }\n",
       "\n",
       "    .dataframe tbody tr th {\n",
       "        vertical-align: top;\n",
       "    }\n",
       "\n",
       "    .dataframe thead th {\n",
       "        text-align: right;\n",
       "    }\n",
       "</style>\n",
       "<table border=\"1\" class=\"dataframe\">\n",
       "  <thead>\n",
       "    <tr style=\"text-align: right;\">\n",
       "      <th></th>\n",
       "      <th>distancesivf</th>\n",
       "      <th>matchesivf</th>\n",
       "      <th>distancessk</th>\n",
       "      <th>matchessk</th>\n",
       "      <th>distances</th>\n",
       "      <th>matches</th>\n",
       "    </tr>\n",
       "    <tr>\n",
       "      <th>sample_id</th>\n",
       "      <th></th>\n",
       "      <th></th>\n",
       "      <th></th>\n",
       "      <th></th>\n",
       "      <th></th>\n",
       "      <th></th>\n",
       "    </tr>\n",
       "  </thead>\n",
       "  <tbody>\n",
       "    <tr>\n",
       "      <th>1</th>\n",
       "      <td>[6.4554067, 6.5622897, 6.5640063]</td>\n",
       "      <td>[64, 24, 232]</td>\n",
       "      <td>[6.455406682797078, 6.562289216697217, 6.56400...</td>\n",
       "      <td>[64, 24, 232]</td>\n",
       "      <td>[6.4554067, 6.562289, 6.564006]</td>\n",
       "      <td>[64, 24, 232]</td>\n",
       "    </tr>\n",
       "    <tr>\n",
       "      <th>2</th>\n",
       "      <td>[4.570979, 4.6929183, 4.707032]</td>\n",
       "      <td>[24, 232, 64]</td>\n",
       "      <td>[4.570979256999741, 4.692918233262011, 4.70703...</td>\n",
       "      <td>[24, 232, 64]</td>\n",
       "      <td>[4.570979, 4.6929183, 4.707032]</td>\n",
       "      <td>[24, 232, 64]</td>\n",
       "    </tr>\n",
       "    <tr>\n",
       "      <th>6</th>\n",
       "      <td>[4.093994, 4.2224207, 4.254366]</td>\n",
       "      <td>[24, 232, 64]</td>\n",
       "      <td>[4.093994088036548, 4.222420437191992, 4.25436...</td>\n",
       "      <td>[24, 232, 64]</td>\n",
       "      <td>[4.093994, 4.2224207, 4.254366]</td>\n",
       "      <td>[24, 232, 64]</td>\n",
       "    </tr>\n",
       "    <tr>\n",
       "      <th>7</th>\n",
       "      <td>[5.845313, 5.965486, 5.9669003]</td>\n",
       "      <td>[64, 361, 373]</td>\n",
       "      <td>[5.845313220150424, 5.965486195009657, 5.96690...</td>\n",
       "      <td>[64, 361, 373]</td>\n",
       "      <td>[5.845313, 5.965486, 5.9669003]</td>\n",
       "      <td>[64, 361, 373]</td>\n",
       "    </tr>\n",
       "    <tr>\n",
       "      <th>8</th>\n",
       "      <td>[4.326772, 4.384822, 4.4000688]</td>\n",
       "      <td>[24, 64, 232]</td>\n",
       "      <td>[4.326771967450851, 4.384821775839641, 4.40006...</td>\n",
       "      <td>[24, 64, 232]</td>\n",
       "      <td>[4.3267717, 4.384822, 4.400069]</td>\n",
       "      <td>[24, 64, 232]</td>\n",
       "    </tr>\n",
       "    <tr>\n",
       "      <th>...</th>\n",
       "      <td>...</td>\n",
       "      <td>...</td>\n",
       "      <td>...</td>\n",
       "      <td>...</td>\n",
       "      <td>...</td>\n",
       "      <td>...</td>\n",
       "    </tr>\n",
       "    <tr>\n",
       "      <th>491</th>\n",
       "      <td>[5.0047674, 5.101507, 5.1181192]</td>\n",
       "      <td>[64, 361, 232]</td>\n",
       "      <td>[5.004767618234948, 5.101507057050451, 5.11811...</td>\n",
       "      <td>[64, 361, 232]</td>\n",
       "      <td>[5.0047674, 5.101507, 5.1181192]</td>\n",
       "      <td>[64, 361, 232]</td>\n",
       "    </tr>\n",
       "    <tr>\n",
       "      <th>492</th>\n",
       "      <td>[5.226806, 5.2371893, 5.283604]</td>\n",
       "      <td>[64, 24, 232]</td>\n",
       "      <td>[5.2268064724665715, 5.237189194945973, 5.2836...</td>\n",
       "      <td>[64, 24, 232]</td>\n",
       "      <td>[5.226806, 5.2371893, 5.2836037]</td>\n",
       "      <td>[64, 24, 232]</td>\n",
       "    </tr>\n",
       "    <tr>\n",
       "      <th>494</th>\n",
       "      <td>[3.4005675, 3.6704743, 3.8345392]</td>\n",
       "      <td>[24, 232, 64]</td>\n",
       "      <td>[3.4005674911317336, 3.6704743364769072, 3.834...</td>\n",
       "      <td>[24, 232, 64]</td>\n",
       "      <td>[3.4005675, 3.6704745, 3.8345392]</td>\n",
       "      <td>[24, 232, 64]</td>\n",
       "    </tr>\n",
       "    <tr>\n",
       "      <th>495</th>\n",
       "      <td>[4.0370007, 4.307783, 4.471863]</td>\n",
       "      <td>[24, 232, 64]</td>\n",
       "      <td>[4.037000325357873, 4.307783354822184, 4.47186...</td>\n",
       "      <td>[24, 232, 64]</td>\n",
       "      <td>[4.0370007, 4.307783, 4.4718633]</td>\n",
       "      <td>[24, 232, 64]</td>\n",
       "    </tr>\n",
       "    <tr>\n",
       "      <th>496</th>\n",
       "      <td>[5.7336035, 5.8179464, 5.833094]</td>\n",
       "      <td>[24, 64, 232]</td>\n",
       "      <td>[5.733603533367395, 5.8179461685077225, 5.8330...</td>\n",
       "      <td>[24, 64, 232]</td>\n",
       "      <td>[5.7336035, 5.8179464, 5.833094]</td>\n",
       "      <td>[24, 64, 232]</td>\n",
       "    </tr>\n",
       "  </tbody>\n",
       "</table>\n",
       "<p>250 rows × 6 columns</p>\n",
       "</div>"
      ],
      "text/plain": [
       "                                distancesivf      matchesivf  \\\n",
       "sample_id                                                      \n",
       "1          [6.4554067, 6.5622897, 6.5640063]   [64, 24, 232]   \n",
       "2            [4.570979, 4.6929183, 4.707032]   [24, 232, 64]   \n",
       "6            [4.093994, 4.2224207, 4.254366]   [24, 232, 64]   \n",
       "7            [5.845313, 5.965486, 5.9669003]  [64, 361, 373]   \n",
       "8            [4.326772, 4.384822, 4.4000688]   [24, 64, 232]   \n",
       "...                                      ...             ...   \n",
       "491         [5.0047674, 5.101507, 5.1181192]  [64, 361, 232]   \n",
       "492          [5.226806, 5.2371893, 5.283604]   [64, 24, 232]   \n",
       "494        [3.4005675, 3.6704743, 3.8345392]   [24, 232, 64]   \n",
       "495          [4.0370007, 4.307783, 4.471863]   [24, 232, 64]   \n",
       "496         [5.7336035, 5.8179464, 5.833094]   [24, 64, 232]   \n",
       "\n",
       "                                                 distancessk       matchessk  \\\n",
       "sample_id                                                                      \n",
       "1          [6.455406682797078, 6.562289216697217, 6.56400...   [64, 24, 232]   \n",
       "2          [4.570979256999741, 4.692918233262011, 4.70703...   [24, 232, 64]   \n",
       "6          [4.093994088036548, 4.222420437191992, 4.25436...   [24, 232, 64]   \n",
       "7          [5.845313220150424, 5.965486195009657, 5.96690...  [64, 361, 373]   \n",
       "8          [4.326771967450851, 4.384821775839641, 4.40006...   [24, 64, 232]   \n",
       "...                                                      ...             ...   \n",
       "491        [5.004767618234948, 5.101507057050451, 5.11811...  [64, 361, 232]   \n",
       "492        [5.2268064724665715, 5.237189194945973, 5.2836...   [64, 24, 232]   \n",
       "494        [3.4005674911317336, 3.6704743364769072, 3.834...   [24, 232, 64]   \n",
       "495        [4.037000325357873, 4.307783354822184, 4.47186...   [24, 232, 64]   \n",
       "496        [5.733603533367395, 5.8179461685077225, 5.8330...   [24, 64, 232]   \n",
       "\n",
       "                                   distances         matches  \n",
       "sample_id                                                     \n",
       "1            [6.4554067, 6.562289, 6.564006]   [64, 24, 232]  \n",
       "2            [4.570979, 4.6929183, 4.707032]   [24, 232, 64]  \n",
       "6            [4.093994, 4.2224207, 4.254366]   [24, 232, 64]  \n",
       "7            [5.845313, 5.965486, 5.9669003]  [64, 361, 373]  \n",
       "8            [4.3267717, 4.384822, 4.400069]   [24, 64, 232]  \n",
       "...                                      ...             ...  \n",
       "491         [5.0047674, 5.101507, 5.1181192]  [64, 361, 232]  \n",
       "492         [5.226806, 5.2371893, 5.2836037]   [64, 24, 232]  \n",
       "494        [3.4005675, 3.6704745, 3.8345392]   [24, 232, 64]  \n",
       "495         [4.0370007, 4.307783, 4.4718633]   [24, 232, 64]  \n",
       "496         [5.7336035, 5.8179464, 5.833094]   [24, 64, 232]  \n",
       "\n",
       "[250 rows x 6 columns]"
      ]
     },
     "execution_count": 59,
     "metadata": {},
     "output_type": "execute_result"
    }
   ],
   "source": [
    "allmatches0to1\n"
   ]
  },
  {
   "cell_type": "code",
   "execution_count": 83,
   "metadata": {},
   "outputs": [],
   "source": [
    "    def test_all_backends_agree():\n",
    "        test_matching.TestMatching.setUpClass()\n",
    "\n",
    "        self = test_matching.TestMatching()\n",
    "        selfmatching = Matching()\n",
    "        selfmatching.n_neighbors = 3\n",
    "\n",
    "        for data_identifier in self.data_identifiers:\n",
    "            x, a, y = self.get_data(data_identifier)\n",
    "            print(data_identifier)\n",
    "            def get_estimate_for_backend(backend, metric):\n",
    "                selfmatching.knn_backend = backend\n",
    "                selfmatching.metric = metric\n",
    "                selfmatching.fit(x, a, y)\n",
    "                Y = selfmatching.estimate_population_outcome(x, a, y)\n",
    "                return Y.values\n",
    "            euclidean_results, mahalanobis_results = [[], []]\n",
    "            for backend in [\"sklearn\", \"faiss_ivfflat\", \"faiss_flatl2\"]:\n",
    "                print(\"\\t\"+backend)\n",
    "                euclidean_results.append(\n",
    "                    get_estimate_for_backend(backend, \"euclidean\"))\n",
    "                mahalanobis_results.append(\n",
    "                    get_estimate_for_backend(backend, \"mahalanobis\"))\n",
    "            euclidean_results = np.array(euclidean_results)\n",
    "            mahalanobis_results = np.array(mahalanobis_results)\n",
    "            np.testing.assert_allclose(\n",
    "                euclidean_results - euclidean_results[0], 0)\n",
    "            np.testing.assert_allclose(\n",
    "                mahalanobis_results - mahalanobis_results[0], 0)\n",
    "            print(euclidean_results)\n",
    "            print(euclidean_results - euclidean_results[0])\n",
    "            print(mahalanobis_results)\n",
    "            print(mahalanobis_results - mahalanobis_results[0])\n",
    "            "
   ]
  },
  {
   "cell_type": "code",
   "execution_count": 84,
   "metadata": {},
   "outputs": [
    {
     "name": "stdout",
     "output_type": "stream",
     "text": [
      "serial_covariates\n",
      "\tsklearn\n",
      "\tfaiss_ivfflat\n",
      "\tfaiss_flatl2\n",
      "[[0.49240218 1.00883318]\n",
      " [0.49240218 1.00883318]\n",
      " [0.49240218 1.00883318]]\n",
      "[[0. 0.]\n",
      " [0. 0.]\n",
      " [0. 0.]]\n",
      "[[0.49240218 1.00883318]\n",
      " [0.49240218 1.00883318]\n",
      " [0.49240218 1.00883318]]\n",
      "[[0. 0.]\n",
      " [0. 0.]\n",
      " [0. 0.]]\n",
      "serial_covariates_unbalanced_treatments\n",
      "\tsklearn\n",
      "\tfaiss_ivfflat\n",
      "\tfaiss_flatl2\n",
      "[[45.41818182 14.72727273]\n",
      " [45.41818182 14.72727273]\n",
      " [45.41818182 14.72727273]]\n",
      "[[0. 0.]\n",
      " [0. 0.]\n",
      " [0. 0.]]\n",
      "[[45.41818182 14.72727273]\n",
      " [45.41818182 14.72727273]\n",
      " [45.41818182 14.72727273]]\n",
      "[[0. 0.]\n",
      " [0. 0.]\n",
      " [0. 0.]]\n",
      "3_feature_linear_effect\n",
      "\tsklearn\n",
      "\tfaiss_ivfflat\n",
      "\tfaiss_flatl2\n",
      "[[0.27561882 4.94489933]\n",
      " [0.27561882 4.94489933]\n",
      " [0.27561882 4.94489933]]\n",
      "[[0. 0.]\n",
      " [0. 0.]\n",
      " [0. 0.]]\n",
      "[[0.24000802 4.91033677]\n",
      " [0.24000802 4.91033677]\n",
      " [0.24000802 4.91033677]]\n",
      "[[0. 0.]\n",
      " [0. 0.]\n",
      " [0. 0.]]\n"
     ]
    }
   ],
   "source": [
    "test_all_backends_agree()"
   ]
  },
  {
   "cell_type": "code",
   "execution_count": 74,
   "metadata": {},
   "outputs": [
    {
     "data": {
      "text/plain": [
       "<causallib.tests.test_matching.TestMatching testMethod=runTest>"
      ]
     },
     "execution_count": 74,
     "metadata": {},
     "output_type": "execute_result"
    }
   ],
   "source": []
  },
  {
   "cell_type": "code",
   "execution_count": null,
   "metadata": {},
   "outputs": [],
   "source": []
  }
 ],
 "metadata": {
  "kernelspec": {
   "display_name": "Python 3",
   "language": "python",
   "name": "python3"
  },
  "language_info": {
   "codemirror_mode": {
    "name": "ipython",
    "version": 3
   },
   "file_extension": ".py",
   "mimetype": "text/x-python",
   "name": "python",
   "nbconvert_exporter": "python",
   "pygments_lexer": "ipython3",
   "version": "3.8.5"
  }
 },
 "nbformat": 4,
 "nbformat_minor": 4
}

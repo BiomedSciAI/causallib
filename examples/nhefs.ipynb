{
 "cells": [
  {
   "cell_type": "markdown",
   "metadata": {},
   "source": [
    "# NHEFS Dataset\n",
    "**NHANS (National Health and Nutrition Examionation Survey) Epidemiologic Followup Study**\n",
    "\n",
    "The effect of smoking on health measurements was a decades-long debate. \n",
    "As Judea Pearl puts it, it was \"probably the highest-profile medical question of the century\".\n",
    "The debate has divided not only the public across the US, but also physicians, epidemiologists and statisticians alike. \n",
    "Many known academic figures had took stand in this debate, researchers like \n",
    "[Abraham Lilienfeld](https://en.wikipedia.org/wiki/Abraham_Lilienfeld), \n",
    "[Austin Bradford Hill](https://en.wikipedia.org/wiki/Austin_Bradford_Hill), \n",
    "[Richard Doll](https://en.wikipedia.org/wiki/Richard_Doll), and even \n",
    "[Ronald Fisher](https://en.wikipedia.org/wiki/Ronald_Fisher).\n",
    "\n",
    "In fact, since a randomized control trial on the issue was always regraded unethical, discovering the detrimintal effects of smoking is one of the most known examples of deriving a causal effect from observational studies.\n",
    "If you believe smoking is not good for your health, you must also believe in causal inference.\n",
    "\n",
    "In this example we will analyze the effect of smoking cessation on weight gain from real-world data.\n",
    "People have noticed that that smoking cessation was associated with positive weight gaining.\n",
    "Formaly, the hypothesis made was that people who quit smoking gain more weight than they would have if they would've kept smoking.\n",
    "Actually, this association was used by pro-smoking advocators as the adverse effects of higher BMI (due to weught gain) have masked the positive effects that quitters benefitted from.\n",
    "\n",
    "To quantify the effect of smoking cessation on weight gain, we will use data from the NHEFS. The NHANS (National Health and Nutrition Examionation Survey) Epidemiologic Followup Study (NHEFS) is a national longitudinal study that was jointly initiated by the American National Center for Health Statistics and the American National Institute on Aging.  \n",
    "The study was designed to follow up on smokers, whom some of which quit, and record their weight (among other measurements) for a period of 11 years: from 1971 to 1982.  \n",
    "We will follow an analysis suggested by Hernán and Robins in their [Causal Inference book](https://www.hsph.harvard.edu/miguel-hernan/causal-inference-book/) to answer the question how much smoking cessation contributes to weight gain in the population."
   ]
  },
  {
   "cell_type": "markdown",
   "metadata": {},
   "source": [
    "## The Data\n",
    "First, let's download the dataset from the [Causal Inference book's](https://www.hsph.harvard.edu/miguel-hernan/causal-inference-book/) webpage."
   ]
  },
  {
   "cell_type": "code",
   "execution_count": 1,
   "metadata": {},
   "outputs": [
    {
     "name": "stdout",
     "output_type": "stream",
     "text": [
      "(1629, 64)\n"
     ]
    },
    {
     "data": {
      "text/html": [
       "<div>\n",
       "<style scoped>\n",
       "    .dataframe tbody tr th:only-of-type {\n",
       "        vertical-align: middle;\n",
       "    }\n",
       "\n",
       "    .dataframe tbody tr th {\n",
       "        vertical-align: top;\n",
       "    }\n",
       "\n",
       "    .dataframe thead th {\n",
       "        text-align: right;\n",
       "    }\n",
       "</style>\n",
       "<table border=\"1\" class=\"dataframe\">\n",
       "  <thead>\n",
       "    <tr style=\"text-align: right;\">\n",
       "      <th></th>\n",
       "      <th>seqn</th>\n",
       "      <th>qsmk</th>\n",
       "      <th>death</th>\n",
       "      <th>yrdth</th>\n",
       "      <th>modth</th>\n",
       "      <th>dadth</th>\n",
       "      <th>sbp</th>\n",
       "      <th>dbp</th>\n",
       "      <th>sex</th>\n",
       "      <th>age</th>\n",
       "      <th>...</th>\n",
       "      <th>birthcontrol</th>\n",
       "      <th>pregnancies</th>\n",
       "      <th>cholesterol</th>\n",
       "      <th>hightax82</th>\n",
       "      <th>price71</th>\n",
       "      <th>price82</th>\n",
       "      <th>tax71</th>\n",
       "      <th>tax82</th>\n",
       "      <th>price71_82</th>\n",
       "      <th>tax71_82</th>\n",
       "    </tr>\n",
       "  </thead>\n",
       "  <tbody>\n",
       "    <tr>\n",
       "      <th>0</th>\n",
       "      <td>233</td>\n",
       "      <td>0</td>\n",
       "      <td>0</td>\n",
       "      <td>NaN</td>\n",
       "      <td>NaN</td>\n",
       "      <td>NaN</td>\n",
       "      <td>175.0</td>\n",
       "      <td>96.0</td>\n",
       "      <td>0</td>\n",
       "      <td>42</td>\n",
       "      <td>...</td>\n",
       "      <td>2</td>\n",
       "      <td>NaN</td>\n",
       "      <td>197.0</td>\n",
       "      <td>0.0</td>\n",
       "      <td>2.183594</td>\n",
       "      <td>1.739990</td>\n",
       "      <td>1.102295</td>\n",
       "      <td>0.461975</td>\n",
       "      <td>0.443787</td>\n",
       "      <td>0.640381</td>\n",
       "    </tr>\n",
       "    <tr>\n",
       "      <th>1</th>\n",
       "      <td>235</td>\n",
       "      <td>0</td>\n",
       "      <td>0</td>\n",
       "      <td>NaN</td>\n",
       "      <td>NaN</td>\n",
       "      <td>NaN</td>\n",
       "      <td>123.0</td>\n",
       "      <td>80.0</td>\n",
       "      <td>0</td>\n",
       "      <td>36</td>\n",
       "      <td>...</td>\n",
       "      <td>2</td>\n",
       "      <td>NaN</td>\n",
       "      <td>301.0</td>\n",
       "      <td>0.0</td>\n",
       "      <td>2.346680</td>\n",
       "      <td>1.797363</td>\n",
       "      <td>1.364990</td>\n",
       "      <td>0.571899</td>\n",
       "      <td>0.549316</td>\n",
       "      <td>0.792969</td>\n",
       "    </tr>\n",
       "    <tr>\n",
       "      <th>2</th>\n",
       "      <td>244</td>\n",
       "      <td>0</td>\n",
       "      <td>0</td>\n",
       "      <td>NaN</td>\n",
       "      <td>NaN</td>\n",
       "      <td>NaN</td>\n",
       "      <td>115.0</td>\n",
       "      <td>75.0</td>\n",
       "      <td>1</td>\n",
       "      <td>56</td>\n",
       "      <td>...</td>\n",
       "      <td>0</td>\n",
       "      <td>2.0</td>\n",
       "      <td>157.0</td>\n",
       "      <td>0.0</td>\n",
       "      <td>1.569580</td>\n",
       "      <td>1.513428</td>\n",
       "      <td>0.551270</td>\n",
       "      <td>0.230988</td>\n",
       "      <td>0.056198</td>\n",
       "      <td>0.320251</td>\n",
       "    </tr>\n",
       "    <tr>\n",
       "      <th>3</th>\n",
       "      <td>245</td>\n",
       "      <td>0</td>\n",
       "      <td>1</td>\n",
       "      <td>85.0</td>\n",
       "      <td>2.0</td>\n",
       "      <td>14.0</td>\n",
       "      <td>148.0</td>\n",
       "      <td>78.0</td>\n",
       "      <td>0</td>\n",
       "      <td>68</td>\n",
       "      <td>...</td>\n",
       "      <td>2</td>\n",
       "      <td>NaN</td>\n",
       "      <td>174.0</td>\n",
       "      <td>0.0</td>\n",
       "      <td>1.506592</td>\n",
       "      <td>1.451904</td>\n",
       "      <td>0.524902</td>\n",
       "      <td>0.219971</td>\n",
       "      <td>0.054794</td>\n",
       "      <td>0.304993</td>\n",
       "    </tr>\n",
       "    <tr>\n",
       "      <th>4</th>\n",
       "      <td>252</td>\n",
       "      <td>0</td>\n",
       "      <td>0</td>\n",
       "      <td>NaN</td>\n",
       "      <td>NaN</td>\n",
       "      <td>NaN</td>\n",
       "      <td>118.0</td>\n",
       "      <td>77.0</td>\n",
       "      <td>0</td>\n",
       "      <td>40</td>\n",
       "      <td>...</td>\n",
       "      <td>2</td>\n",
       "      <td>NaN</td>\n",
       "      <td>216.0</td>\n",
       "      <td>0.0</td>\n",
       "      <td>2.346680</td>\n",
       "      <td>1.797363</td>\n",
       "      <td>1.364990</td>\n",
       "      <td>0.571899</td>\n",
       "      <td>0.549316</td>\n",
       "      <td>0.792969</td>\n",
       "    </tr>\n",
       "  </tbody>\n",
       "</table>\n",
       "<p>5 rows × 64 columns</p>\n",
       "</div>"
      ],
      "text/plain": [
       "   seqn  qsmk  death  yrdth  modth  dadth    sbp   dbp  sex  age  ...  \\\n",
       "0   233     0      0    NaN    NaN    NaN  175.0  96.0    0   42  ...   \n",
       "1   235     0      0    NaN    NaN    NaN  123.0  80.0    0   36  ...   \n",
       "2   244     0      0    NaN    NaN    NaN  115.0  75.0    1   56  ...   \n",
       "3   245     0      1   85.0    2.0   14.0  148.0  78.0    0   68  ...   \n",
       "4   252     0      0    NaN    NaN    NaN  118.0  77.0    0   40  ...   \n",
       "\n",
       "   birthcontrol  pregnancies  cholesterol  hightax82   price71   price82  \\\n",
       "0             2          NaN        197.0        0.0  2.183594  1.739990   \n",
       "1             2          NaN        301.0        0.0  2.346680  1.797363   \n",
       "2             0          2.0        157.0        0.0  1.569580  1.513428   \n",
       "3             2          NaN        174.0        0.0  1.506592  1.451904   \n",
       "4             2          NaN        216.0        0.0  2.346680  1.797363   \n",
       "\n",
       "      tax71     tax82  price71_82  tax71_82  \n",
       "0  1.102295  0.461975    0.443787  0.640381  \n",
       "1  1.364990  0.571899    0.549316  0.792969  \n",
       "2  0.551270  0.230988    0.056198  0.320251  \n",
       "3  0.524902  0.219971    0.054794  0.304993  \n",
       "4  1.364990  0.571899    0.549316  0.792969  \n",
       "\n",
       "[5 rows x 64 columns]"
      ]
     },
     "execution_count": 1,
     "metadata": {},
     "output_type": "execute_result"
    }
   ],
   "source": [
    "import pandas as pd\n",
    "nhefs = pd.read_csv(\"https://cdn1.sph.harvard.edu/wp-content/uploads/sites/1268/1268/20/nhefs.csv\")\n",
    "print(nhefs.shape)\n",
    "nhefs.head()"
   ]
  },
  {
   "cell_type": "markdown",
   "metadata": {},
   "source": [
    "We can see the dataset has 1629 inidividuals in it.  \n",
    "\n",
    "### Restriction criteria\n",
    "Since the study focused on smokers, some also elderly, not all of the participants have survived the entire 11 years of follow-up period.\n",
    "Although not the best practice in causal analysis, we will, for the sake of simplicity, discard from the dataset individuals whom we don't have their weight measured at the end period."
   ]
  },
  {
   "cell_type": "code",
   "execution_count": 2,
   "metadata": {},
   "outputs": [
    {
     "data": {
      "text/plain": [
       "(1566, 64)"
      ]
     },
     "execution_count": 2,
     "metadata": {},
     "output_type": "execute_result"
    }
   ],
   "source": [
    "nhefs = nhefs.dropna(subset=[\"wt82\"])  # weight meausred at 1982 - the end of the followup period\n",
    "nhefs.shape"
   ]
  },
  {
   "cell_type": "markdown",
   "metadata": {},
   "source": [
    "### Variables selection\n",
    "Second, for our analysis to be accurate, we must identify the variables that act as confounders - meaning, the variables that affect both the outcome and the treatment assignment.  \n",
    "For example, *age* of participants can affect both the outcome (weight), as people, on average, increase their weight as they grow older (this has several physiological reasons, such as change in metabolism). However, age can also effect the treatment (smoking cessation) as we can hypothesis that older people will be less likely to change their habits.  \n",
    "Another example can be the *education level* of participants. More educated people might more prone to quit smoking (as they may be more exposed to the debate and understand the risks depicted in the arguments), but they also might be more conscious to the benefits of healthier food which in turn reduce the weight they gain over the years."
   ]
  },
  {
   "cell_type": "code",
   "execution_count": 3,
   "metadata": {},
   "outputs": [
    {
     "name": "stdout",
     "output_type": "stream",
     "text": [
      "(1566, 9)\n"
     ]
    },
    {
     "data": {
      "text/html": [
       "<div>\n",
       "<style scoped>\n",
       "    .dataframe tbody tr th:only-of-type {\n",
       "        vertical-align: middle;\n",
       "    }\n",
       "\n",
       "    .dataframe tbody tr th {\n",
       "        vertical-align: top;\n",
       "    }\n",
       "\n",
       "    .dataframe thead th {\n",
       "        text-align: right;\n",
       "    }\n",
       "</style>\n",
       "<table border=\"1\" class=\"dataframe\">\n",
       "  <thead>\n",
       "    <tr style=\"text-align: right;\">\n",
       "      <th></th>\n",
       "      <th>active</th>\n",
       "      <th>age</th>\n",
       "      <th>education</th>\n",
       "      <th>exercise</th>\n",
       "      <th>race</th>\n",
       "      <th>sex</th>\n",
       "      <th>smokeintensity</th>\n",
       "      <th>smokeyrs</th>\n",
       "      <th>wt71</th>\n",
       "    </tr>\n",
       "  </thead>\n",
       "  <tbody>\n",
       "    <tr>\n",
       "      <th>0</th>\n",
       "      <td>0</td>\n",
       "      <td>42</td>\n",
       "      <td>1</td>\n",
       "      <td>2</td>\n",
       "      <td>1</td>\n",
       "      <td>0</td>\n",
       "      <td>30</td>\n",
       "      <td>29</td>\n",
       "      <td>79.04</td>\n",
       "    </tr>\n",
       "    <tr>\n",
       "      <th>1</th>\n",
       "      <td>0</td>\n",
       "      <td>36</td>\n",
       "      <td>2</td>\n",
       "      <td>0</td>\n",
       "      <td>0</td>\n",
       "      <td>0</td>\n",
       "      <td>20</td>\n",
       "      <td>24</td>\n",
       "      <td>58.63</td>\n",
       "    </tr>\n",
       "    <tr>\n",
       "      <th>2</th>\n",
       "      <td>0</td>\n",
       "      <td>56</td>\n",
       "      <td>2</td>\n",
       "      <td>2</td>\n",
       "      <td>1</td>\n",
       "      <td>1</td>\n",
       "      <td>20</td>\n",
       "      <td>26</td>\n",
       "      <td>56.81</td>\n",
       "    </tr>\n",
       "    <tr>\n",
       "      <th>3</th>\n",
       "      <td>1</td>\n",
       "      <td>68</td>\n",
       "      <td>1</td>\n",
       "      <td>2</td>\n",
       "      <td>1</td>\n",
       "      <td>0</td>\n",
       "      <td>3</td>\n",
       "      <td>53</td>\n",
       "      <td>59.42</td>\n",
       "    </tr>\n",
       "    <tr>\n",
       "      <th>4</th>\n",
       "      <td>1</td>\n",
       "      <td>40</td>\n",
       "      <td>2</td>\n",
       "      <td>1</td>\n",
       "      <td>0</td>\n",
       "      <td>0</td>\n",
       "      <td>20</td>\n",
       "      <td>19</td>\n",
       "      <td>87.09</td>\n",
       "    </tr>\n",
       "  </tbody>\n",
       "</table>\n",
       "</div>"
      ],
      "text/plain": [
       "   active  age  education  exercise  race  sex  smokeintensity  smokeyrs  \\\n",
       "0       0   42          1         2     1    0              30        29   \n",
       "1       0   36          2         0     0    0              20        24   \n",
       "2       0   56          2         2     1    1              20        26   \n",
       "3       1   68          1         2     1    0               3        53   \n",
       "4       1   40          2         1     0    0              20        19   \n",
       "\n",
       "    wt71  \n",
       "0  79.04  \n",
       "1  58.63  \n",
       "2  56.81  \n",
       "3  59.42  \n",
       "4  87.09  "
      ]
     },
     "execution_count": 3,
     "metadata": {},
     "output_type": "execute_result"
    }
   ],
   "source": [
    "confounders = [\"active\",          # Measure of daily activity on 1971.\n",
    "               \"age\",             # Age in 1971.\n",
    "               \"education\",       # Amount of education in 1971: from 8th-grade to college level education.\n",
    "               \"exercise\",        # Measure of recreational excercise.\n",
    "               \"race\",            # Caucasian or not.\n",
    "               \"sex\",             # Female or male.\n",
    "               \"smokeintensity\",  # Number of Cigarettes smoked per day in 1971.  \n",
    "               \"smokeyrs\",        # Years of smoking.\n",
    "               \"wt71\"]            # Weight in Kilograms in 1971.\n",
    "X = nhefs[confounders]\n",
    "print(X.shape)\n",
    "X.head()"
   ]
  },
  {
   "cell_type": "markdown",
   "metadata": {},
   "source": [
    "We continue to define our input matrix for the regression analysis:   \n",
    "We square our continuous variables and encode the categorical ones using a one-hot encoding scheme."
   ]
  },
  {
   "cell_type": "code",
   "execution_count": 4,
   "metadata": {},
   "outputs": [
    {
     "data": {
      "text/html": [
       "<div>\n",
       "<style scoped>\n",
       "    .dataframe tbody tr th:only-of-type {\n",
       "        vertical-align: middle;\n",
       "    }\n",
       "\n",
       "    .dataframe tbody tr th {\n",
       "        vertical-align: top;\n",
       "    }\n",
       "\n",
       "    .dataframe thead th {\n",
       "        text-align: right;\n",
       "    }\n",
       "</style>\n",
       "<table border=\"1\" class=\"dataframe\">\n",
       "  <thead>\n",
       "    <tr style=\"text-align: right;\">\n",
       "      <th></th>\n",
       "      <th>age</th>\n",
       "      <th>race</th>\n",
       "      <th>sex</th>\n",
       "      <th>smokeintensity</th>\n",
       "      <th>smokeyrs</th>\n",
       "      <th>wt71</th>\n",
       "      <th>active_1</th>\n",
       "      <th>active_2</th>\n",
       "      <th>education_2</th>\n",
       "      <th>education_3</th>\n",
       "      <th>education_4</th>\n",
       "      <th>education_5</th>\n",
       "      <th>exercise_1</th>\n",
       "      <th>exercise_2</th>\n",
       "      <th>age^2</th>\n",
       "      <th>wt71^2</th>\n",
       "      <th>smokeintensity^2</th>\n",
       "      <th>smokeyrs^2</th>\n",
       "    </tr>\n",
       "  </thead>\n",
       "  <tbody>\n",
       "    <tr>\n",
       "      <th>0</th>\n",
       "      <td>42</td>\n",
       "      <td>1</td>\n",
       "      <td>0</td>\n",
       "      <td>30</td>\n",
       "      <td>29</td>\n",
       "      <td>79.04</td>\n",
       "      <td>0</td>\n",
       "      <td>0</td>\n",
       "      <td>0</td>\n",
       "      <td>0</td>\n",
       "      <td>0</td>\n",
       "      <td>0</td>\n",
       "      <td>0</td>\n",
       "      <td>1</td>\n",
       "      <td>1764</td>\n",
       "      <td>6247.3216</td>\n",
       "      <td>900</td>\n",
       "      <td>841</td>\n",
       "    </tr>\n",
       "    <tr>\n",
       "      <th>1</th>\n",
       "      <td>36</td>\n",
       "      <td>0</td>\n",
       "      <td>0</td>\n",
       "      <td>20</td>\n",
       "      <td>24</td>\n",
       "      <td>58.63</td>\n",
       "      <td>0</td>\n",
       "      <td>0</td>\n",
       "      <td>1</td>\n",
       "      <td>0</td>\n",
       "      <td>0</td>\n",
       "      <td>0</td>\n",
       "      <td>0</td>\n",
       "      <td>0</td>\n",
       "      <td>1296</td>\n",
       "      <td>3437.4769</td>\n",
       "      <td>400</td>\n",
       "      <td>576</td>\n",
       "    </tr>\n",
       "    <tr>\n",
       "      <th>2</th>\n",
       "      <td>56</td>\n",
       "      <td>1</td>\n",
       "      <td>1</td>\n",
       "      <td>20</td>\n",
       "      <td>26</td>\n",
       "      <td>56.81</td>\n",
       "      <td>0</td>\n",
       "      <td>0</td>\n",
       "      <td>1</td>\n",
       "      <td>0</td>\n",
       "      <td>0</td>\n",
       "      <td>0</td>\n",
       "      <td>0</td>\n",
       "      <td>1</td>\n",
       "      <td>3136</td>\n",
       "      <td>3227.3761</td>\n",
       "      <td>400</td>\n",
       "      <td>676</td>\n",
       "    </tr>\n",
       "    <tr>\n",
       "      <th>3</th>\n",
       "      <td>68</td>\n",
       "      <td>1</td>\n",
       "      <td>0</td>\n",
       "      <td>3</td>\n",
       "      <td>53</td>\n",
       "      <td>59.42</td>\n",
       "      <td>1</td>\n",
       "      <td>0</td>\n",
       "      <td>0</td>\n",
       "      <td>0</td>\n",
       "      <td>0</td>\n",
       "      <td>0</td>\n",
       "      <td>0</td>\n",
       "      <td>1</td>\n",
       "      <td>4624</td>\n",
       "      <td>3530.7364</td>\n",
       "      <td>9</td>\n",
       "      <td>2809</td>\n",
       "    </tr>\n",
       "    <tr>\n",
       "      <th>4</th>\n",
       "      <td>40</td>\n",
       "      <td>0</td>\n",
       "      <td>0</td>\n",
       "      <td>20</td>\n",
       "      <td>19</td>\n",
       "      <td>87.09</td>\n",
       "      <td>1</td>\n",
       "      <td>0</td>\n",
       "      <td>1</td>\n",
       "      <td>0</td>\n",
       "      <td>0</td>\n",
       "      <td>0</td>\n",
       "      <td>1</td>\n",
       "      <td>0</td>\n",
       "      <td>1600</td>\n",
       "      <td>7584.6681</td>\n",
       "      <td>400</td>\n",
       "      <td>361</td>\n",
       "    </tr>\n",
       "  </tbody>\n",
       "</table>\n",
       "</div>"
      ],
      "text/plain": [
       "   age  race  sex  smokeintensity  smokeyrs   wt71  active_1  active_2  \\\n",
       "0   42     1    0              30        29  79.04         0         0   \n",
       "1   36     0    0              20        24  58.63         0         0   \n",
       "2   56     1    1              20        26  56.81         0         0   \n",
       "3   68     1    0               3        53  59.42         1         0   \n",
       "4   40     0    0              20        19  87.09         1         0   \n",
       "\n",
       "   education_2  education_3  education_4  education_5  exercise_1  exercise_2  \\\n",
       "0            0            0            0            0           0           1   \n",
       "1            1            0            0            0           0           0   \n",
       "2            1            0            0            0           0           1   \n",
       "3            0            0            0            0           0           1   \n",
       "4            1            0            0            0           1           0   \n",
       "\n",
       "   age^2     wt71^2  smokeintensity^2  smokeyrs^2  \n",
       "0   1764  6247.3216               900         841  \n",
       "1   1296  3437.4769               400         576  \n",
       "2   3136  3227.3761               400         676  \n",
       "3   4624  3530.7364                 9        2809  \n",
       "4   1600  7584.6681               400         361  "
      ]
     },
     "execution_count": 4,
     "metadata": {},
     "output_type": "execute_result"
    }
   ],
   "source": [
    "X = pd.get_dummies(X, columns=[\"active\", \"education\", \"exercise\"], drop_first=True)\n",
    "X = X.join(X[['age', 'wt71', 'smokeintensity', 'smokeyrs']]**2, rsuffix=\"^2\")\n",
    "X.head()"
   ]
  },
  {
   "cell_type": "markdown",
   "metadata": {},
   "source": [
    "Lastly, we extract our treatment variable `qsmk` (quit smoking), and our outcome variable `wt82_71` (the difference in participants' weight between 1982 and 1971)."
   ]
  },
  {
   "cell_type": "code",
   "execution_count": 5,
   "metadata": {},
   "outputs": [
    {
     "data": {
      "text/html": [
       "<div>\n",
       "<style scoped>\n",
       "    .dataframe tbody tr th:only-of-type {\n",
       "        vertical-align: middle;\n",
       "    }\n",
       "\n",
       "    .dataframe tbody tr th {\n",
       "        vertical-align: top;\n",
       "    }\n",
       "\n",
       "    .dataframe thead th {\n",
       "        text-align: right;\n",
       "    }\n",
       "</style>\n",
       "<table border=\"1\" class=\"dataframe\">\n",
       "  <thead>\n",
       "    <tr style=\"text-align: right;\">\n",
       "      <th></th>\n",
       "      <th>qsmk</th>\n",
       "      <th>wt82_71</th>\n",
       "    </tr>\n",
       "  </thead>\n",
       "  <tbody>\n",
       "    <tr>\n",
       "      <th>0</th>\n",
       "      <td>0</td>\n",
       "      <td>-10.093960</td>\n",
       "    </tr>\n",
       "    <tr>\n",
       "      <th>1</th>\n",
       "      <td>0</td>\n",
       "      <td>2.604970</td>\n",
       "    </tr>\n",
       "    <tr>\n",
       "      <th>2</th>\n",
       "      <td>0</td>\n",
       "      <td>9.414486</td>\n",
       "    </tr>\n",
       "    <tr>\n",
       "      <th>3</th>\n",
       "      <td>0</td>\n",
       "      <td>4.990117</td>\n",
       "    </tr>\n",
       "    <tr>\n",
       "      <th>4</th>\n",
       "      <td>0</td>\n",
       "      <td>4.989251</td>\n",
       "    </tr>\n",
       "  </tbody>\n",
       "</table>\n",
       "</div>"
      ],
      "text/plain": [
       "   qsmk    wt82_71\n",
       "0     0 -10.093960\n",
       "1     0   2.604970\n",
       "2     0   9.414486\n",
       "3     0   4.990117\n",
       "4     0   4.989251"
      ]
     },
     "execution_count": 5,
     "metadata": {},
     "output_type": "execute_result"
    }
   ],
   "source": [
    "a = nhefs[\"qsmk\"]\n",
    "y = nhefs[\"wt82_71\"]\n",
    "pd.concat([a, y], axis=\"columns\").head()"
   ]
  },
  {
   "cell_type": "markdown",
   "metadata": {},
   "source": [
    "## The Model\n",
    "After defining the confounders and further building our design matrix `X`, we can continue to define the causal model.\n",
    "\n",
    "In this case we will use an Inverse Treatment Probability Weighting (IPTW, or IPW) causal model.  \n",
    "Briefly, this model will model the probability of a participants' to quit smoking and use it to emulate two equal-sized populations: one of quitters and another of persisters. \n",
    "In this synthetic population, we could use the actual change in weight to estimate what would have happen if everyone were to quit or everyone were to persist smoking.\n",
    "\n",
    "But first, we will need to use a machine learning model to estimate the propensity score $\\Pr[A=1|X]$ - the probability of each participant to quit smoking.  \n",
    "Following the design matrix we prepared above, and given the binary nature of our treatment, we will choose a logistic regression for this task."
   ]
  },
  {
   "cell_type": "code",
   "execution_count": 6,
   "metadata": {},
   "outputs": [],
   "source": [
    "from sklearn.linear_model import LogisticRegression\n",
    "\n",
    "learner = LogisticRegression(penalty='none',  # No regularization, new in scikit-learn 0.21.*\n",
    "                             solver='lbfgs',\n",
    "                             max_iter=500)    # Increaed to achieve convergence with 'lbfgs' solver"
   ]
  },
  {
   "cell_type": "markdown",
   "metadata": {},
   "source": [
    "Once we defined a learner, we can simply plug it into the causal model"
   ]
  },
  {
   "cell_type": "code",
   "execution_count": 7,
   "metadata": {},
   "outputs": [],
   "source": [
    "from causallib.estimation import IPW\n",
    "\n",
    "ipw = IPW(learner)"
   ]
  },
  {
   "cell_type": "markdown",
   "metadata": {},
   "source": [
    "## Estimating Causal Effect\n",
    "Once we defined the causal model (yes, that all it took), we can move on to estimate the effect of smoking cessation on weight gain.\n",
    "\n",
    "First, we will fit our causal model.  \n",
    "Second, we'll predict the potential outcomes: what would be the weight difference if everyone were to quit smoking or everyone were to persist smoking.  \n",
    "Third, we will use the two potential outcomes to estimate the effect: the difference of the two potential outcomes."
   ]
  },
  {
   "cell_type": "code",
   "execution_count": 8,
   "metadata": {},
   "outputs": [],
   "source": [
    "ipw.fit(X, a)\n",
    "outcomes = ipw.estimate_population_outcome(X, a, y)\n",
    "effect = ipw.estimate_effect(outcomes[1], outcomes[0])"
   ]
  },
  {
   "cell_type": "markdown",
   "metadata": {},
   "source": [
    "Checking the potential outcomes, we can see that the average difference in weight (across 11 years) if everyone would have quit smoking (`1`) is 5.28kg (11.64lbs) while the averge weight difference if everyone would have persist smoking (`0`, not quit) is 1.77kg (3.9lbs)."
   ]
  },
  {
   "cell_type": "code",
   "execution_count": 9,
   "metadata": {},
   "outputs": [
    {
     "data": {
      "text/plain": [
       "0    1.765533\n",
       "1    5.284088\n",
       "dtype: float64"
      ]
     },
     "execution_count": 9,
     "metadata": {},
     "output_type": "execute_result"
    }
   ],
   "source": [
    "outcomes"
   ]
  },
  {
   "cell_type": "markdown",
   "metadata": {},
   "source": [
    "Therefore we can conclude that the average additive effect (`diff`) of smoking cessation on weight gain is 3.52kg (7.76lbs)."
   ]
  },
  {
   "cell_type": "code",
   "execution_count": 10,
   "metadata": {},
   "outputs": [
    {
     "data": {
      "text/plain": [
       "diff    3.518555\n",
       "dtype: float64"
      ]
     },
     "execution_count": 10,
     "metadata": {},
     "output_type": "execute_result"
    }
   ],
   "source": [
    "effect"
   ]
  },
  {
   "cell_type": "markdown",
   "metadata": {},
   "source": [
    "Indeed, we can conclude that smoking cessation accounts for a weight gain of 3.5kg on average."
   ]
  },
  {
   "cell_type": "markdown",
   "metadata": {},
   "source": [
    "### Unadjusted estimation\n",
    "To compare, we can ask what conclusion would have we achive if we did not control for confounding.  \n",
    "What would've been the result if we haven't adjusted for treatment assignment biases and treated the data as if it came from a randomized control trial?"
   ]
  },
  {
   "cell_type": "code",
   "execution_count": 11,
   "metadata": {},
   "outputs": [
    {
     "data": {
      "text/plain": [
       "diff    2.540581\n",
       "dtype: float64"
      ]
     },
     "execution_count": 11,
     "metadata": {},
     "output_type": "execute_result"
    }
   ],
   "source": [
    "from causallib.estimation import MarginalOutcomeEstimator\n",
    "\n",
    "moe = MarginalOutcomeEstimator(None).fit(X, a, y)\n",
    "outcomes = moe.estimate_population_outcome(X, a, y)\n",
    "moe.estimate_effect(outcomes[1], outcomes[0])"
   ]
  },
  {
   "cell_type": "markdown",
   "metadata": {},
   "source": [
    "We can see that when failing to adjust for confounding factors, we underestimate the effect of smoking cessation on weight gain by 1kg (2.2lbs).\n",
    "\n",
    "To see why, we can examine the how balanced were the treatment groups before and after IP weighting.  \n",
    "We can check that using a _Love plot_, a graphical way to present distribution distance between the treated and untreated. It plots the standardized-mean-difference between the treatment groups for each covariate marginally."
   ]
  },
  {
   "cell_type": "code",
   "execution_count": 12,
   "metadata": {},
   "outputs": [
    {
     "data": {
      "image/png": "[encoded data removed]",
      "text/plain": [
       "<Figure size 432x432 with 1 Axes>"
      ]
     },
     "metadata": {
      "needs_background": "light"
     },
     "output_type": "display_data"
    }
   ],
   "source": [
    "%matplotlib inline\n",
    "from causallib.evaluation import PropensityEvaluator\n",
    "\n",
    "evaluator = PropensityEvaluator(ipw)\n",
    "evaluation_results = evaluator.evaluate_simple(X, a, y, plots=[\"covariate_balance_love\"])\n",
    "\n",
    "fig = evaluation_results.plots[\"covariate_balance_love\"].get_figure()\n",
    "fig.set_size_inches(6, 6)  # set a more compact size than default\n",
    "fig;"
   ]
  },
  {
   "cell_type": "markdown",
   "metadata": {},
   "source": [
    "We can see that prior to applying IP-weighting (orange triangles), the absolute mean-difference across treatment groups was up to 0.2 standard-deviations.  \n",
    "This can easily bias a simple marginal comparison (i.e., simply check the outcome of treated against the outcome of untreated), since we see the groups are not marginally similar.  \n",
    "For example, one could argue that difference in outcome is contributed to the fact that the two treatment groups differ on their average age.  \n",
    "Since the treatment groups have different distribution of characteristics, it should be accounted for in a causal inference analysis, for-example: the importance-sampling-like scheme applied by the IPW model.  \n",
    "After balancing (blue dots), we see that the marginal difference between the groups' covariate distribution is much smaller on average, suggesting that the IPW model had successfully balanced the dataset."
   ]
  },
  {
   "cell_type": "code",
   "execution_count": null,
   "metadata": {},
   "outputs": [],
   "source": []
  }
 ],
 "metadata": {
  "kernelspec": {
   "display_name": "Python 3",
   "language": "python",
   "name": "python3"
  },
  "language_info": {
   "codemirror_mode": {
    "name": "ipython",
    "version": 3
   },
   "file_extension": ".py",
   "mimetype": "text/x-python",
   "name": "python",
   "nbconvert_exporter": "python",
   "pygments_lexer": "ipython3",
   "version": "3.6.8"
  }
 },
 "nbformat": 4,
 "nbformat_minor": 2
}

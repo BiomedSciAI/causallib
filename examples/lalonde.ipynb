{
 "cells": [
  {
   "cell_type": "markdown",
   "metadata": {},
   "source": [
    "# LaLonde Dataset\n",
    "\n",
    "Economists have long-hypothesized about training program improving the labor market prospects of its participants.\n",
    "Goverment policy makers were convinvced and goverment-funded job training programs were initiated.\n",
    "One such large program was the National Supported Work (NSW) Demonstration, A part-federal part-privately program, implmented during 1975 to 1979 in 15 locations across the US.\n",
    "The program provided 6-18 month training for individuals who had faced economic and social problems (such as women  receiving Aid to Families with Dependent Children, former drug addicts, ex-convicts, and former juvenile delinquents).\n",
    "\n",
    "Participants were randomly assigned into experimental group (Support Work Programs) and control groups.\n",
    "However, due to the long duration of the study, participants joining the program at the beginning had different charachteristics than people joining later.  \n",
    "Therefore, his covariate shift should be adjusted for in order to estimate the true causal effect of the job-program on future employment.\n",
    "\n",
    "\n",
    "This dataset had become a common benchamrk for causal analysis over the years.  \n",
    "Original analysis of the study was done by [Robert LaLonde](https://en.wikipedia.org/wiki/Robert_LaLonde) and published in his 1986 [Evaluating the Econometric Evaluations of Training Programs with Experimental Data](http://people.hbs.edu/nashraf/LaLonde_1986.pdf) paper.  \n",
    "However, we will follow a later propensity-based analysis made by Dehejia and Wahba in their 1999 [Causal Effects in Non-Experimental Studies: Reevaluating the Evaluation of Training Programs](https://users.nber.org/~rdehejia/papers/dehejia_wahba_jasa.pdf)."
   ]
  },
  {
   "cell_type": "markdown",
   "metadata": {},
   "source": [
    "## The Data\n",
    "First, let's download the dataset from [Rajeev Dehejia's webpage](https://users.nber.org/~rdehejia/nswdata2.html)."
   ]
  },
  {
   "cell_type": "code",
   "execution_count": 1,
   "metadata": {},
   "outputs": [
    {
     "name": "stdout",
     "output_type": "stream",
     "text": [
      "(445, 10)\n"
     ]
    },
    {
     "data": {
      "text/html": [
       "<div>\n",
       "<style scoped>\n",
       "    .dataframe tbody tr th:only-of-type {\n",
       "        vertical-align: middle;\n",
       "    }\n",
       "\n",
       "    .dataframe tbody tr th {\n",
       "        vertical-align: top;\n",
       "    }\n",
       "\n",
       "    .dataframe thead th {\n",
       "        text-align: right;\n",
       "    }\n",
       "</style>\n",
       "<table border=\"1\" class=\"dataframe\">\n",
       "  <thead>\n",
       "    <tr style=\"text-align: right;\">\n",
       "      <th></th>\n",
       "      <th>training</th>\n",
       "      <th>age</th>\n",
       "      <th>education</th>\n",
       "      <th>black</th>\n",
       "      <th>hispanic</th>\n",
       "      <th>married</th>\n",
       "      <th>no_degree</th>\n",
       "      <th>re74</th>\n",
       "      <th>re75</th>\n",
       "      <th>re78</th>\n",
       "    </tr>\n",
       "  </thead>\n",
       "  <tbody>\n",
       "    <tr>\n",
       "      <th>284</th>\n",
       "      <td>0.0</td>\n",
       "      <td>28.0</td>\n",
       "      <td>12.0</td>\n",
       "      <td>1.0</td>\n",
       "      <td>0.0</td>\n",
       "      <td>1.0</td>\n",
       "      <td>0.0</td>\n",
       "      <td>0.000</td>\n",
       "      <td>0.0000</td>\n",
       "      <td>0.0000</td>\n",
       "    </tr>\n",
       "    <tr>\n",
       "      <th>358</th>\n",
       "      <td>0.0</td>\n",
       "      <td>19.0</td>\n",
       "      <td>11.0</td>\n",
       "      <td>1.0</td>\n",
       "      <td>0.0</td>\n",
       "      <td>0.0</td>\n",
       "      <td>1.0</td>\n",
       "      <td>1626.623</td>\n",
       "      <td>0.0000</td>\n",
       "      <td>0.0000</td>\n",
       "    </tr>\n",
       "    <tr>\n",
       "      <th>117</th>\n",
       "      <td>1.0</td>\n",
       "      <td>20.0</td>\n",
       "      <td>12.0</td>\n",
       "      <td>1.0</td>\n",
       "      <td>0.0</td>\n",
       "      <td>0.0</td>\n",
       "      <td>0.0</td>\n",
       "      <td>0.000</td>\n",
       "      <td>377.5686</td>\n",
       "      <td>1652.6370</td>\n",
       "    </tr>\n",
       "    <tr>\n",
       "      <th>412</th>\n",
       "      <td>0.0</td>\n",
       "      <td>25.0</td>\n",
       "      <td>11.0</td>\n",
       "      <td>1.0</td>\n",
       "      <td>0.0</td>\n",
       "      <td>0.0</td>\n",
       "      <td>1.0</td>\n",
       "      <td>15209.990</td>\n",
       "      <td>3072.7260</td>\n",
       "      <td>284.6584</td>\n",
       "    </tr>\n",
       "    <tr>\n",
       "      <th>70</th>\n",
       "      <td>1.0</td>\n",
       "      <td>27.0</td>\n",
       "      <td>9.0</td>\n",
       "      <td>1.0</td>\n",
       "      <td>0.0</td>\n",
       "      <td>0.0</td>\n",
       "      <td>1.0</td>\n",
       "      <td>0.000</td>\n",
       "      <td>0.0000</td>\n",
       "      <td>0.0000</td>\n",
       "    </tr>\n",
       "  </tbody>\n",
       "</table>\n",
       "</div>"
      ],
      "text/plain": [
       "     training   age  education  black  hispanic  married  no_degree  \\\n",
       "284       0.0  28.0       12.0    1.0       0.0      1.0        0.0   \n",
       "358       0.0  19.0       11.0    1.0       0.0      0.0        1.0   \n",
       "117       1.0  20.0       12.0    1.0       0.0      0.0        0.0   \n",
       "412       0.0  25.0       11.0    1.0       0.0      0.0        1.0   \n",
       "70        1.0  27.0        9.0    1.0       0.0      0.0        1.0   \n",
       "\n",
       "          re74       re75       re78  \n",
       "284      0.000     0.0000     0.0000  \n",
       "358   1626.623     0.0000     0.0000  \n",
       "117      0.000   377.5686  1652.6370  \n",
       "412  15209.990  3072.7260   284.6584  \n",
       "70       0.000     0.0000     0.0000  "
      ]
     },
     "execution_count": 1,
     "metadata": {},
     "output_type": "execute_result"
    }
   ],
   "source": [
    "import pandas as pd\n",
    "\n",
    "columns = [\"training\",   # Treatment assignment indicator\n",
    "           \"age\",        # Age of participant\n",
    "           \"education\",  # Years of education\n",
    "           \"black\",      # Indicate whether individual is black\n",
    "           \"hispanic\",   # Indicate whether individual is hispanic\n",
    "           \"married\",    # Indicate whether individual is married\n",
    "           \"no_degree\",  # Indicate if individual has no high-school diploma\n",
    "           \"re74\",       # Real earnings in 1974, prior to study participation\n",
    "           \"re75\",       # Real earnings in 1975, prior to study participation\n",
    "           \"re78\"]       # Real earnings in 1978, after study end\n",
    "\n",
    "treated = pd.read_csv(\"http://www.nber.org/~rdehejia/data/nswre74_treated.txt\", \n",
    "                      delim_whitespace=True, header=None, names=columns)\n",
    "control = pd.read_csv(\"http://www.nber.org/~rdehejia/data/nswre74_control.txt\",\n",
    "                      delim_whitespace=True, header=None, names=columns)\n",
    "lalonde = pd.concat([treated, control], ignore_index=True)\n",
    "lalonde = lalonde.sample(frac=1.0, random_state=42)  # Shuffle\n",
    "\n",
    "print(lalonde.shape)\n",
    "lalonde.head()"
   ]
  },
  {
   "cell_type": "markdown",
   "metadata": {},
   "source": [
    "We can see the dataset has 445 inidividuals in it, as described on Dehejia's page.  \n",
    "\n",
    "### Design matrix\n",
    "#### Earning indications\n",
    "Following the analysis performed by Gelman et al. on their [arm](https://cran.r-project.org/web/packages/arm/index.html) R library, we will create two indicator variables indicating no earnings in 1974 and 1975."
   ]
  },
  {
   "cell_type": "code",
   "execution_count": 2,
   "metadata": {},
   "outputs": [
    {
     "data": {
      "text/html": [
       "<div>\n",
       "<style scoped>\n",
       "    .dataframe tbody tr th:only-of-type {\n",
       "        vertical-align: middle;\n",
       "    }\n",
       "\n",
       "    .dataframe tbody tr th {\n",
       "        vertical-align: top;\n",
       "    }\n",
       "\n",
       "    .dataframe thead th {\n",
       "        text-align: right;\n",
       "    }\n",
       "</style>\n",
       "<table border=\"1\" class=\"dataframe\">\n",
       "  <thead>\n",
       "    <tr style=\"text-align: right;\">\n",
       "      <th></th>\n",
       "      <th>training</th>\n",
       "      <th>age</th>\n",
       "      <th>education</th>\n",
       "      <th>black</th>\n",
       "      <th>hispanic</th>\n",
       "      <th>married</th>\n",
       "      <th>no_degree</th>\n",
       "      <th>re74</th>\n",
       "      <th>re75</th>\n",
       "      <th>re78</th>\n",
       "      <th>re74=0</th>\n",
       "      <th>re75=0</th>\n",
       "    </tr>\n",
       "  </thead>\n",
       "  <tbody>\n",
       "    <tr>\n",
       "      <th>284</th>\n",
       "      <td>0.0</td>\n",
       "      <td>28.0</td>\n",
       "      <td>12.0</td>\n",
       "      <td>1.0</td>\n",
       "      <td>0.0</td>\n",
       "      <td>1.0</td>\n",
       "      <td>0.0</td>\n",
       "      <td>0.000</td>\n",
       "      <td>0.0000</td>\n",
       "      <td>0.0000</td>\n",
       "      <td>1</td>\n",
       "      <td>1</td>\n",
       "    </tr>\n",
       "    <tr>\n",
       "      <th>358</th>\n",
       "      <td>0.0</td>\n",
       "      <td>19.0</td>\n",
       "      <td>11.0</td>\n",
       "      <td>1.0</td>\n",
       "      <td>0.0</td>\n",
       "      <td>0.0</td>\n",
       "      <td>1.0</td>\n",
       "      <td>1626.623</td>\n",
       "      <td>0.0000</td>\n",
       "      <td>0.0000</td>\n",
       "      <td>0</td>\n",
       "      <td>1</td>\n",
       "    </tr>\n",
       "    <tr>\n",
       "      <th>117</th>\n",
       "      <td>1.0</td>\n",
       "      <td>20.0</td>\n",
       "      <td>12.0</td>\n",
       "      <td>1.0</td>\n",
       "      <td>0.0</td>\n",
       "      <td>0.0</td>\n",
       "      <td>0.0</td>\n",
       "      <td>0.000</td>\n",
       "      <td>377.5686</td>\n",
       "      <td>1652.6370</td>\n",
       "      <td>1</td>\n",
       "      <td>0</td>\n",
       "    </tr>\n",
       "    <tr>\n",
       "      <th>412</th>\n",
       "      <td>0.0</td>\n",
       "      <td>25.0</td>\n",
       "      <td>11.0</td>\n",
       "      <td>1.0</td>\n",
       "      <td>0.0</td>\n",
       "      <td>0.0</td>\n",
       "      <td>1.0</td>\n",
       "      <td>15209.990</td>\n",
       "      <td>3072.7260</td>\n",
       "      <td>284.6584</td>\n",
       "      <td>0</td>\n",
       "      <td>0</td>\n",
       "    </tr>\n",
       "    <tr>\n",
       "      <th>70</th>\n",
       "      <td>1.0</td>\n",
       "      <td>27.0</td>\n",
       "      <td>9.0</td>\n",
       "      <td>1.0</td>\n",
       "      <td>0.0</td>\n",
       "      <td>0.0</td>\n",
       "      <td>1.0</td>\n",
       "      <td>0.000</td>\n",
       "      <td>0.0000</td>\n",
       "      <td>0.0000</td>\n",
       "      <td>1</td>\n",
       "      <td>1</td>\n",
       "    </tr>\n",
       "  </tbody>\n",
       "</table>\n",
       "</div>"
      ],
      "text/plain": [
       "     training   age  education  black  hispanic  married  no_degree  \\\n",
       "284       0.0  28.0       12.0    1.0       0.0      1.0        0.0   \n",
       "358       0.0  19.0       11.0    1.0       0.0      0.0        1.0   \n",
       "117       1.0  20.0       12.0    1.0       0.0      0.0        0.0   \n",
       "412       0.0  25.0       11.0    1.0       0.0      0.0        1.0   \n",
       "70        1.0  27.0        9.0    1.0       0.0      0.0        1.0   \n",
       "\n",
       "          re74       re75       re78  re74=0  re75=0  \n",
       "284      0.000     0.0000     0.0000       1       1  \n",
       "358   1626.623     0.0000     0.0000       0       1  \n",
       "117      0.000   377.5686  1652.6370       1       0  \n",
       "412  15209.990  3072.7260   284.6584       0       0  \n",
       "70       0.000     0.0000     0.0000       1       1  "
      ]
     },
     "execution_count": 2,
     "metadata": {},
     "output_type": "execute_result"
    }
   ],
   "source": [
    "lalonde = lalonde.join((lalonde[[\"re74\", \"re75\"]] == 0).astype(int), rsuffix=(\"=0\"))\n",
    "lalonde.head()"
   ]
  },
  {
   "cell_type": "markdown",
   "metadata": {},
   "source": [
    "#### Factorizing education\n",
    "Since years of schooling are not to be taken by their numerical values, we will factorize it into indicator variables."
   ]
  },
  {
   "cell_type": "code",
   "execution_count": 3,
   "metadata": {},
   "outputs": [
    {
     "name": "stdout",
     "output_type": "stream",
     "text": [
      "(445, 24)\n"
     ]
    },
    {
     "data": {
      "text/html": [
       "<div>\n",
       "<style scoped>\n",
       "    .dataframe tbody tr th:only-of-type {\n",
       "        vertical-align: middle;\n",
       "    }\n",
       "\n",
       "    .dataframe tbody tr th {\n",
       "        vertical-align: top;\n",
       "    }\n",
       "\n",
       "    .dataframe thead th {\n",
       "        text-align: right;\n",
       "    }\n",
       "</style>\n",
       "<table border=\"1\" class=\"dataframe\">\n",
       "  <thead>\n",
       "    <tr style=\"text-align: right;\">\n",
       "      <th></th>\n",
       "      <th>training</th>\n",
       "      <th>age</th>\n",
       "      <th>black</th>\n",
       "      <th>hispanic</th>\n",
       "      <th>married</th>\n",
       "      <th>no_degree</th>\n",
       "      <th>re74</th>\n",
       "      <th>re75</th>\n",
       "      <th>re78</th>\n",
       "      <th>re74=0</th>\n",
       "      <th>...</th>\n",
       "      <th>education_7.0</th>\n",
       "      <th>education_8.0</th>\n",
       "      <th>education_9.0</th>\n",
       "      <th>education_10.0</th>\n",
       "      <th>education_11.0</th>\n",
       "      <th>education_12.0</th>\n",
       "      <th>education_13.0</th>\n",
       "      <th>education_14.0</th>\n",
       "      <th>education_15.0</th>\n",
       "      <th>education_16.0</th>\n",
       "    </tr>\n",
       "  </thead>\n",
       "  <tbody>\n",
       "    <tr>\n",
       "      <th>284</th>\n",
       "      <td>0.0</td>\n",
       "      <td>28.0</td>\n",
       "      <td>1.0</td>\n",
       "      <td>0.0</td>\n",
       "      <td>1.0</td>\n",
       "      <td>0.0</td>\n",
       "      <td>0.000</td>\n",
       "      <td>0.0000</td>\n",
       "      <td>0.0000</td>\n",
       "      <td>1</td>\n",
       "      <td>...</td>\n",
       "      <td>0</td>\n",
       "      <td>0</td>\n",
       "      <td>0</td>\n",
       "      <td>0</td>\n",
       "      <td>0</td>\n",
       "      <td>1</td>\n",
       "      <td>0</td>\n",
       "      <td>0</td>\n",
       "      <td>0</td>\n",
       "      <td>0</td>\n",
       "    </tr>\n",
       "    <tr>\n",
       "      <th>358</th>\n",
       "      <td>0.0</td>\n",
       "      <td>19.0</td>\n",
       "      <td>1.0</td>\n",
       "      <td>0.0</td>\n",
       "      <td>0.0</td>\n",
       "      <td>1.0</td>\n",
       "      <td>1626.623</td>\n",
       "      <td>0.0000</td>\n",
       "      <td>0.0000</td>\n",
       "      <td>0</td>\n",
       "      <td>...</td>\n",
       "      <td>0</td>\n",
       "      <td>0</td>\n",
       "      <td>0</td>\n",
       "      <td>0</td>\n",
       "      <td>1</td>\n",
       "      <td>0</td>\n",
       "      <td>0</td>\n",
       "      <td>0</td>\n",
       "      <td>0</td>\n",
       "      <td>0</td>\n",
       "    </tr>\n",
       "    <tr>\n",
       "      <th>117</th>\n",
       "      <td>1.0</td>\n",
       "      <td>20.0</td>\n",
       "      <td>1.0</td>\n",
       "      <td>0.0</td>\n",
       "      <td>0.0</td>\n",
       "      <td>0.0</td>\n",
       "      <td>0.000</td>\n",
       "      <td>377.5686</td>\n",
       "      <td>1652.6370</td>\n",
       "      <td>1</td>\n",
       "      <td>...</td>\n",
       "      <td>0</td>\n",
       "      <td>0</td>\n",
       "      <td>0</td>\n",
       "      <td>0</td>\n",
       "      <td>0</td>\n",
       "      <td>1</td>\n",
       "      <td>0</td>\n",
       "      <td>0</td>\n",
       "      <td>0</td>\n",
       "      <td>0</td>\n",
       "    </tr>\n",
       "    <tr>\n",
       "      <th>412</th>\n",
       "      <td>0.0</td>\n",
       "      <td>25.0</td>\n",
       "      <td>1.0</td>\n",
       "      <td>0.0</td>\n",
       "      <td>0.0</td>\n",
       "      <td>1.0</td>\n",
       "      <td>15209.990</td>\n",
       "      <td>3072.7260</td>\n",
       "      <td>284.6584</td>\n",
       "      <td>0</td>\n",
       "      <td>...</td>\n",
       "      <td>0</td>\n",
       "      <td>0</td>\n",
       "      <td>0</td>\n",
       "      <td>0</td>\n",
       "      <td>1</td>\n",
       "      <td>0</td>\n",
       "      <td>0</td>\n",
       "      <td>0</td>\n",
       "      <td>0</td>\n",
       "      <td>0</td>\n",
       "    </tr>\n",
       "    <tr>\n",
       "      <th>70</th>\n",
       "      <td>1.0</td>\n",
       "      <td>27.0</td>\n",
       "      <td>1.0</td>\n",
       "      <td>0.0</td>\n",
       "      <td>0.0</td>\n",
       "      <td>1.0</td>\n",
       "      <td>0.000</td>\n",
       "      <td>0.0000</td>\n",
       "      <td>0.0000</td>\n",
       "      <td>1</td>\n",
       "      <td>...</td>\n",
       "      <td>0</td>\n",
       "      <td>0</td>\n",
       "      <td>1</td>\n",
       "      <td>0</td>\n",
       "      <td>0</td>\n",
       "      <td>0</td>\n",
       "      <td>0</td>\n",
       "      <td>0</td>\n",
       "      <td>0</td>\n",
       "      <td>0</td>\n",
       "    </tr>\n",
       "  </tbody>\n",
       "</table>\n",
       "<p>5 rows × 24 columns</p>\n",
       "</div>"
      ],
      "text/plain": [
       "     training   age  black  hispanic  married  no_degree       re74  \\\n",
       "284       0.0  28.0    1.0       0.0      1.0        0.0      0.000   \n",
       "358       0.0  19.0    1.0       0.0      0.0        1.0   1626.623   \n",
       "117       1.0  20.0    1.0       0.0      0.0        0.0      0.000   \n",
       "412       0.0  25.0    1.0       0.0      0.0        1.0  15209.990   \n",
       "70        1.0  27.0    1.0       0.0      0.0        1.0      0.000   \n",
       "\n",
       "          re75       re78  re74=0  ...  education_7.0  education_8.0  \\\n",
       "284     0.0000     0.0000       1  ...              0              0   \n",
       "358     0.0000     0.0000       0  ...              0              0   \n",
       "117   377.5686  1652.6370       1  ...              0              0   \n",
       "412  3072.7260   284.6584       0  ...              0              0   \n",
       "70      0.0000     0.0000       1  ...              0              0   \n",
       "\n",
       "     education_9.0  education_10.0  education_11.0  education_12.0  \\\n",
       "284              0               0               0               1   \n",
       "358              0               0               1               0   \n",
       "117              0               0               0               1   \n",
       "412              0               0               1               0   \n",
       "70               1               0               0               0   \n",
       "\n",
       "     education_13.0  education_14.0  education_15.0  education_16.0  \n",
       "284               0               0               0               0  \n",
       "358               0               0               0               0  \n",
       "117               0               0               0               0  \n",
       "412               0               0               0               0  \n",
       "70                0               0               0               0  \n",
       "\n",
       "[5 rows x 24 columns]"
      ]
     },
     "execution_count": 3,
     "metadata": {},
     "output_type": "execute_result"
    }
   ],
   "source": [
    "lalonde = pd.get_dummies(lalonde, columns=[\"education\"], drop_first=True)\n",
    "print(lalonde.shape)\n",
    "lalonde.head()"
   ]
  },
  {
   "cell_type": "markdown",
   "metadata": {},
   "source": [
    "### Variables selection\n",
    "Lastly, we extract the covariates, treatment and outcome variables"
   ]
  },
  {
   "cell_type": "code",
   "execution_count": 4,
   "metadata": {},
   "outputs": [
    {
     "data": {
      "text/plain": [
       "((445, 22), (445,), (445,))"
      ]
     },
     "execution_count": 4,
     "metadata": {},
     "output_type": "execute_result"
    }
   ],
   "source": [
    "a = lalonde.pop(\"training\")\n",
    "y = lalonde.pop(\"re78\")\n",
    "X = lalonde\n",
    "X.shape, a.shape, y.shape"
   ]
  },
  {
   "cell_type": "markdown",
   "metadata": {},
   "source": [
    "## The Model\n",
    "After defining the design matrix `X`, we can continue to define the causal model.\n",
    "\n",
    "In the spirit of Dehejia and Wahba's propensity-based analysis, \n",
    "we will use an Inverse Treatment Probability Weighting (IPTW, or IPW) causal model.  \n",
    "Briefly, this model will model the probability of participants to be assigned to job-training program and use it to emulate two equal-sized populations: one of those being assigned to the program and another of ones who don't.\n",
    "In this synthetic population, we could use the actual earnings in 1978 to estimate what would have happen if everyone were to join the program or everyone were to not be part of it at all.\n",
    "\n",
    "Before we define the causal model itself, we will need to use a machine learning model to estimate the propensity score $\\Pr[A=1|X]$ - the probability of each participant to be assigned to job training.  \n",
    "Following the design matrix we prepared above, and given the binary nature of our treatment, we will choose a logistic regression for this task."
   ]
  },
  {
   "cell_type": "code",
   "execution_count": 5,
   "metadata": {},
   "outputs": [],
   "source": [
    "from sklearn.linear_model import LogisticRegression\n",
    "\n",
    "learner = LogisticRegression(penalty='none',  # No regularization, new in scikit-learn 0.21.*\n",
    "                             solver='lbfgs',\n",
    "                             max_iter=500)    # Increaed to achieve convergence with 'lbfgs' solver"
   ]
  },
  {
   "cell_type": "markdown",
   "metadata": {},
   "source": [
    "Once we defined a learner, we can simply plug it into the causal model"
   ]
  },
  {
   "cell_type": "code",
   "execution_count": 6,
   "metadata": {},
   "outputs": [],
   "source": [
    "from causallib.estimation import IPW\n",
    "\n",
    "ipw = IPW(learner)"
   ]
  },
  {
   "cell_type": "markdown",
   "metadata": {},
   "source": [
    "## Estimating Causal Effect\n",
    "Once we defined the causal model (yes, that all it took), we can move on to estimate the effect of job-training on yearly earnings.\n",
    "\n",
    "First, we will fit our causal model.  \n",
    "Second, we'll predict the potential outcomes: what would be the earnings in 1978 if everyone were to join the job-training or everyone were to not join the training program.\n",
    "Third, we will use the two potential outcomes to estimate the effect: the difference of the two potential outcomes."
   ]
  },
  {
   "cell_type": "code",
   "execution_count": 7,
   "metadata": {},
   "outputs": [],
   "source": [
    "ipw.fit(X, a)\n",
    "outcomes = ipw.estimate_population_outcome(X, a, y)\n",
    "effect = ipw.estimate_effect(outcomes[1], outcomes[0])"
   ]
  },
  {
   "cell_type": "markdown",
   "metadata": {},
   "source": [
    "Checking the potential outcomes, we can see that the average earnings at the end of the study (1978) if everyone would have join the program (`1`) is 6141\\$ while the averge earnings if everyone would have not join the program (`0`) is 4598\\$."
   ]
  },
  {
   "cell_type": "code",
   "execution_count": 8,
   "metadata": {},
   "outputs": [
    {
     "data": {
      "text/plain": [
       "0.0    4598.414070\n",
       "1.0    6141.051856\n",
       "dtype: float64"
      ]
     },
     "execution_count": 8,
     "metadata": {},
     "output_type": "execute_result"
    }
   ],
   "source": [
    "outcomes"
   ]
  },
  {
   "cell_type": "markdown",
   "metadata": {},
   "source": [
    "Therefore we can conclude that the average additive effect (`diff`) of job training on income is 1543\\$."
   ]
  },
  {
   "cell_type": "code",
   "execution_count": 9,
   "metadata": {},
   "outputs": [
    {
     "data": {
      "text/plain": [
       "diff    1542.637786\n",
       "dtype: float64"
      ]
     },
     "execution_count": 9,
     "metadata": {},
     "output_type": "execute_result"
    }
   ],
   "source": [
    "effect"
   ]
  },
  {
   "cell_type": "markdown",
   "metadata": {},
   "source": [
    "Indeed, we can conclude that job-training accounts for an income gain of 1543\\$ on average."
   ]
  },
  {
   "cell_type": "markdown",
   "metadata": {},
   "source": [
    "### Unadjusted estimation\n",
    "To compare, we can ask what conclusion would have we achive if we did not control for confounding.  \n",
    "What would've been the result if we haven't adjusted for treatment assignment biases and treated the data as if it came from a randomized control trial?"
   ]
  },
  {
   "cell_type": "code",
   "execution_count": 10,
   "metadata": {},
   "outputs": [
    {
     "data": {
      "text/plain": [
       "diff    1794.342404\n",
       "dtype: float64"
      ]
     },
     "execution_count": 10,
     "metadata": {},
     "output_type": "execute_result"
    }
   ],
   "source": [
    "from causallib.estimation import MarginalOutcomeEstimator\n",
    "\n",
    "moe = MarginalOutcomeEstimator(None).fit(X, a, y)\n",
    "outcomes = moe.estimate_population_outcome(X, a, y)\n",
    "moe.estimate_effect(outcomes[1], outcomes[0])"
   ]
  },
  {
   "cell_type": "markdown",
   "metadata": {},
   "source": [
    "We can see that when failing to adjust for confounding factors, we overestimate the effect of job training on income by 252\\$.  \n",
    "This seemingly negligible bias accounts for \\~16\\% of our estimation, and probably due to the study being randomized in nature.\n",
    "\n",
    "To see why the differences between estimation methods, we can examine the how balanced were the treatment groups before and after IP weighting.  \n",
    "We can check that using a _Love plot_, a graphical way to present distribution distance between the treated and untreated. It plots the standardized-mean-difference between the treatment groups for each covariate marginally."
   ]
  },
  {
   "cell_type": "code",
   "execution_count": 11,
   "metadata": {},
   "outputs": [
    {
     "data": {
      "image/png": "[encoded data removed]",
      "text/plain": [
       "<Figure size 432x432 with 1 Axes>"
      ]
     },
     "metadata": {
      "needs_background": "light"
     },
     "output_type": "display_data"
    }
   ],
   "source": [
    "%matplotlib inline\n",
    "from causallib.evaluation import PropensityEvaluator\n",
    "\n",
    "evaluator = PropensityEvaluator(ipw)\n",
    "evaluation_results = evaluator.evaluate_simple(X, a, y, plots=[\"covariate_balance_love\"])\n",
    "\n",
    "fig = evaluation_results.plots[\"covariate_balance_love\"].get_figure()\n",
    "fig.set_size_inches(6, 6)  # set a more compact size than default\n",
    "fig;"
   ]
  },
  {
   "cell_type": "markdown",
   "metadata": {},
   "source": [
    "We can see that prior to applying IP-weighting (orange triangles), the maximal absolute mean-difference across treatment groups was around ~0.2 standard-deviations. \n",
    "This can easily bias a simple marginal comparison (i.e., simply check the outcome of treated against the outcome of untreated), since we see the groups are not marginally similar.  \n",
    "For example, one could argue that difference in outcome is contributed to the fact that the two treatment groups differ on their percentage of people owning a high-school diploma (`no_degree`).  \n",
    "Since the treatment groups have different distribution of characteristics, it should be accounted for in a causal inference analysis, for-example: the importance-sampling-like scheme applied by the IPW model. \n",
    "After balancing (blue dots), we see that the marginal difference between the groups' covariate distribution is much smaller on average, suggesting that the IPW model had successfully balanced the dataset."
   ]
  },
  {
   "cell_type": "code",
   "execution_count": null,
   "metadata": {},
   "outputs": [],
   "source": []
  }
 ],
 "metadata": {
  "kernelspec": {
   "display_name": "Python 3",
   "language": "python",
   "name": "python3"
  },
  "language_info": {
   "codemirror_mode": {
    "name": "ipython",
    "version": 3
   },
   "file_extension": ".py",
   "mimetype": "text/x-python",
   "name": "python",
   "nbconvert_exporter": "python",
   "pygments_lexer": "ipython3",
   "version": "3.6.8"
  }
 },
 "nbformat": 4,
 "nbformat_minor": 2
}

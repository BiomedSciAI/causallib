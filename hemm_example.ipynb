{
 "cells": [
  {
   "cell_type": "code",
   "execution_count": 1,
   "metadata": {},
   "outputs": [],
   "source": [
    "from causallib.contrib.hemm import HEMM"
   ]
  },
  {
   "cell_type": "code",
   "execution_count": 2,
   "metadata": {},
   "outputs": [],
   "source": [
    "from causallib.contrib.hemm.gen_ihdp_data import generateData"
   ]
  },
  {
   "cell_type": "code",
   "execution_count": 3,
   "metadata": {},
   "outputs": [],
   "source": [
    "from causallib.contrib.hemm.hemm_utilities import genSplits, returnIndices"
   ]
  },
  {
   "cell_type": "code",
   "execution_count": 4,
   "metadata": {},
   "outputs": [],
   "source": [
    "from causallib.contrib.hemm.hemm_utilities import getMeanandStd"
   ]
  },
  {
   "cell_type": "code",
   "execution_count": 5,
   "metadata": {},
   "outputs": [],
   "source": [
    "from causallib.contrib.hemm.hemm_outcome_models import BalancedNet, genLinearModule, genMLPModule"
   ]
  },
  {
   "cell_type": "code",
   "execution_count": 6,
   "metadata": {},
   "outputs": [
    {
     "name": "stdout",
     "output_type": "stream",
     "text": [
      "IHDP Data exists\n"
     ]
    }
   ],
   "source": [
    "data = generateData()"
   ]
  },
  {
   "cell_type": "code",
   "execution_count": 7,
   "metadata": {},
   "outputs": [],
   "source": [
    "#data"
   ]
  },
  {
   "cell_type": "code",
   "execution_count": 8,
   "metadata": {},
   "outputs": [],
   "source": [
    "import numpy as np\n",
    "import torch\n",
    "np.random.seed(0)\n",
    "# ###\n",
    "# i = 0 \n",
    "# outcomeModel='CF'\n",
    "# comp=2\n",
    "# lr=1e-3\n",
    "# batch_size=5\n",
    "# response='cont'\n",
    "# ###\n",
    "\n",
    "\n",
    "def experiment( i, comp=2, response='bin', outcomeModel='linear', lr=1e-3, batch_size=100):\n",
    "    Xtr = data['TRAIN']['x'][:,:,i]\n",
    "    Ttr = data['TRAIN']['t'][:,i]\n",
    "    Ytr = data['TRAIN']['yf'][:,i]\n",
    "\n",
    "    Ytr_ = np.ones_like(Ytr)\n",
    "\n",
    "    splits = genSplits(Ttr, Ytr_)\n",
    "\n",
    "    train, dev = returnIndices(splits)\n",
    "\n",
    "    n = Xtr.shape[0] \n",
    "\n",
    "\n",
    "    Xte = data['TEST']['x'][:,:,i]\n",
    "    Tte = data['TEST']['t'][:,i]\n",
    "    Yte = data['TEST']['yf'][:,i]\n",
    "\n",
    "    mu , std = getMeanandStd(Xtr)\n",
    "\n",
    "    Xdev = torch.from_numpy(Xtr[dev].astype('float64'))\n",
    "    Ydev = torch.from_numpy(Ytr[dev].astype('float64'))\n",
    "    Tdev = torch.from_numpy(Ttr[dev].astype('float64'))\n",
    "\n",
    "    Xtr = torch.from_numpy(Xtr[train].astype('float64'))\n",
    "    Ytr = torch.from_numpy(Ytr[train].astype('float64'))\n",
    "    Ttr = torch.from_numpy(Ttr[train].astype('float64'))\n",
    "\n",
    "\n",
    "    Xte = torch.from_numpy(Xte.astype('float64'))\n",
    "    Yte = torch.from_numpy(Yte.astype('float64'))\n",
    "    Tte = torch.from_numpy(Tte.astype('float64'))\n",
    "\n",
    "    torch.manual_seed(0)\n",
    "\n",
    "    \n",
    "    if outcomeModel == 'MLP':\n",
    "        outcomeModel = genMLPModule(Xte.shape[1], Xte.shape[1]/5, 2 )\n",
    "    elif outcomeModel == 'linear':\n",
    "        outcomeModel = genLinearModule(Xte.shape[1], 2 )\n",
    "    elif outcomeModel == 'CF':\n",
    "        outcomeModel = BalancedNet(Xte.shape[1], Xte.shape[1], 1 )\n",
    "        \n",
    "\n",
    "    model = HEMM(Xte.size()[1], comp, homo=True, mu=mu, std=std, bc=6, lamb=0.0000,\\\n",
    "                spread=.00,outcome_model=outcomeModel,sep_heads=True,epochs=500,\\\n",
    "                 learning_rate=lr,weight_decay=0.0001,metric='LL', use_p_correction=False,\\\n",
    "                 response=response,imb_fun=None,batch_size=batch_size )\n",
    "    \n",
    "\n",
    "\n",
    "    cd = model.fit(Xtr, Ttr,Ytr, validation_data=(Xdev, Tdev, Ydev))\n",
    "\n",
    "    Xtr = data['TRAIN']['x'][:,:,i]\n",
    "    Ttr = data['TRAIN']['t'][:,i]\n",
    "    Ytr = data['TRAIN']['yf'][:,i]\n",
    "\n",
    "    Xtr = torch.from_numpy(Xtr.astype('float64'))\n",
    "    Ytr = torch.from_numpy(Ytr.astype('float64'))\n",
    "    Ttr = torch.from_numpy(Ttr.astype('float64'))\n",
    "\n",
    "    inSampleITE  = model.estimate_individual_outcome(Xtr, Ttr)\n",
    "    outSampleITE = model.estimate_individual_outcome(Xte, Tte)\n",
    "    \n",
    "    #print (inSampleITE, type(inSampleITE))\n",
    "\n",
    "    output  = ((inSampleITE[1]-inSampleITE[0]).to_numpy(), (outSampleITE[1]-outSampleITE[0]).to_numpy())\n",
    "    \n",
    "    return output"
   ]
  },
  {
   "cell_type": "code",
   "execution_count": 9,
   "metadata": {},
   "outputs": [],
   "source": [
    "results = [experiment(0,outcomeModel='CF', comp=3,lr=1e-3,batch_size=50,response='cont') ]"
   ]
  },
  {
   "cell_type": "code",
   "execution_count": null,
   "metadata": {},
   "outputs": [],
   "source": []
  },
  {
   "cell_type": "code",
   "execution_count": 10,
   "metadata": {},
   "outputs": [],
   "source": [
    "from joblib import Parallel, delayed\n"
   ]
  },
  {
   "cell_type": "code",
   "execution_count": null,
   "metadata": {},
   "outputs": [],
   "source": [
    "results = Parallel(n_jobs=10)(delayed(experiment)(i=i, comp=3, response='cont', outcomeModel='CF', lr=1e-3, batch_size=10) for i in range(10))\n"
   ]
  },
  {
   "cell_type": "code",
   "execution_count": 26,
   "metadata": {},
   "outputs": [],
   "source": [
    "#experiment(i=0, comp=3, response='cont', outcomeModel='CF', lr=1e-3, batch_size=10) "
   ]
  },
  {
   "cell_type": "code",
   "execution_count": 27,
   "metadata": {},
   "outputs": [],
   "source": [
    "rootpehe = []\n",
    "for i in range(len(results)):\n",
    "    \n",
    "    if results[i] is None:\n",
    "        \n",
    "        continue\n",
    "    \n",
    "    difftr = (data['TRAIN']['mu1'][:, i] - data['TRAIN']['mu0'][:, i]) - results[i][0]\n",
    "\n",
    "    difftr = difftr**2\n",
    "    \n",
    "    diffte = (data['TEST']['mu1'][:, i] - data['TEST']['mu0'][:, i]) - results[i][1]\n",
    "\n",
    "    diffte = diffte**2\n",
    "\n",
    "    rootpehe.append( (np.sqrt(difftr.mean()), np.sqrt(diffte.mean()) ))\n",
    "    "
   ]
  },
  {
   "cell_type": "code",
   "execution_count": 28,
   "metadata": {},
   "outputs": [],
   "source": [
    "rootpehe = np.array(rootpehe)"
   ]
  },
  {
   "cell_type": "code",
   "execution_count": 29,
   "metadata": {},
   "outputs": [
    {
     "data": {
      "text/plain": [
       "array([1.12635803, 0.84228906, 0.82053145, 1.26380897, 1.06760059,\n",
       "       0.85831832, 0.84142457, 0.84366406, 5.63072984, 1.83672189])"
      ]
     },
     "execution_count": 29,
     "metadata": {},
     "output_type": "execute_result"
    }
   ],
   "source": [
    "rootpehe[:,0]"
   ]
  },
  {
   "cell_type": "code",
   "execution_count": 30,
   "metadata": {},
   "outputs": [
    {
     "name": "stdout",
     "output_type": "stream",
     "text": [
      "1.5131446772446633\n",
      "1.3892723853069118\n"
     ]
    }
   ],
   "source": [
    "print (rootpehe[:, 0].mean())\n",
    "print (rootpehe[:, 1].mean())"
   ]
  },
  {
   "cell_type": "code",
   "execution_count": null,
   "metadata": {},
   "outputs": [],
   "source": []
  }
 ],
 "metadata": {
  "kernelspec": {
   "display_name": "Python 3",
   "language": "python",
   "name": "python3"
  },
  "language_info": {
   "codemirror_mode": {
    "name": "ipython",
    "version": 3
   },
   "file_extension": ".py",
   "mimetype": "text/x-python",
   "name": "python",
   "nbconvert_exporter": "python",
   "pygments_lexer": "ipython3",
   "version": "3.7.5"
  }
 },
 "nbformat": 4,
 "nbformat_minor": 2
}
